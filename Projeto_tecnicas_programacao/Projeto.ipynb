{
 "cells": [
  {
   "cell_type": "markdown",
   "metadata": {},
   "source": [
    "# Projeto de Técnicas de Programação I\n",
    "\n",
    "Você trabalha em uma consultoria de dados que foi contratada para realizar a distribuição de materiais didáticos nas escolas da cidade do Rio de Janeiro. Sua missão é realizar tratamentos nos dados de acordo com as normas de padrão definidas pelo cliente e encontrar qual a melhor rota que um caminhão deve realizar para entregar os materiais didáticos de forma a otimizar o seu percurso.\n",
    "\n",
    "Para esse projeto você recebeu três arquivos:\n",
    "- escolas.csv: contém os dados das escolas\n",
    "- subprefeituras.csv: contém dados de quais bairros pertem a cada subprefeitura\n",
    "- material_didatico.csv: contém a quantidade de material didático que cada escola deve receber\n",
    "\n",
    "Como produto final, você deve entregar:\n",
    "- um arquivo csv no as linhas já estarão ordenas de acordo com a rota a ser seguida. Além disso, os dados devem estar no padrão especificado abaixo e contendo as seguintes colunas: id da escola, nome da escola, tipo da escola (EM, CIEP ou colégio), logradouro da entrega, número, bairro, subprefeitura, latitude, longitude e quantidade de material didático que deve ser entregue. O logradouro da escola deve estar em uma coluna diferente do número;\n",
    "- um arquivo csv com a quantidade total de material escolar por subprefeitura para que sejam contabilizados os custos por subprefeitura\n",
    "\n",
    "Como padrão dos dados, considere:\n",
    "- nome das colunas em snake_case\n",
    "- strings não devem conter acentos\n",
    "- todas as strings devem estar em maiúsculo\n",
    "- padronização do nome dos logradouros sem abreviação (Ex: R. deve estar como Rua)\n",
    "- latitude e longitude devem conter apenas 5 casas decimais\n",
    "- os ids da escola devem todos ser strings com 3 caracteres (Ex: '024')\n",
    "\n",
    "Desafio:\n",
    "\n",
    "Entregar um plot com a representação da melhor rota que você encontrou, por exemplo:\n",
    "<img src=\"rota.png\"  width=\"70%\" height=\"40%\">\n",
    "\n",
    "Obs: O otimizador não é a parte mais importante do projeto. Foque no tratamento dos dados e se preciso, pode reduzir a quantidade de escolas para rodar o otimizador.\n",
    "\n"
   ]
  },
  {
   "cell_type": "code",
   "execution_count": 1,
   "metadata": {},
   "outputs": [],
   "source": [
    "import pandas as pd\n",
    "import numpy as np\n",
    "from unidecode import unidecode\n",
    "import math\n",
    "import matplotlib.pyplot as plt"
   ]
  },
  {
   "cell_type": "code",
   "execution_count": 2,
   "metadata": {},
   "outputs": [],
   "source": [
    "df_escolas = pd.read_csv('escolas.csv', encoding='utf-8')\n",
    "df_mat_didatico = pd.read_csv('material_didatico.csv', encoding='utf-8')\n",
    "df_sub_pref = pd.read_csv('subprefeituras.csv', encoding='utf-8')"
   ]
  },
  {
   "cell_type": "markdown",
   "metadata": {},
   "source": [
    "### Realizando transformações e preparando os dados"
   ]
  },
  {
   "cell_type": "markdown",
   "metadata": {},
   "source": [
    "Como padrão dos dados, considere:\n",
    "- nome das colunas em snake_case\n",
    "- strings não devem conter acentos\n",
    "- todas as strings devem estar em maiúsculo\n",
    "- padronização do nome dos logradouros sem abreviação (Ex: R. deve estar como Rua)\n",
    "- latitude e longitude devem conter apenas 5 casas decimais\n",
    "- os ids da escola devem todos ser strings com 3 caracteres (Ex: '024')"
   ]
  },
  {
   "cell_type": "code",
   "execution_count": 3,
   "metadata": {},
   "outputs": [],
   "source": [
    "df_escolas_columns = df_escolas.columns"
   ]
  },
  {
   "cell_type": "code",
   "execution_count": 4,
   "metadata": {},
   "outputs": [],
   "source": [
    "# Transformando as colunas em snake_case e em minúsculo\n",
    "df_escolas_columns_snake = [unidecode(x).replace(\" \", \"\").lower() for x in df_escolas_columns]"
   ]
  },
  {
   "cell_type": "code",
   "execution_count": 5,
   "metadata": {},
   "outputs": [
    {
     "data": {
      "text/plain": [
       "['id', 'escolas_postos', 'bairro', 'endereco', 'lat', 'lon']"
      ]
     },
     "execution_count": 5,
     "metadata": {},
     "output_type": "execute_result"
    }
   ],
   "source": [
    "df_escolas_columns_snake"
   ]
  },
  {
   "cell_type": "code",
   "execution_count": 6,
   "metadata": {},
   "outputs": [
    {
     "data": {
      "text/html": [
       "<div>\n",
       "<style scoped>\n",
       "    .dataframe tbody tr th:only-of-type {\n",
       "        vertical-align: middle;\n",
       "    }\n",
       "\n",
       "    .dataframe tbody tr th {\n",
       "        vertical-align: top;\n",
       "    }\n",
       "\n",
       "    .dataframe thead th {\n",
       "        text-align: right;\n",
       "    }\n",
       "</style>\n",
       "<table border=\"1\" class=\"dataframe\">\n",
       "  <thead>\n",
       "    <tr style=\"text-align: right;\">\n",
       "      <th></th>\n",
       "      <th>id</th>\n",
       "      <th>escolas_postos</th>\n",
       "      <th>bairro</th>\n",
       "      <th>endereco</th>\n",
       "      <th>lat</th>\n",
       "      <th>lon</th>\n",
       "    </tr>\n",
       "  </thead>\n",
       "  <tbody>\n",
       "    <tr>\n",
       "      <th>0</th>\n",
       "      <td>178</td>\n",
       "      <td>CENTRO INTEGRADO DE EDUCAÇÃO PÚBLICA HENFIL</td>\n",
       "      <td>CAJU</td>\n",
       "      <td>Rua Carlos Seidl S/Nº</td>\n",
       "      <td>-22,880888</td>\n",
       "      <td>-43,225326</td>\n",
       "    </tr>\n",
       "    <tr>\n",
       "      <th>1</th>\n",
       "      <td>634</td>\n",
       "      <td>EM ALICE DO AMARAL PEIXOTO</td>\n",
       "      <td>BENFICA</td>\n",
       "      <td>Rua Ébano 187</td>\n",
       "      <td>-22,889574</td>\n",
       "      <td>-43,236202</td>\n",
       "    </tr>\n",
       "    <tr>\n",
       "      <th>2</th>\n",
       "      <td>483</td>\n",
       "      <td>EM CELESTINO SILVA</td>\n",
       "      <td>CENTRO</td>\n",
       "      <td>R. do Lavradio, 56</td>\n",
       "      <td>-22,909293</td>\n",
       "      <td>-43,183579</td>\n",
       "    </tr>\n",
       "    <tr>\n",
       "      <th>3</th>\n",
       "      <td>476</td>\n",
       "      <td>ESCOLA MUNICIPAL FLORIANO PEIXOTO</td>\n",
       "      <td>SÃO CRISTÓVÃO</td>\n",
       "      <td>Praça Argentina 20</td>\n",
       "      <td>-22,897629</td>\n",
       "      <td>-43,227456</td>\n",
       "    </tr>\n",
       "    <tr>\n",
       "      <th>4</th>\n",
       "      <td>132</td>\n",
       "      <td>EM PEREIRA PASSOS</td>\n",
       "      <td>RIO COMPRIDO</td>\n",
       "      <td>Praça Condessa Paulo de Frontin 45</td>\n",
       "      <td>-22,924412</td>\n",
       "      <td>-43,208579</td>\n",
       "    </tr>\n",
       "    <tr>\n",
       "      <th>...</th>\n",
       "      <td>...</td>\n",
       "      <td>...</td>\n",
       "      <td>...</td>\n",
       "      <td>...</td>\n",
       "      <td>...</td>\n",
       "      <td>...</td>\n",
       "    </tr>\n",
       "    <tr>\n",
       "      <th>147</th>\n",
       "      <td>474</td>\n",
       "      <td>EM ENGENHEIRO GASTÃO RANGEL</td>\n",
       "      <td>GUARATIBA</td>\n",
       "      <td>Estrada Do Magarça 9.183</td>\n",
       "      <td>-22,98046</td>\n",
       "      <td>-43,643545</td>\n",
       "    </tr>\n",
       "    <tr>\n",
       "      <th>148</th>\n",
       "      <td>301</td>\n",
       "      <td>EM JONATAS SERRANO</td>\n",
       "      <td>GUARATIBA</td>\n",
       "      <td>Estrada Do Mato Alto, S/Nº</td>\n",
       "      <td>-22,953163</td>\n",
       "      <td>-43,577409</td>\n",
       "    </tr>\n",
       "    <tr>\n",
       "      <th>149</th>\n",
       "      <td>215</td>\n",
       "      <td>E.M. NARCISA AMALIA</td>\n",
       "      <td>ILHA DE GUARATIBA</td>\n",
       "      <td>Estrada Teodoreto de Camargo S/N.º</td>\n",
       "      <td>-23,009084</td>\n",
       "      <td>-43,537582</td>\n",
       "    </tr>\n",
       "    <tr>\n",
       "      <th>150</th>\n",
       "      <td>606</td>\n",
       "      <td>EM PROFESSOR CASTILHO</td>\n",
       "      <td>ILHA DE GUARATIBA</td>\n",
       "      <td>Caminho da Matriz 4406</td>\n",
       "      <td>-22,994124</td>\n",
       "      <td>-43,593683</td>\n",
       "    </tr>\n",
       "    <tr>\n",
       "      <th>151</th>\n",
       "      <td>69</td>\n",
       "      <td>ESCOLA MUNICIPAL CARDEAL ARCOVERDE</td>\n",
       "      <td>MADUREIRA</td>\n",
       "      <td>Rua Agostinho Barbalho 401</td>\n",
       "      <td>-22,876082</td>\n",
       "      <td>-43,343369</td>\n",
       "    </tr>\n",
       "  </tbody>\n",
       "</table>\n",
       "<p>152 rows × 6 columns</p>\n",
       "</div>"
      ],
      "text/plain": [
       "      id                               escolas_postos             bairro  \\\n",
       "0    178  CENTRO INTEGRADO DE EDUCAÇÃO PÚBLICA HENFIL               CAJU   \n",
       "1    634                   EM ALICE DO AMARAL PEIXOTO            BENFICA   \n",
       "2    483                           EM CELESTINO SILVA             CENTRO   \n",
       "3    476            ESCOLA MUNICIPAL FLORIANO PEIXOTO      SÃO CRISTÓVÃO   \n",
       "4    132                            EM PEREIRA PASSOS       RIO COMPRIDO   \n",
       "..   ...                                          ...                ...   \n",
       "147  474                  EM ENGENHEIRO GASTÃO RANGEL          GUARATIBA   \n",
       "148  301                           EM JONATAS SERRANO          GUARATIBA   \n",
       "149  215                          E.M. NARCISA AMALIA  ILHA DE GUARATIBA   \n",
       "150  606                        EM PROFESSOR CASTILHO  ILHA DE GUARATIBA   \n",
       "151   69           ESCOLA MUNICIPAL CARDEAL ARCOVERDE          MADUREIRA   \n",
       "\n",
       "                               endereco         lat         lon  \n",
       "0                 Rua Carlos Seidl S/Nº  -22,880888  -43,225326  \n",
       "1                         Rua Ébano 187  -22,889574  -43,236202  \n",
       "2                    R. do Lavradio, 56  -22,909293  -43,183579  \n",
       "3                    Praça Argentina 20  -22,897629  -43,227456  \n",
       "4    Praça Condessa Paulo de Frontin 45  -22,924412  -43,208579  \n",
       "..                                  ...         ...         ...  \n",
       "147            Estrada Do Magarça 9.183   -22,98046  -43,643545  \n",
       "148          Estrada Do Mato Alto, S/Nº  -22,953163  -43,577409  \n",
       "149  Estrada Teodoreto de Camargo S/N.º  -23,009084  -43,537582  \n",
       "150              Caminho da Matriz 4406  -22,994124  -43,593683  \n",
       "151          Rua Agostinho Barbalho 401  -22,876082  -43,343369  \n",
       "\n",
       "[152 rows x 6 columns]"
      ]
     },
     "execution_count": 6,
     "metadata": {},
     "output_type": "execute_result"
    }
   ],
   "source": [
    "novos_nomes_colunas = dict(zip(df_escolas.columns, df_escolas_columns_snake))\n",
    "df_escolas = df_escolas.rename(columns=novos_nomes_colunas)\n",
    "df_escolas"
   ]
  },
  {
   "cell_type": "code",
   "execution_count": 7,
   "metadata": {},
   "outputs": [
    {
     "data": {
      "text/plain": [
       "array(['178', '634', '483', '476', '132', '017', '055', '490', '600',\n",
       "       '089', '387', '331', '450', '558', '413', '540', '309', '268',\n",
       "       '523', '035', '011', '226', '638', '126', '180', '163', '361',\n",
       "       '280', '060', '587', '653', '660', '382', '217', '378', '429',\n",
       "       '025', '373', '624', '157', '020', '117', '502', '351', '135',\n",
       "       '388', '440', '259', '422', '041', '537', '230', '379', '146',\n",
       "       '566', '498', '663', '121', '161', '263', '118', '140', '260',\n",
       "       '069', '090', '274', '676', '390', '608', '589', '256', '091',\n",
       "       '248', '623', '603', '673', '520', '412', '031', '514', '023',\n",
       "       '415', '016', '570', '528', '414', '690', '202', '550', '211',\n",
       "       '206', '492', '466', '636', '527', '586', '080', '398', '175',\n",
       "       '308', '576', '495', '641', '689', '171', '477', '687', '568',\n",
       "       '399', '255', '262', '616', '320', '144', '534', '342', '052',\n",
       "       '139', '323', '573', '560', '246', '319', '584', '311', '316',\n",
       "       '497', '297', '068', '515', '289', '210', '474', '301', '215',\n",
       "       '606'], dtype=object)"
      ]
     },
     "execution_count": 7,
     "metadata": {},
     "output_type": "execute_result"
    }
   ],
   "source": [
    "# Transformando os ids em 3 dígitos com zero à esquerda\n",
    "df_escolas['id'] = [str(id_).zfill(3) for id_ in df_escolas['id']]\n",
    "df_escolas['id'].unique()"
   ]
  },
  {
   "cell_type": "code",
   "execution_count": 8,
   "metadata": {},
   "outputs": [
    {
     "data": {
      "text/html": [
       "<div>\n",
       "<style scoped>\n",
       "    .dataframe tbody tr th:only-of-type {\n",
       "        vertical-align: middle;\n",
       "    }\n",
       "\n",
       "    .dataframe tbody tr th {\n",
       "        vertical-align: top;\n",
       "    }\n",
       "\n",
       "    .dataframe thead th {\n",
       "        text-align: right;\n",
       "    }\n",
       "</style>\n",
       "<table border=\"1\" class=\"dataframe\">\n",
       "  <thead>\n",
       "    <tr style=\"text-align: right;\">\n",
       "      <th></th>\n",
       "      <th>id</th>\n",
       "      <th>escolas_postos</th>\n",
       "      <th>bairro</th>\n",
       "      <th>endereco</th>\n",
       "      <th>lat</th>\n",
       "      <th>lon</th>\n",
       "    </tr>\n",
       "  </thead>\n",
       "  <tbody>\n",
       "    <tr>\n",
       "      <th>0</th>\n",
       "      <td>178</td>\n",
       "      <td>CENTRO INTEGRADO DE EDUCACAO PUBLICA HENFIL</td>\n",
       "      <td>CAJU</td>\n",
       "      <td>RUA CARLOS SEIDL S/NO</td>\n",
       "      <td>-22,880888</td>\n",
       "      <td>-43,225326</td>\n",
       "    </tr>\n",
       "    <tr>\n",
       "      <th>1</th>\n",
       "      <td>634</td>\n",
       "      <td>EM ALICE DO AMARAL PEIXOTO</td>\n",
       "      <td>BENFICA</td>\n",
       "      <td>RUA EBANO 187</td>\n",
       "      <td>-22,889574</td>\n",
       "      <td>-43,236202</td>\n",
       "    </tr>\n",
       "    <tr>\n",
       "      <th>2</th>\n",
       "      <td>483</td>\n",
       "      <td>EM CELESTINO SILVA</td>\n",
       "      <td>CENTRO</td>\n",
       "      <td>R. DO LAVRADIO, 56</td>\n",
       "      <td>-22,909293</td>\n",
       "      <td>-43,183579</td>\n",
       "    </tr>\n",
       "    <tr>\n",
       "      <th>3</th>\n",
       "      <td>476</td>\n",
       "      <td>ESCOLA MUNICIPAL FLORIANO PEIXOTO</td>\n",
       "      <td>SAO CRISTOVAO</td>\n",
       "      <td>PRACA ARGENTINA 20</td>\n",
       "      <td>-22,897629</td>\n",
       "      <td>-43,227456</td>\n",
       "    </tr>\n",
       "    <tr>\n",
       "      <th>4</th>\n",
       "      <td>132</td>\n",
       "      <td>EM PEREIRA PASSOS</td>\n",
       "      <td>RIO COMPRIDO</td>\n",
       "      <td>PRACA CONDESSA PAULO DE FRONTIN 45</td>\n",
       "      <td>-22,924412</td>\n",
       "      <td>-43,208579</td>\n",
       "    </tr>\n",
       "    <tr>\n",
       "      <th>...</th>\n",
       "      <td>...</td>\n",
       "      <td>...</td>\n",
       "      <td>...</td>\n",
       "      <td>...</td>\n",
       "      <td>...</td>\n",
       "      <td>...</td>\n",
       "    </tr>\n",
       "    <tr>\n",
       "      <th>147</th>\n",
       "      <td>474</td>\n",
       "      <td>EM ENGENHEIRO GASTAO RANGEL</td>\n",
       "      <td>GUARATIBA</td>\n",
       "      <td>ESTRADA DO MAGARCA 9.183</td>\n",
       "      <td>-22,98046</td>\n",
       "      <td>-43,643545</td>\n",
       "    </tr>\n",
       "    <tr>\n",
       "      <th>148</th>\n",
       "      <td>301</td>\n",
       "      <td>EM JONATAS SERRANO</td>\n",
       "      <td>GUARATIBA</td>\n",
       "      <td>ESTRADA DO MATO ALTO, S/NO</td>\n",
       "      <td>-22,953163</td>\n",
       "      <td>-43,577409</td>\n",
       "    </tr>\n",
       "    <tr>\n",
       "      <th>149</th>\n",
       "      <td>215</td>\n",
       "      <td>E.M. NARCISA AMALIA</td>\n",
       "      <td>ILHA DE GUARATIBA</td>\n",
       "      <td>ESTRADA TEODORETO DE CAMARGO S/N.O</td>\n",
       "      <td>-23,009084</td>\n",
       "      <td>-43,537582</td>\n",
       "    </tr>\n",
       "    <tr>\n",
       "      <th>150</th>\n",
       "      <td>606</td>\n",
       "      <td>EM PROFESSOR CASTILHO</td>\n",
       "      <td>ILHA DE GUARATIBA</td>\n",
       "      <td>CAMINHO DA MATRIZ 4406</td>\n",
       "      <td>-22,994124</td>\n",
       "      <td>-43,593683</td>\n",
       "    </tr>\n",
       "    <tr>\n",
       "      <th>151</th>\n",
       "      <td>069</td>\n",
       "      <td>ESCOLA MUNICIPAL CARDEAL ARCOVERDE</td>\n",
       "      <td>MADUREIRA</td>\n",
       "      <td>RUA AGOSTINHO BARBALHO 401</td>\n",
       "      <td>-22,876082</td>\n",
       "      <td>-43,343369</td>\n",
       "    </tr>\n",
       "  </tbody>\n",
       "</table>\n",
       "<p>152 rows × 6 columns</p>\n",
       "</div>"
      ],
      "text/plain": [
       "      id                               escolas_postos             bairro  \\\n",
       "0    178  CENTRO INTEGRADO DE EDUCACAO PUBLICA HENFIL               CAJU   \n",
       "1    634                   EM ALICE DO AMARAL PEIXOTO            BENFICA   \n",
       "2    483                           EM CELESTINO SILVA             CENTRO   \n",
       "3    476            ESCOLA MUNICIPAL FLORIANO PEIXOTO      SAO CRISTOVAO   \n",
       "4    132                            EM PEREIRA PASSOS       RIO COMPRIDO   \n",
       "..   ...                                          ...                ...   \n",
       "147  474                  EM ENGENHEIRO GASTAO RANGEL          GUARATIBA   \n",
       "148  301                           EM JONATAS SERRANO          GUARATIBA   \n",
       "149  215                          E.M. NARCISA AMALIA  ILHA DE GUARATIBA   \n",
       "150  606                        EM PROFESSOR CASTILHO  ILHA DE GUARATIBA   \n",
       "151  069           ESCOLA MUNICIPAL CARDEAL ARCOVERDE          MADUREIRA   \n",
       "\n",
       "                               endereco         lat         lon  \n",
       "0                 RUA CARLOS SEIDL S/NO  -22,880888  -43,225326  \n",
       "1                         RUA EBANO 187  -22,889574  -43,236202  \n",
       "2                    R. DO LAVRADIO, 56  -22,909293  -43,183579  \n",
       "3                    PRACA ARGENTINA 20  -22,897629  -43,227456  \n",
       "4    PRACA CONDESSA PAULO DE FRONTIN 45  -22,924412  -43,208579  \n",
       "..                                  ...         ...         ...  \n",
       "147            ESTRADA DO MAGARCA 9.183   -22,98046  -43,643545  \n",
       "148          ESTRADA DO MATO ALTO, S/NO  -22,953163  -43,577409  \n",
       "149  ESTRADA TEODORETO DE CAMARGO S/N.O  -23,009084  -43,537582  \n",
       "150              CAMINHO DA MATRIZ 4406  -22,994124  -43,593683  \n",
       "151          RUA AGOSTINHO BARBALHO 401  -22,876082  -43,343369  \n",
       "\n",
       "[152 rows x 6 columns]"
      ]
     },
     "execution_count": 8,
     "metadata": {},
     "output_type": "execute_result"
    }
   ],
   "source": [
    "# Removendo acentos no df escolas\n",
    "df_escolas[\"escolas_postos\"] = df_escolas[\"escolas_postos\"].apply(lambda x: unidecode(x).upper())\n",
    "df_escolas[\"bairro\"] = df_escolas[\"bairro\"].apply(lambda x: unidecode(x).upper())\n",
    "df_escolas['endereco'] = df_escolas['endereco'].apply(lambda x: unidecode(x).upper())\n",
    "df_escolas"
   ]
  },
  {
   "cell_type": "code",
   "execution_count": 9,
   "metadata": {},
   "outputs": [
    {
     "name": "stdout",
     "output_type": "stream",
     "text": [
      "<class 'pandas.core.frame.DataFrame'>\n",
      "RangeIndex: 152 entries, 0 to 151\n",
      "Data columns (total 6 columns):\n",
      " #   Column          Non-Null Count  Dtype \n",
      "---  ------          --------------  ----- \n",
      " 0   id              152 non-null    object\n",
      " 1   escolas_postos  152 non-null    object\n",
      " 2   bairro          152 non-null    object\n",
      " 3   endereco        152 non-null    object\n",
      " 4   lat             152 non-null    object\n",
      " 5   lon             152 non-null    object\n",
      "dtypes: object(6)\n",
      "memory usage: 7.2+ KB\n"
     ]
    }
   ],
   "source": [
    "df_escolas.info()"
   ]
  },
  {
   "cell_type": "code",
   "execution_count": 10,
   "metadata": {},
   "outputs": [
    {
     "data": {
      "text/plain": [
       "array(['RUA', 'R', 'PRACA', 'AVENIDA', 'AV', 'BOULEVARD', 'PCA', 'ESTR',\n",
       "       'ESTRADA', 'CAMINHO'], dtype=object)"
      ]
     },
     "execution_count": 10,
     "metadata": {},
     "output_type": "execute_result"
    }
   ],
   "source": [
    "# Criando a coluna logradouro\n",
    "df_escolas['logradouro'] = ''\n",
    "for i in range(len(df_escolas)):\n",
    "    df_escolas['logradouro'][i] = df_escolas['endereco'][i].split(' ')[0].replace('.' ,'')\n",
    "    \n",
    "df_escolas['logradouro'].unique()"
   ]
  },
  {
   "cell_type": "code",
   "execution_count": 11,
   "metadata": {},
   "outputs": [
    {
     "data": {
      "text/plain": [
       "array(['RUA', 'PRACA', 'AVENIDA', 'BOULEVARD', 'ESTRADA'], dtype=object)"
      ]
     },
     "execution_count": 11,
     "metadata": {},
     "output_type": "execute_result"
    }
   ],
   "source": [
    "# Padronizando o logradouro com uso de dicionário\n",
    "mapeamento = {\n",
    "    'R': 'RUA',\n",
    "    'AV': 'AVENIDA',\n",
    "    'PCA': 'PRACA',\n",
    "    'ESTR': 'ESTRADA',\n",
    "    'CAMINHO': 'ESTRADA'\n",
    "}\n",
    "\n",
    "df_escolas['logradouro'] = df_escolas['logradouro'].replace(mapeamento)\n",
    "df_escolas['logradouro'].unique()"
   ]
  },
  {
   "cell_type": "code",
   "execution_count": 12,
   "metadata": {},
   "outputs": [],
   "source": [
    "# Criando a coluna número\n",
    "df_escolas['numero'] = ''\n",
    "for i in range(len(df_escolas)):\n",
    "    df_escolas['numero'][i] = df_escolas['endereco'][i].split(' ')[-1]"
   ]
  },
  {
   "cell_type": "code",
   "execution_count": 13,
   "metadata": {},
   "outputs": [],
   "source": [
    "# Lidando com os valores semm número na coluna número. O que não for número, recebe -1\n",
    "def extrair_numero(valor):\n",
    "    try:\n",
    "        return int(valor)\n",
    "    except ValueError:\n",
    "        return -1"
   ]
  },
  {
   "cell_type": "code",
   "execution_count": 14,
   "metadata": {},
   "outputs": [
    {
     "data": {
      "text/plain": [
       "-1       62\n",
       " 401      5\n",
       " 148      4\n",
       " 20       3\n",
       " 109      2\n",
       "         ..\n",
       " 28       1\n",
       " 579      1\n",
       " 268      1\n",
       " 187      1\n",
       " 4406     1\n",
       "Name: numero, Length: 76, dtype: int64"
      ]
     },
     "execution_count": 14,
     "metadata": {},
     "output_type": "execute_result"
    }
   ],
   "source": [
    "#  aplicando a função extrair_numero a cada valor na coluna número\n",
    "df_escolas['numero'] = df_escolas['numero'].apply(lambda x: extrair_numero(x))\n",
    "df_escolas['numero'].value_counts()"
   ]
  },
  {
   "cell_type": "markdown",
   "metadata": {},
   "source": [
    "### Lidando com latitude e longitude"
   ]
  },
  {
   "cell_type": "code",
   "execution_count": 15,
   "metadata": {},
   "outputs": [
    {
     "name": "stdout",
     "output_type": "stream",
     "text": [
      "<class 'pandas.core.frame.DataFrame'>\n",
      "RangeIndex: 152 entries, 0 to 151\n",
      "Data columns (total 8 columns):\n",
      " #   Column          Non-Null Count  Dtype \n",
      "---  ------          --------------  ----- \n",
      " 0   id              152 non-null    object\n",
      " 1   escolas_postos  152 non-null    object\n",
      " 2   bairro          152 non-null    object\n",
      " 3   endereco        152 non-null    object\n",
      " 4   lat             152 non-null    object\n",
      " 5   lon             152 non-null    object\n",
      " 6   logradouro      152 non-null    object\n",
      " 7   numero          152 non-null    int64 \n",
      "dtypes: int64(1), object(7)\n",
      "memory usage: 9.6+ KB\n"
     ]
    }
   ],
   "source": [
    "df_escolas.info()"
   ]
  },
  {
   "cell_type": "code",
   "execution_count": 16,
   "metadata": {},
   "outputs": [],
   "source": [
    "# Aplicando replace em lat e colocando 5 casas decimais\n",
    "df_escolas['lat'] = df_escolas['lat'].str.replace(',','.').astype(float).round(5)"
   ]
  },
  {
   "cell_type": "code",
   "execution_count": 17,
   "metadata": {},
   "outputs": [
    {
     "data": {
      "text/plain": [
       "count    1.520000e+02\n",
       "mean    -1.506605e+05\n",
       "std      1.857184e+06\n",
       "min     -2.289693e+07\n",
       "25%     -2.292686e+01\n",
       "50%     -2.289558e+01\n",
       "75%     -2.287212e+01\n",
       "max     -2.274828e+01\n",
       "Name: lat, dtype: float64"
      ]
     },
     "execution_count": 17,
     "metadata": {},
     "output_type": "execute_result"
    }
   ],
   "source": [
    "# Diferença de Grandeza Decimal\n",
    "df_escolas['lat'].describe()"
   ]
  },
  {
   "cell_type": "code",
   "execution_count": 18,
   "metadata": {},
   "outputs": [],
   "source": [
    "# Selecionado todas as grandezas com muita diferença pelo id\n",
    "id_maiores = df_escolas.query(\"lat < -1e+02\")['id']"
   ]
  },
  {
   "cell_type": "code",
   "execution_count": 19,
   "metadata": {},
   "outputs": [],
   "source": [
    "# Removemos esses ids maiores\n",
    "df_escolas = df_escolas.drop(df_escolas[df_escolas['id'].isin(id_maiores)].index, axis=0)"
   ]
  },
  {
   "cell_type": "code",
   "execution_count": 20,
   "metadata": {},
   "outputs": [
    {
     "data": {
      "text/plain": [
       "count    150.000000\n",
       "mean     -22.900104\n",
       "std        0.049266\n",
       "min      -23.019810\n",
       "25%      -22.926855\n",
       "50%      -22.895580\n",
       "75%      -22.871940\n",
       "max      -22.748280\n",
       "Name: lat, dtype: float64"
      ]
     },
     "execution_count": 20,
     "metadata": {},
     "output_type": "execute_result"
    }
   ],
   "source": [
    "df_escolas['lat'].describe()"
   ]
  },
  {
   "cell_type": "markdown",
   "metadata": {},
   "source": [
    "Realizado o mesmo processo em longitude"
   ]
  },
  {
   "cell_type": "code",
   "execution_count": 21,
   "metadata": {},
   "outputs": [
    {
     "data": {
      "text/plain": [
       "count    150.000000\n",
       "mean     -43.364497\n",
       "std        0.149356\n",
       "min      -43.697350\n",
       "25%      -43.449598\n",
       "50%      -43.333635\n",
       "75%      -43.248400\n",
       "max      -43.168880\n",
       "Name: lon, dtype: float64"
      ]
     },
     "execution_count": 21,
     "metadata": {},
     "output_type": "execute_result"
    }
   ],
   "source": [
    "df_escolas['lon'] = df_escolas['lon'].str.replace(',','.').astype(float).round(5)\n",
    "df_escolas['lon'].describe()"
   ]
  },
  {
   "cell_type": "code",
   "execution_count": 22,
   "metadata": {},
   "outputs": [
    {
     "name": "stdout",
     "output_type": "stream",
     "text": [
      "<class 'pandas.core.frame.DataFrame'>\n",
      "Int64Index: 150 entries, 0 to 151\n",
      "Data columns (total 8 columns):\n",
      " #   Column          Non-Null Count  Dtype  \n",
      "---  ------          --------------  -----  \n",
      " 0   id              150 non-null    object \n",
      " 1   escolas_postos  150 non-null    object \n",
      " 2   bairro          150 non-null    object \n",
      " 3   endereco        150 non-null    object \n",
      " 4   lat             150 non-null    float64\n",
      " 5   lon             150 non-null    float64\n",
      " 6   logradouro      150 non-null    object \n",
      " 7   numero          150 non-null    int64  \n",
      "dtypes: float64(2), int64(1), object(5)\n",
      "memory usage: 10.5+ KB\n"
     ]
    }
   ],
   "source": [
    "df_escolas.info()"
   ]
  },
  {
   "cell_type": "code",
   "execution_count": 23,
   "metadata": {},
   "outputs": [
    {
     "data": {
      "text/plain": [
       "EM                              88\n",
       "ESCOLA MUNICIPAL                20\n",
       "E.M                             19\n",
       "CIEP                            18\n",
       "CENTRO INTEGRADO DE EDUCACAO     4\n",
       "COLEGIO MUNICIPAL                1\n",
       "Name: tipo_escola, dtype: int64"
      ]
     },
     "execution_count": 23,
     "metadata": {},
     "output_type": "execute_result"
    }
   ],
   "source": [
    "# Categorizando os nomes das escolas de acordo com esses padrao\n",
    "padrao = r'(CENTRO INTEGRADO DE EDUCACAO|EM|E\\.M|E\\.M\\.|ESCOLA MUNICIPAL|CIEP|COLEGIO MUNICIPAL)'\n",
    "df_escolas['tipo_escola'] = df_escolas['escolas_postos'].str.extract(padrao)\n",
    "df_escolas['tipo_escola'].value_counts()"
   ]
  },
  {
   "cell_type": "code",
   "execution_count": 24,
   "metadata": {},
   "outputs": [
    {
     "data": {
      "text/plain": [
       "EM      127\n",
       "CIEP     18\n",
       "CEI       4\n",
       "CM        1\n",
       "Name: tipo_escola, dtype: int64"
      ]
     },
     "execution_count": 24,
     "metadata": {},
     "output_type": "execute_result"
    }
   ],
   "source": [
    "# Tratando com dicionário novamente\n",
    "mapeamento = {\n",
    "    'EM': 'EM',\n",
    "    'ESCOLA MUNICIPAL': 'EM',\n",
    "    'E.M': 'EM',\n",
    "    'CENTRO INTEGRADO DE EDUCACAO': 'CEI',\n",
    "    'COLEGIO MUNICIPAL': 'CM'\n",
    "}\n",
    "\n",
    "df_escolas['tipo_escola'] = df_escolas['tipo_escola'].replace(mapeamento)\n",
    "df_escolas['tipo_escola'].value_counts()"
   ]
  },
  {
   "cell_type": "code",
   "execution_count": 25,
   "metadata": {},
   "outputs": [
    {
     "data": {
      "text/html": [
       "<div>\n",
       "<style scoped>\n",
       "    .dataframe tbody tr th:only-of-type {\n",
       "        vertical-align: middle;\n",
       "    }\n",
       "\n",
       "    .dataframe tbody tr th {\n",
       "        vertical-align: top;\n",
       "    }\n",
       "\n",
       "    .dataframe thead th {\n",
       "        text-align: right;\n",
       "    }\n",
       "</style>\n",
       "<table border=\"1\" class=\"dataframe\">\n",
       "  <thead>\n",
       "    <tr style=\"text-align: right;\">\n",
       "      <th></th>\n",
       "      <th>id</th>\n",
       "      <th>escolas_postos</th>\n",
       "      <th>bairro</th>\n",
       "      <th>endereco</th>\n",
       "      <th>lat</th>\n",
       "      <th>lon</th>\n",
       "      <th>logradouro</th>\n",
       "      <th>numero</th>\n",
       "      <th>tipo_escola</th>\n",
       "    </tr>\n",
       "  </thead>\n",
       "  <tbody>\n",
       "    <tr>\n",
       "      <th>0</th>\n",
       "      <td>178</td>\n",
       "      <td>CENTRO INTEGRADO DE EDUCACAO PUBLICA HENFIL</td>\n",
       "      <td>CAJU</td>\n",
       "      <td>RUA CARLOS SEIDL S/NO</td>\n",
       "      <td>-22.88089</td>\n",
       "      <td>-43.22533</td>\n",
       "      <td>RUA</td>\n",
       "      <td>-1</td>\n",
       "      <td>CEI</td>\n",
       "    </tr>\n",
       "    <tr>\n",
       "      <th>1</th>\n",
       "      <td>634</td>\n",
       "      <td>EM ALICE DO AMARAL PEIXOTO</td>\n",
       "      <td>BENFICA</td>\n",
       "      <td>RUA EBANO 187</td>\n",
       "      <td>-22.88957</td>\n",
       "      <td>-43.23620</td>\n",
       "      <td>RUA</td>\n",
       "      <td>187</td>\n",
       "      <td>EM</td>\n",
       "    </tr>\n",
       "    <tr>\n",
       "      <th>2</th>\n",
       "      <td>483</td>\n",
       "      <td>EM CELESTINO SILVA</td>\n",
       "      <td>CENTRO</td>\n",
       "      <td>R. DO LAVRADIO, 56</td>\n",
       "      <td>-22.90929</td>\n",
       "      <td>-43.18358</td>\n",
       "      <td>RUA</td>\n",
       "      <td>56</td>\n",
       "      <td>EM</td>\n",
       "    </tr>\n",
       "    <tr>\n",
       "      <th>3</th>\n",
       "      <td>476</td>\n",
       "      <td>ESCOLA MUNICIPAL FLORIANO PEIXOTO</td>\n",
       "      <td>SAO CRISTOVAO</td>\n",
       "      <td>PRACA ARGENTINA 20</td>\n",
       "      <td>-22.89763</td>\n",
       "      <td>-43.22746</td>\n",
       "      <td>PRACA</td>\n",
       "      <td>20</td>\n",
       "      <td>EM</td>\n",
       "    </tr>\n",
       "    <tr>\n",
       "      <th>4</th>\n",
       "      <td>132</td>\n",
       "      <td>EM PEREIRA PASSOS</td>\n",
       "      <td>RIO COMPRIDO</td>\n",
       "      <td>PRACA CONDESSA PAULO DE FRONTIN 45</td>\n",
       "      <td>-22.92441</td>\n",
       "      <td>-43.20858</td>\n",
       "      <td>PRACA</td>\n",
       "      <td>45</td>\n",
       "      <td>EM</td>\n",
       "    </tr>\n",
       "    <tr>\n",
       "      <th>...</th>\n",
       "      <td>...</td>\n",
       "      <td>...</td>\n",
       "      <td>...</td>\n",
       "      <td>...</td>\n",
       "      <td>...</td>\n",
       "      <td>...</td>\n",
       "      <td>...</td>\n",
       "      <td>...</td>\n",
       "      <td>...</td>\n",
       "    </tr>\n",
       "    <tr>\n",
       "      <th>147</th>\n",
       "      <td>474</td>\n",
       "      <td>EM ENGENHEIRO GASTAO RANGEL</td>\n",
       "      <td>GUARATIBA</td>\n",
       "      <td>ESTRADA DO MAGARCA 9.183</td>\n",
       "      <td>-22.98046</td>\n",
       "      <td>-43.64354</td>\n",
       "      <td>ESTRADA</td>\n",
       "      <td>-1</td>\n",
       "      <td>EM</td>\n",
       "    </tr>\n",
       "    <tr>\n",
       "      <th>148</th>\n",
       "      <td>301</td>\n",
       "      <td>EM JONATAS SERRANO</td>\n",
       "      <td>GUARATIBA</td>\n",
       "      <td>ESTRADA DO MATO ALTO, S/NO</td>\n",
       "      <td>-22.95316</td>\n",
       "      <td>-43.57741</td>\n",
       "      <td>ESTRADA</td>\n",
       "      <td>-1</td>\n",
       "      <td>EM</td>\n",
       "    </tr>\n",
       "    <tr>\n",
       "      <th>149</th>\n",
       "      <td>215</td>\n",
       "      <td>E.M. NARCISA AMALIA</td>\n",
       "      <td>ILHA DE GUARATIBA</td>\n",
       "      <td>ESTRADA TEODORETO DE CAMARGO S/N.O</td>\n",
       "      <td>-23.00908</td>\n",
       "      <td>-43.53758</td>\n",
       "      <td>ESTRADA</td>\n",
       "      <td>-1</td>\n",
       "      <td>EM</td>\n",
       "    </tr>\n",
       "    <tr>\n",
       "      <th>150</th>\n",
       "      <td>606</td>\n",
       "      <td>EM PROFESSOR CASTILHO</td>\n",
       "      <td>ILHA DE GUARATIBA</td>\n",
       "      <td>CAMINHO DA MATRIZ 4406</td>\n",
       "      <td>-22.99412</td>\n",
       "      <td>-43.59368</td>\n",
       "      <td>ESTRADA</td>\n",
       "      <td>4406</td>\n",
       "      <td>EM</td>\n",
       "    </tr>\n",
       "    <tr>\n",
       "      <th>151</th>\n",
       "      <td>069</td>\n",
       "      <td>ESCOLA MUNICIPAL CARDEAL ARCOVERDE</td>\n",
       "      <td>MADUREIRA</td>\n",
       "      <td>RUA AGOSTINHO BARBALHO 401</td>\n",
       "      <td>-22.87608</td>\n",
       "      <td>-43.34337</td>\n",
       "      <td>RUA</td>\n",
       "      <td>401</td>\n",
       "      <td>EM</td>\n",
       "    </tr>\n",
       "  </tbody>\n",
       "</table>\n",
       "<p>150 rows × 9 columns</p>\n",
       "</div>"
      ],
      "text/plain": [
       "      id                               escolas_postos             bairro  \\\n",
       "0    178  CENTRO INTEGRADO DE EDUCACAO PUBLICA HENFIL               CAJU   \n",
       "1    634                   EM ALICE DO AMARAL PEIXOTO            BENFICA   \n",
       "2    483                           EM CELESTINO SILVA             CENTRO   \n",
       "3    476            ESCOLA MUNICIPAL FLORIANO PEIXOTO      SAO CRISTOVAO   \n",
       "4    132                            EM PEREIRA PASSOS       RIO COMPRIDO   \n",
       "..   ...                                          ...                ...   \n",
       "147  474                  EM ENGENHEIRO GASTAO RANGEL          GUARATIBA   \n",
       "148  301                           EM JONATAS SERRANO          GUARATIBA   \n",
       "149  215                          E.M. NARCISA AMALIA  ILHA DE GUARATIBA   \n",
       "150  606                        EM PROFESSOR CASTILHO  ILHA DE GUARATIBA   \n",
       "151  069           ESCOLA MUNICIPAL CARDEAL ARCOVERDE          MADUREIRA   \n",
       "\n",
       "                               endereco       lat       lon logradouro  \\\n",
       "0                 RUA CARLOS SEIDL S/NO -22.88089 -43.22533        RUA   \n",
       "1                         RUA EBANO 187 -22.88957 -43.23620        RUA   \n",
       "2                    R. DO LAVRADIO, 56 -22.90929 -43.18358        RUA   \n",
       "3                    PRACA ARGENTINA 20 -22.89763 -43.22746      PRACA   \n",
       "4    PRACA CONDESSA PAULO DE FRONTIN 45 -22.92441 -43.20858      PRACA   \n",
       "..                                  ...       ...       ...        ...   \n",
       "147            ESTRADA DO MAGARCA 9.183 -22.98046 -43.64354    ESTRADA   \n",
       "148          ESTRADA DO MATO ALTO, S/NO -22.95316 -43.57741    ESTRADA   \n",
       "149  ESTRADA TEODORETO DE CAMARGO S/N.O -23.00908 -43.53758    ESTRADA   \n",
       "150              CAMINHO DA MATRIZ 4406 -22.99412 -43.59368    ESTRADA   \n",
       "151          RUA AGOSTINHO BARBALHO 401 -22.87608 -43.34337        RUA   \n",
       "\n",
       "     numero tipo_escola  \n",
       "0        -1         CEI  \n",
       "1       187          EM  \n",
       "2        56          EM  \n",
       "3        20          EM  \n",
       "4        45          EM  \n",
       "..      ...         ...  \n",
       "147      -1          EM  \n",
       "148      -1          EM  \n",
       "149      -1          EM  \n",
       "150    4406          EM  \n",
       "151     401          EM  \n",
       "\n",
       "[150 rows x 9 columns]"
      ]
     },
     "execution_count": 25,
     "metadata": {},
     "output_type": "execute_result"
    }
   ],
   "source": [
    "df_escolas"
   ]
  },
  {
   "cell_type": "markdown",
   "metadata": {},
   "source": [
    "### Lidando com os demais DataFrames"
   ]
  },
  {
   "cell_type": "code",
   "execution_count": 26,
   "metadata": {},
   "outputs": [
    {
     "data": {
      "text/html": [
       "<div>\n",
       "<style scoped>\n",
       "    .dataframe tbody tr th:only-of-type {\n",
       "        vertical-align: middle;\n",
       "    }\n",
       "\n",
       "    .dataframe tbody tr th {\n",
       "        vertical-align: top;\n",
       "    }\n",
       "\n",
       "    .dataframe thead th {\n",
       "        text-align: right;\n",
       "    }\n",
       "</style>\n",
       "<table border=\"1\" class=\"dataframe\">\n",
       "  <thead>\n",
       "    <tr style=\"text-align: right;\">\n",
       "      <th></th>\n",
       "      <th>id</th>\n",
       "      <th>Quantidade</th>\n",
       "    </tr>\n",
       "  </thead>\n",
       "  <tbody>\n",
       "    <tr>\n",
       "      <th>0</th>\n",
       "      <td>178</td>\n",
       "      <td>20</td>\n",
       "    </tr>\n",
       "    <tr>\n",
       "      <th>1</th>\n",
       "      <td>634</td>\n",
       "      <td>121</td>\n",
       "    </tr>\n",
       "    <tr>\n",
       "      <th>2</th>\n",
       "      <td>483</td>\n",
       "      <td>220</td>\n",
       "    </tr>\n",
       "    <tr>\n",
       "      <th>3</th>\n",
       "      <td>476</td>\n",
       "      <td>190</td>\n",
       "    </tr>\n",
       "    <tr>\n",
       "      <th>4</th>\n",
       "      <td>132</td>\n",
       "      <td>67</td>\n",
       "    </tr>\n",
       "  </tbody>\n",
       "</table>\n",
       "</div>"
      ],
      "text/plain": [
       "    id Quantidade\n",
       "0  178         20\n",
       "1  634        121\n",
       "2  483        220\n",
       "3  476        190\n",
       "4  132         67"
      ]
     },
     "execution_count": 26,
     "metadata": {},
     "output_type": "execute_result"
    }
   ],
   "source": [
    "df_mat_didatico.head()"
   ]
  },
  {
   "cell_type": "code",
   "execution_count": 27,
   "metadata": {},
   "outputs": [
    {
     "data": {
      "text/plain": [
       "array(['178', '634', '483', '476', '132', '410', '055', '490', '600',\n",
       "       '089', '387', '331', '450', '558', '413', '698', '540', '309',\n",
       "       '268', '523', '017', '035', '011', '226', '638', '271', '126',\n",
       "       '180', '163', '361', '280', '060', '587', '653', '660', '382',\n",
       "       '217', '378', '429', '025', '367', '373', '624', '157', '020',\n",
       "       '117', '502', '351', '135', '647', '440', '259', '422', '041',\n",
       "       '537', '230', '683', '146', '566', '388', '498', '663', '121',\n",
       "       '161', '263', '118', '140', '260', '236', '090', '274', '676',\n",
       "       '390', '608', '589', '256', '091', '285', '248', '441', '623',\n",
       "       '603', '673', '182', '520', '412', '031', '514', '023', '415',\n",
       "       '016', '570', '528', '414', '690', '202', '550', '211', '526',\n",
       "       '492', '466', '636', '527', '586', '080', '398', '175', '308',\n",
       "       '512', '576', '495', '379', '641', '689', '171', '477', '206',\n",
       "       '687', '568', '399', '255', '262', '633', '616', '320', '144',\n",
       "       '534', '342', '052', '139', '323', '573', '560', '246', '069',\n",
       "       '319', '584', '311', '316', '497', '297', '068', '330', '515',\n",
       "       '289', '210', '474', '301', '215', '606', '590'], dtype=object)"
      ]
     },
     "execution_count": 27,
     "metadata": {},
     "output_type": "execute_result"
    }
   ],
   "source": [
    "# Também padronizamos o id no material didático\n",
    "df_mat_didatico['id'] = [str(id_).zfill(3) for id_ in df_mat_didatico['id']]\n",
    "df_mat_didatico['id'].unique()"
   ]
  },
  {
   "cell_type": "code",
   "execution_count": 28,
   "metadata": {},
   "outputs": [
    {
     "data": {
      "text/html": [
       "<div>\n",
       "<style scoped>\n",
       "    .dataframe tbody tr th:only-of-type {\n",
       "        vertical-align: middle;\n",
       "    }\n",
       "\n",
       "    .dataframe tbody tr th {\n",
       "        vertical-align: top;\n",
       "    }\n",
       "\n",
       "    .dataframe thead th {\n",
       "        text-align: right;\n",
       "    }\n",
       "</style>\n",
       "<table border=\"1\" class=\"dataframe\">\n",
       "  <thead>\n",
       "    <tr style=\"text-align: right;\">\n",
       "      <th></th>\n",
       "      <th>id</th>\n",
       "      <th>quantidade</th>\n",
       "    </tr>\n",
       "  </thead>\n",
       "  <tbody>\n",
       "    <tr>\n",
       "      <th>0</th>\n",
       "      <td>178</td>\n",
       "      <td>20</td>\n",
       "    </tr>\n",
       "    <tr>\n",
       "      <th>1</th>\n",
       "      <td>634</td>\n",
       "      <td>121</td>\n",
       "    </tr>\n",
       "    <tr>\n",
       "      <th>2</th>\n",
       "      <td>483</td>\n",
       "      <td>220</td>\n",
       "    </tr>\n",
       "    <tr>\n",
       "      <th>3</th>\n",
       "      <td>476</td>\n",
       "      <td>190</td>\n",
       "    </tr>\n",
       "    <tr>\n",
       "      <th>4</th>\n",
       "      <td>132</td>\n",
       "      <td>67</td>\n",
       "    </tr>\n",
       "  </tbody>\n",
       "</table>\n",
       "</div>"
      ],
      "text/plain": [
       "    id quantidade\n",
       "0  178         20\n",
       "1  634        121\n",
       "2  483        220\n",
       "3  476        190\n",
       "4  132         67"
      ]
     },
     "execution_count": 28,
     "metadata": {},
     "output_type": "execute_result"
    }
   ],
   "source": [
    "# Renomeando a coluna Quantidade\n",
    "df_mat_didatico = df_mat_didatico.rename(columns={'Quantidade': 'quantidade'})\n",
    "df_mat_didatico.head()"
   ]
  },
  {
   "cell_type": "code",
   "execution_count": 29,
   "metadata": {},
   "outputs": [
    {
     "data": {
      "text/html": [
       "<div>\n",
       "<style scoped>\n",
       "    .dataframe tbody tr th:only-of-type {\n",
       "        vertical-align: middle;\n",
       "    }\n",
       "\n",
       "    .dataframe tbody tr th {\n",
       "        vertical-align: top;\n",
       "    }\n",
       "\n",
       "    .dataframe thead th {\n",
       "        text-align: right;\n",
       "    }\n",
       "</style>\n",
       "<table border=\"1\" class=\"dataframe\">\n",
       "  <thead>\n",
       "    <tr style=\"text-align: right;\">\n",
       "      <th></th>\n",
       "      <th>nome</th>\n",
       "      <th>subprefeitura</th>\n",
       "    </tr>\n",
       "  </thead>\n",
       "  <tbody>\n",
       "    <tr>\n",
       "      <th>0</th>\n",
       "      <td>Santo Cristo</td>\n",
       "      <td>Centro</td>\n",
       "    </tr>\n",
       "    <tr>\n",
       "      <th>1</th>\n",
       "      <td>Gamboa</td>\n",
       "      <td>Centro</td>\n",
       "    </tr>\n",
       "    <tr>\n",
       "      <th>2</th>\n",
       "      <td>Saúde</td>\n",
       "      <td>Centro</td>\n",
       "    </tr>\n",
       "    <tr>\n",
       "      <th>3</th>\n",
       "      <td>Caju</td>\n",
       "      <td>Centro</td>\n",
       "    </tr>\n",
       "    <tr>\n",
       "      <th>4</th>\n",
       "      <td>Centro</td>\n",
       "      <td>Centro</td>\n",
       "    </tr>\n",
       "  </tbody>\n",
       "</table>\n",
       "</div>"
      ],
      "text/plain": [
       "           nome subprefeitura\n",
       "0  Santo Cristo        Centro\n",
       "1        Gamboa        Centro\n",
       "2         Saúde        Centro\n",
       "3          Caju        Centro\n",
       "4        Centro        Centro"
      ]
     },
     "execution_count": 29,
     "metadata": {},
     "output_type": "execute_result"
    }
   ],
   "source": [
    "df_sub_pref.head()"
   ]
  },
  {
   "cell_type": "code",
   "execution_count": 30,
   "metadata": {},
   "outputs": [
    {
     "data": {
      "text/html": [
       "<div>\n",
       "<style scoped>\n",
       "    .dataframe tbody tr th:only-of-type {\n",
       "        vertical-align: middle;\n",
       "    }\n",
       "\n",
       "    .dataframe tbody tr th {\n",
       "        vertical-align: top;\n",
       "    }\n",
       "\n",
       "    .dataframe thead th {\n",
       "        text-align: right;\n",
       "    }\n",
       "</style>\n",
       "<table border=\"1\" class=\"dataframe\">\n",
       "  <thead>\n",
       "    <tr style=\"text-align: right;\">\n",
       "      <th></th>\n",
       "      <th>bairro</th>\n",
       "      <th>subprefeitura</th>\n",
       "    </tr>\n",
       "  </thead>\n",
       "  <tbody>\n",
       "    <tr>\n",
       "      <th>0</th>\n",
       "      <td>Santo Cristo</td>\n",
       "      <td>Centro</td>\n",
       "    </tr>\n",
       "    <tr>\n",
       "      <th>1</th>\n",
       "      <td>Gamboa</td>\n",
       "      <td>Centro</td>\n",
       "    </tr>\n",
       "    <tr>\n",
       "      <th>2</th>\n",
       "      <td>Saúde</td>\n",
       "      <td>Centro</td>\n",
       "    </tr>\n",
       "    <tr>\n",
       "      <th>3</th>\n",
       "      <td>Caju</td>\n",
       "      <td>Centro</td>\n",
       "    </tr>\n",
       "    <tr>\n",
       "      <th>4</th>\n",
       "      <td>Centro</td>\n",
       "      <td>Centro</td>\n",
       "    </tr>\n",
       "  </tbody>\n",
       "</table>\n",
       "</div>"
      ],
      "text/plain": [
       "         bairro subprefeitura\n",
       "0  Santo Cristo        Centro\n",
       "1        Gamboa        Centro\n",
       "2         Saúde        Centro\n",
       "3          Caju        Centro\n",
       "4        Centro        Centro"
      ]
     },
     "execution_count": 30,
     "metadata": {},
     "output_type": "execute_result"
    }
   ],
   "source": [
    "# Renomeando o nome para bairro\n",
    "df_sub_pref = df_sub_pref.rename(columns={'nome': 'bairro'})\n",
    "df_sub_pref.head()"
   ]
  },
  {
   "cell_type": "code",
   "execution_count": 31,
   "metadata": {},
   "outputs": [
    {
     "data": {
      "text/html": [
       "<div>\n",
       "<style scoped>\n",
       "    .dataframe tbody tr th:only-of-type {\n",
       "        vertical-align: middle;\n",
       "    }\n",
       "\n",
       "    .dataframe tbody tr th {\n",
       "        vertical-align: top;\n",
       "    }\n",
       "\n",
       "    .dataframe thead th {\n",
       "        text-align: right;\n",
       "    }\n",
       "</style>\n",
       "<table border=\"1\" class=\"dataframe\">\n",
       "  <thead>\n",
       "    <tr style=\"text-align: right;\">\n",
       "      <th></th>\n",
       "      <th>bairro</th>\n",
       "      <th>subprefeitura</th>\n",
       "    </tr>\n",
       "  </thead>\n",
       "  <tbody>\n",
       "    <tr>\n",
       "      <th>0</th>\n",
       "      <td>SANTO CRISTO</td>\n",
       "      <td>CENTRO</td>\n",
       "    </tr>\n",
       "    <tr>\n",
       "      <th>1</th>\n",
       "      <td>GAMBOA</td>\n",
       "      <td>CENTRO</td>\n",
       "    </tr>\n",
       "    <tr>\n",
       "      <th>2</th>\n",
       "      <td>SAUDE</td>\n",
       "      <td>CENTRO</td>\n",
       "    </tr>\n",
       "    <tr>\n",
       "      <th>3</th>\n",
       "      <td>CAJU</td>\n",
       "      <td>CENTRO</td>\n",
       "    </tr>\n",
       "    <tr>\n",
       "      <th>4</th>\n",
       "      <td>CENTRO</td>\n",
       "      <td>CENTRO</td>\n",
       "    </tr>\n",
       "  </tbody>\n",
       "</table>\n",
       "</div>"
      ],
      "text/plain": [
       "         bairro subprefeitura\n",
       "0  SANTO CRISTO        CENTRO\n",
       "1        GAMBOA        CENTRO\n",
       "2         SAUDE        CENTRO\n",
       "3          CAJU        CENTRO\n",
       "4        CENTRO        CENTRO"
      ]
     },
     "execution_count": 31,
     "metadata": {},
     "output_type": "execute_result"
    }
   ],
   "source": [
    "# Removendo acentos\n",
    "df_sub_pref[\"subprefeitura\"] = df_sub_pref[\"subprefeitura\"].apply(lambda x: unidecode(x).upper())\n",
    "df_sub_pref[\"bairro\"] = df_sub_pref[\"bairro\"].apply(lambda x: unidecode(x).upper())\n",
    "df_sub_pref.head()"
   ]
  },
  {
   "cell_type": "markdown",
   "metadata": {},
   "source": [
    "### Realização do Merge - Unindo nossos DataFrames"
   ]
  },
  {
   "cell_type": "code",
   "execution_count": 32,
   "metadata": {},
   "outputs": [
    {
     "data": {
      "text/html": [
       "<div>\n",
       "<style scoped>\n",
       "    .dataframe tbody tr th:only-of-type {\n",
       "        vertical-align: middle;\n",
       "    }\n",
       "\n",
       "    .dataframe tbody tr th {\n",
       "        vertical-align: top;\n",
       "    }\n",
       "\n",
       "    .dataframe thead th {\n",
       "        text-align: right;\n",
       "    }\n",
       "</style>\n",
       "<table border=\"1\" class=\"dataframe\">\n",
       "  <thead>\n",
       "    <tr style=\"text-align: right;\">\n",
       "      <th></th>\n",
       "      <th>id</th>\n",
       "      <th>escolas_postos</th>\n",
       "      <th>bairro</th>\n",
       "      <th>endereco</th>\n",
       "      <th>lat</th>\n",
       "      <th>lon</th>\n",
       "      <th>logradouro</th>\n",
       "      <th>numero</th>\n",
       "      <th>tipo_escola</th>\n",
       "      <th>quantidade</th>\n",
       "      <th>subprefeitura</th>\n",
       "    </tr>\n",
       "  </thead>\n",
       "  <tbody>\n",
       "    <tr>\n",
       "      <th>0</th>\n",
       "      <td>178</td>\n",
       "      <td>CENTRO INTEGRADO DE EDUCACAO PUBLICA HENFIL</td>\n",
       "      <td>CAJU</td>\n",
       "      <td>RUA CARLOS SEIDL S/NO</td>\n",
       "      <td>-22.88089</td>\n",
       "      <td>-43.22533</td>\n",
       "      <td>RUA</td>\n",
       "      <td>-1</td>\n",
       "      <td>CEI</td>\n",
       "      <td>20</td>\n",
       "      <td>CENTRO</td>\n",
       "    </tr>\n",
       "    <tr>\n",
       "      <th>1</th>\n",
       "      <td>634</td>\n",
       "      <td>EM ALICE DO AMARAL PEIXOTO</td>\n",
       "      <td>BENFICA</td>\n",
       "      <td>RUA EBANO 187</td>\n",
       "      <td>-22.88957</td>\n",
       "      <td>-43.23620</td>\n",
       "      <td>RUA</td>\n",
       "      <td>187</td>\n",
       "      <td>EM</td>\n",
       "      <td>121</td>\n",
       "      <td>CENTRO</td>\n",
       "    </tr>\n",
       "    <tr>\n",
       "      <th>2</th>\n",
       "      <td>600</td>\n",
       "      <td>EM URUGUAI</td>\n",
       "      <td>BENFICA</td>\n",
       "      <td>RUA ANA NERI 192</td>\n",
       "      <td>-22.89849</td>\n",
       "      <td>-43.23776</td>\n",
       "      <td>RUA</td>\n",
       "      <td>192</td>\n",
       "      <td>EM</td>\n",
       "      <td>591</td>\n",
       "      <td>CENTRO</td>\n",
       "    </tr>\n",
       "    <tr>\n",
       "      <th>3</th>\n",
       "      <td>483</td>\n",
       "      <td>EM CELESTINO SILVA</td>\n",
       "      <td>CENTRO</td>\n",
       "      <td>R. DO LAVRADIO, 56</td>\n",
       "      <td>-22.90929</td>\n",
       "      <td>-43.18358</td>\n",
       "      <td>RUA</td>\n",
       "      <td>56</td>\n",
       "      <td>EM</td>\n",
       "      <td>220</td>\n",
       "      <td>CENTRO</td>\n",
       "    </tr>\n",
       "    <tr>\n",
       "      <th>4</th>\n",
       "      <td>490</td>\n",
       "      <td>E.M TIA CIATA</td>\n",
       "      <td>CENTRO</td>\n",
       "      <td>AVENIDA PRESIDENTE VARGAS S/NO</td>\n",
       "      <td>-22.90712</td>\n",
       "      <td>-43.19507</td>\n",
       "      <td>AVENIDA</td>\n",
       "      <td>-1</td>\n",
       "      <td>EM</td>\n",
       "      <td>578</td>\n",
       "      <td>CENTRO</td>\n",
       "    </tr>\n",
       "    <tr>\n",
       "      <th>...</th>\n",
       "      <td>...</td>\n",
       "      <td>...</td>\n",
       "      <td>...</td>\n",
       "      <td>...</td>\n",
       "      <td>...</td>\n",
       "      <td>...</td>\n",
       "      <td>...</td>\n",
       "      <td>...</td>\n",
       "      <td>...</td>\n",
       "      <td>...</td>\n",
       "      <td>...</td>\n",
       "    </tr>\n",
       "    <tr>\n",
       "      <th>136</th>\n",
       "      <td>289</td>\n",
       "      <td>EM BERTHA LUTZ</td>\n",
       "      <td>GUARATIBA</td>\n",
       "      <td>ESTRADA DO PIAI 2075</td>\n",
       "      <td>-22.97906</td>\n",
       "      <td>-43.67058</td>\n",
       "      <td>ESTRADA</td>\n",
       "      <td>2075</td>\n",
       "      <td>EM</td>\n",
       "      <td>329</td>\n",
       "      <td>ZONA OESTE</td>\n",
       "    </tr>\n",
       "    <tr>\n",
       "      <th>137</th>\n",
       "      <td>474</td>\n",
       "      <td>EM ENGENHEIRO GASTAO RANGEL</td>\n",
       "      <td>GUARATIBA</td>\n",
       "      <td>ESTRADA DO MAGARCA 9.183</td>\n",
       "      <td>-22.98046</td>\n",
       "      <td>-43.64354</td>\n",
       "      <td>ESTRADA</td>\n",
       "      <td>-1</td>\n",
       "      <td>EM</td>\n",
       "      <td>320</td>\n",
       "      <td>ZONA OESTE</td>\n",
       "    </tr>\n",
       "    <tr>\n",
       "      <th>138</th>\n",
       "      <td>301</td>\n",
       "      <td>EM JONATAS SERRANO</td>\n",
       "      <td>GUARATIBA</td>\n",
       "      <td>ESTRADA DO MATO ALTO, S/NO</td>\n",
       "      <td>-22.95316</td>\n",
       "      <td>-43.57741</td>\n",
       "      <td>ESTRADA</td>\n",
       "      <td>-1</td>\n",
       "      <td>EM</td>\n",
       "      <td>335</td>\n",
       "      <td>ZONA OESTE</td>\n",
       "    </tr>\n",
       "    <tr>\n",
       "      <th>139</th>\n",
       "      <td>215</td>\n",
       "      <td>E.M. NARCISA AMALIA</td>\n",
       "      <td>ILHA DE GUARATIBA</td>\n",
       "      <td>ESTRADA TEODORETO DE CAMARGO S/N.O</td>\n",
       "      <td>-23.00908</td>\n",
       "      <td>-43.53758</td>\n",
       "      <td>ESTRADA</td>\n",
       "      <td>-1</td>\n",
       "      <td>EM</td>\n",
       "      <td>NaN</td>\n",
       "      <td>ZONA OESTE</td>\n",
       "    </tr>\n",
       "    <tr>\n",
       "      <th>140</th>\n",
       "      <td>606</td>\n",
       "      <td>EM PROFESSOR CASTILHO</td>\n",
       "      <td>ILHA DE GUARATIBA</td>\n",
       "      <td>CAMINHO DA MATRIZ 4406</td>\n",
       "      <td>-22.99412</td>\n",
       "      <td>-43.59368</td>\n",
       "      <td>ESTRADA</td>\n",
       "      <td>4406</td>\n",
       "      <td>EM</td>\n",
       "      <td>521</td>\n",
       "      <td>ZONA OESTE</td>\n",
       "    </tr>\n",
       "  </tbody>\n",
       "</table>\n",
       "<p>128 rows × 11 columns</p>\n",
       "</div>"
      ],
      "text/plain": [
       "      id                               escolas_postos             bairro  \\\n",
       "0    178  CENTRO INTEGRADO DE EDUCACAO PUBLICA HENFIL               CAJU   \n",
       "1    634                   EM ALICE DO AMARAL PEIXOTO            BENFICA   \n",
       "2    600                                   EM URUGUAI            BENFICA   \n",
       "3    483                           EM CELESTINO SILVA             CENTRO   \n",
       "4    490                                E.M TIA CIATA             CENTRO   \n",
       "..   ...                                          ...                ...   \n",
       "136  289                               EM BERTHA LUTZ          GUARATIBA   \n",
       "137  474                  EM ENGENHEIRO GASTAO RANGEL          GUARATIBA   \n",
       "138  301                           EM JONATAS SERRANO          GUARATIBA   \n",
       "139  215                          E.M. NARCISA AMALIA  ILHA DE GUARATIBA   \n",
       "140  606                        EM PROFESSOR CASTILHO  ILHA DE GUARATIBA   \n",
       "\n",
       "                               endereco       lat       lon logradouro  \\\n",
       "0                 RUA CARLOS SEIDL S/NO -22.88089 -43.22533        RUA   \n",
       "1                         RUA EBANO 187 -22.88957 -43.23620        RUA   \n",
       "2                      RUA ANA NERI 192 -22.89849 -43.23776        RUA   \n",
       "3                    R. DO LAVRADIO, 56 -22.90929 -43.18358        RUA   \n",
       "4        AVENIDA PRESIDENTE VARGAS S/NO -22.90712 -43.19507    AVENIDA   \n",
       "..                                  ...       ...       ...        ...   \n",
       "136                ESTRADA DO PIAI 2075 -22.97906 -43.67058    ESTRADA   \n",
       "137            ESTRADA DO MAGARCA 9.183 -22.98046 -43.64354    ESTRADA   \n",
       "138          ESTRADA DO MATO ALTO, S/NO -22.95316 -43.57741    ESTRADA   \n",
       "139  ESTRADA TEODORETO DE CAMARGO S/N.O -23.00908 -43.53758    ESTRADA   \n",
       "140              CAMINHO DA MATRIZ 4406 -22.99412 -43.59368    ESTRADA   \n",
       "\n",
       "     numero tipo_escola quantidade subprefeitura  \n",
       "0        -1         CEI         20        CENTRO  \n",
       "1       187          EM        121        CENTRO  \n",
       "2       192          EM        591        CENTRO  \n",
       "3        56          EM        220        CENTRO  \n",
       "4        -1          EM        578        CENTRO  \n",
       "..      ...         ...        ...           ...  \n",
       "136    2075          EM        329    ZONA OESTE  \n",
       "137      -1          EM        320    ZONA OESTE  \n",
       "138      -1          EM        335    ZONA OESTE  \n",
       "139      -1          EM        NaN    ZONA OESTE  \n",
       "140    4406          EM        521    ZONA OESTE  \n",
       "\n",
       "[128 rows x 11 columns]"
      ]
     },
     "execution_count": 32,
     "metadata": {},
     "output_type": "execute_result"
    }
   ],
   "source": [
    "# Merge\n",
    "df_merge = pd.merge(pd.merge(df_escolas, df_mat_didatico),df_sub_pref)\n",
    "df_merge = df_merge.drop_duplicates() # Removemos duplicatas\n",
    "df_merge"
   ]
  },
  {
   "cell_type": "code",
   "execution_count": 33,
   "metadata": {},
   "outputs": [
    {
     "name": "stdout",
     "output_type": "stream",
     "text": [
      "<class 'pandas.core.frame.DataFrame'>\n",
      "Int64Index: 128 entries, 0 to 140\n",
      "Data columns (total 11 columns):\n",
      " #   Column          Non-Null Count  Dtype  \n",
      "---  ------          --------------  -----  \n",
      " 0   id              128 non-null    object \n",
      " 1   escolas_postos  128 non-null    object \n",
      " 2   bairro          128 non-null    object \n",
      " 3   endereco        128 non-null    object \n",
      " 4   lat             128 non-null    float64\n",
      " 5   lon             128 non-null    float64\n",
      " 6   logradouro      128 non-null    object \n",
      " 7   numero          128 non-null    int64  \n",
      " 8   tipo_escola     128 non-null    object \n",
      " 9   quantidade      125 non-null    object \n",
      " 10  subprefeitura   128 non-null    object \n",
      "dtypes: float64(2), int64(1), object(8)\n",
      "memory usage: 12.0+ KB\n"
     ]
    }
   ],
   "source": [
    "df_merge.info()"
   ]
  },
  {
   "cell_type": "code",
   "execution_count": 34,
   "metadata": {},
   "outputs": [],
   "source": [
    "def extrair_numero_0(valor):\n",
    "    try:\n",
    "        return int(valor)\n",
    "    except ValueError:\n",
    "        return 0"
   ]
  },
  {
   "cell_type": "code",
   "execution_count": 35,
   "metadata": {},
   "outputs": [
    {
     "data": {
      "text/plain": [
       "array([ 20, 121, 591, 220, 578, 190,  67, 473,  48, 516,  92, 456, 223,\n",
       "       420, 573,   0, 319, 111, 308, 525, 445, 576,  63, 164, 293, 399,\n",
       "       185, 336, 159, 342, 262, 440, 365, 255, 183,  44, 109, 350, 457,\n",
       "       489, 493, 530, 504, 158, 123, 468, 234, 564, 509,  24,  61,  71,\n",
       "       372,  99, 157, 296, 316, 151, 426, 167, 292, 210, 153, 561, 180,\n",
       "       257, 260, 317, 345, 513, 416, 352, 393, 136, 400, 148, 235, 187,\n",
       "       115, 534, 152, 430, 466,  94, 520, 279, 161, 179, 194, 599, 315,\n",
       "       435, 128, 269, 571, 362, 479, 330, 106, 459, 162, 207, 537, 579,\n",
       "       517, 341, 570, 329, 320, 335, 521], dtype=int64)"
      ]
     },
     "execution_count": 35,
     "metadata": {},
     "output_type": "execute_result"
    }
   ],
   "source": [
    "# Tranformando quantidade em um número e lidando com valores distintos\n",
    "df_merge['quantidade'] = df_merge['quantidade'].apply(lambda x: extrair_numero_0(x))\n",
    "df_merge['quantidade'].unique()"
   ]
  },
  {
   "cell_type": "code",
   "execution_count": 36,
   "metadata": {},
   "outputs": [
    {
     "name": "stdout",
     "output_type": "stream",
     "text": [
      "<class 'pandas.core.frame.DataFrame'>\n",
      "Int64Index: 128 entries, 0 to 140\n",
      "Data columns (total 11 columns):\n",
      " #   Column          Non-Null Count  Dtype  \n",
      "---  ------          --------------  -----  \n",
      " 0   id              128 non-null    object \n",
      " 1   escolas_postos  128 non-null    object \n",
      " 2   bairro          128 non-null    object \n",
      " 3   endereco        128 non-null    object \n",
      " 4   lat             128 non-null    float64\n",
      " 5   lon             128 non-null    float64\n",
      " 6   logradouro      128 non-null    object \n",
      " 7   numero          128 non-null    int64  \n",
      " 8   tipo_escola     128 non-null    object \n",
      " 9   quantidade      128 non-null    int64  \n",
      " 10  subprefeitura   128 non-null    object \n",
      "dtypes: float64(2), int64(2), object(7)\n",
      "memory usage: 12.0+ KB\n"
     ]
    }
   ],
   "source": [
    "df_merge.info()"
   ]
  },
  {
   "cell_type": "code",
   "execution_count": 37,
   "metadata": {},
   "outputs": [
    {
     "data": {
      "text/html": [
       "<div>\n",
       "<style scoped>\n",
       "    .dataframe tbody tr th:only-of-type {\n",
       "        vertical-align: middle;\n",
       "    }\n",
       "\n",
       "    .dataframe tbody tr th {\n",
       "        vertical-align: top;\n",
       "    }\n",
       "\n",
       "    .dataframe thead th {\n",
       "        text-align: right;\n",
       "    }\n",
       "</style>\n",
       "<table border=\"1\" class=\"dataframe\">\n",
       "  <thead>\n",
       "    <tr style=\"text-align: right;\">\n",
       "      <th></th>\n",
       "      <th>subprefeitura</th>\n",
       "      <th>quantidade</th>\n",
       "    </tr>\n",
       "  </thead>\n",
       "  <tbody>\n",
       "    <tr>\n",
       "      <th>0</th>\n",
       "      <td>ZONA NORTE</td>\n",
       "      <td>13088</td>\n",
       "    </tr>\n",
       "    <tr>\n",
       "      <th>1</th>\n",
       "      <td>ZONA OESTE</td>\n",
       "      <td>8562</td>\n",
       "    </tr>\n",
       "    <tr>\n",
       "      <th>2</th>\n",
       "      <td>ZONA SUL</td>\n",
       "      <td>4256</td>\n",
       "    </tr>\n",
       "    <tr>\n",
       "      <th>3</th>\n",
       "      <td>GRANDE BANGU</td>\n",
       "      <td>3979</td>\n",
       "    </tr>\n",
       "    <tr>\n",
       "      <th>4</th>\n",
       "      <td>CENTRO</td>\n",
       "      <td>2352</td>\n",
       "    </tr>\n",
       "    <tr>\n",
       "      <th>5</th>\n",
       "      <td>GRANDE TIJUCA</td>\n",
       "      <td>2125</td>\n",
       "    </tr>\n",
       "    <tr>\n",
       "      <th>6</th>\n",
       "      <td>JACAREPAGUA</td>\n",
       "      <td>2035</td>\n",
       "    </tr>\n",
       "    <tr>\n",
       "      <th>7</th>\n",
       "      <td>ILHAS</td>\n",
       "      <td>741</td>\n",
       "    </tr>\n",
       "    <tr>\n",
       "      <th>8</th>\n",
       "      <td>BARRA DA TIJUCA</td>\n",
       "      <td>215</td>\n",
       "    </tr>\n",
       "  </tbody>\n",
       "</table>\n",
       "</div>"
      ],
      "text/plain": [
       "     subprefeitura  quantidade\n",
       "0       ZONA NORTE       13088\n",
       "1       ZONA OESTE        8562\n",
       "2         ZONA SUL        4256\n",
       "3     GRANDE BANGU        3979\n",
       "4           CENTRO        2352\n",
       "5    GRANDE TIJUCA        2125\n",
       "6      JACAREPAGUA        2035\n",
       "7            ILHAS         741\n",
       "8  BARRA DA TIJUCA         215"
      ]
     },
     "execution_count": 37,
     "metadata": {},
     "output_type": "execute_result"
    }
   ],
   "source": [
    "# Somando a quantidade de material didática por subprefeitura\n",
    "df_qtde_subfpref = df_merge.groupby([\"subprefeitura\"])[[\"quantidade\"]].sum().sort_values(by='quantidade', ascending=False).reset_index()\n",
    "df_qtde_subfpref"
   ]
  },
  {
   "cell_type": "code",
   "execution_count": 38,
   "metadata": {},
   "outputs": [],
   "source": [
    "# Salvando essa informação em um CSV\n",
    "df_qtde_subfpref.to_csv(\"quantidade_subprefeitura.csv\", index=False)"
   ]
  },
  {
   "cell_type": "markdown",
   "metadata": {},
   "source": [
    "### Otimizando a entrega"
   ]
  },
  {
   "cell_type": "code",
   "execution_count": 39,
   "metadata": {},
   "outputs": [],
   "source": [
    "from otimizador import distance, nearest_neighbor"
   ]
  },
  {
   "cell_type": "code",
   "execution_count": 40,
   "metadata": {},
   "outputs": [],
   "source": [
    "# Definindo pontos_entrega\n",
    "pontos_entrega = list(zip(df_merge['lat'], df_merge['lon']))"
   ]
  },
  {
   "cell_type": "code",
   "execution_count": 41,
   "metadata": {},
   "outputs": [
    {
     "name": "stdout",
     "output_type": "stream",
     "text": [
      "Caminho mais curto está traçado\n"
     ]
    }
   ],
   "source": [
    "# Aplicando o otimizador\n",
    "df_merge['rota'] = nearest_neighbor(pontos_entrega)[:-1]"
   ]
  },
  {
   "cell_type": "code",
   "execution_count": 42,
   "metadata": {},
   "outputs": [
    {
     "data": {
      "text/html": [
       "<div>\n",
       "<style scoped>\n",
       "    .dataframe tbody tr th:only-of-type {\n",
       "        vertical-align: middle;\n",
       "    }\n",
       "\n",
       "    .dataframe tbody tr th {\n",
       "        vertical-align: top;\n",
       "    }\n",
       "\n",
       "    .dataframe thead th {\n",
       "        text-align: right;\n",
       "    }\n",
       "</style>\n",
       "<table border=\"1\" class=\"dataframe\">\n",
       "  <thead>\n",
       "    <tr style=\"text-align: right;\">\n",
       "      <th></th>\n",
       "      <th>lat</th>\n",
       "      <th>lon</th>\n",
       "      <th>numero</th>\n",
       "      <th>quantidade</th>\n",
       "      <th>rota</th>\n",
       "    </tr>\n",
       "  </thead>\n",
       "  <tbody>\n",
       "    <tr>\n",
       "      <th>count</th>\n",
       "      <td>128.000000</td>\n",
       "      <td>128.000000</td>\n",
       "      <td>128.000000</td>\n",
       "      <td>128.000000</td>\n",
       "      <td>128.000000</td>\n",
       "    </tr>\n",
       "    <tr>\n",
       "      <th>mean</th>\n",
       "      <td>-22.898984</td>\n",
       "      <td>-43.367248</td>\n",
       "      <td>302.789062</td>\n",
       "      <td>291.820312</td>\n",
       "      <td>63.500000</td>\n",
       "    </tr>\n",
       "    <tr>\n",
       "      <th>std</th>\n",
       "      <td>0.049314</td>\n",
       "      <td>0.153320</td>\n",
       "      <td>804.901409</td>\n",
       "      <td>177.695548</td>\n",
       "      <td>37.094474</td>\n",
       "    </tr>\n",
       "    <tr>\n",
       "      <th>min</th>\n",
       "      <td>-23.009080</td>\n",
       "      <td>-43.697350</td>\n",
       "      <td>-1.000000</td>\n",
       "      <td>0.000000</td>\n",
       "      <td>0.000000</td>\n",
       "    </tr>\n",
       "    <tr>\n",
       "      <th>25%</th>\n",
       "      <td>-22.926845</td>\n",
       "      <td>-43.468382</td>\n",
       "      <td>-1.000000</td>\n",
       "      <td>150.250000</td>\n",
       "      <td>31.750000</td>\n",
       "    </tr>\n",
       "    <tr>\n",
       "      <th>50%</th>\n",
       "      <td>-22.895335</td>\n",
       "      <td>-43.314275</td>\n",
       "      <td>34.000000</td>\n",
       "      <td>302.000000</td>\n",
       "      <td>63.500000</td>\n",
       "    </tr>\n",
       "    <tr>\n",
       "      <th>75%</th>\n",
       "      <td>-22.866038</td>\n",
       "      <td>-43.251100</td>\n",
       "      <td>257.750000</td>\n",
       "      <td>456.000000</td>\n",
       "      <td>95.250000</td>\n",
       "    </tr>\n",
       "    <tr>\n",
       "      <th>max</th>\n",
       "      <td>-22.748280</td>\n",
       "      <td>-43.168880</td>\n",
       "      <td>6742.000000</td>\n",
       "      <td>599.000000</td>\n",
       "      <td>127.000000</td>\n",
       "    </tr>\n",
       "  </tbody>\n",
       "</table>\n",
       "</div>"
      ],
      "text/plain": [
       "              lat         lon       numero  quantidade        rota\n",
       "count  128.000000  128.000000   128.000000  128.000000  128.000000\n",
       "mean   -22.898984  -43.367248   302.789062  291.820312   63.500000\n",
       "std      0.049314    0.153320   804.901409  177.695548   37.094474\n",
       "min    -23.009080  -43.697350    -1.000000    0.000000    0.000000\n",
       "25%    -22.926845  -43.468382    -1.000000  150.250000   31.750000\n",
       "50%    -22.895335  -43.314275    34.000000  302.000000   63.500000\n",
       "75%    -22.866038  -43.251100   257.750000  456.000000   95.250000\n",
       "max    -22.748280  -43.168880  6742.000000  599.000000  127.000000"
      ]
     },
     "execution_count": 42,
     "metadata": {},
     "output_type": "execute_result"
    }
   ],
   "source": [
    "df_merge.describe()"
   ]
  },
  {
   "cell_type": "code",
   "execution_count": 43,
   "metadata": {},
   "outputs": [
    {
     "data": {
      "text/plain": [
       "Index(['id', 'escolas_postos', 'bairro', 'endereco', 'lat', 'lon',\n",
       "       'logradouro', 'numero', 'tipo_escola', 'quantidade', 'subprefeitura',\n",
       "       'rota'],\n",
       "      dtype='object')"
      ]
     },
     "execution_count": 43,
     "metadata": {},
     "output_type": "execute_result"
    }
   ],
   "source": [
    "df_merge.columns"
   ]
  },
  {
   "cell_type": "code",
   "execution_count": 44,
   "metadata": {},
   "outputs": [
    {
     "data": {
      "text/html": [
       "<div>\n",
       "<style scoped>\n",
       "    .dataframe tbody tr th:only-of-type {\n",
       "        vertical-align: middle;\n",
       "    }\n",
       "\n",
       "    .dataframe tbody tr th {\n",
       "        vertical-align: top;\n",
       "    }\n",
       "\n",
       "    .dataframe thead th {\n",
       "        text-align: right;\n",
       "    }\n",
       "</style>\n",
       "<table border=\"1\" class=\"dataframe\">\n",
       "  <thead>\n",
       "    <tr style=\"text-align: right;\">\n",
       "      <th></th>\n",
       "      <th>rota</th>\n",
       "      <th>id</th>\n",
       "      <th>escolas_postos</th>\n",
       "      <th>tipo_escola</th>\n",
       "      <th>logradouro</th>\n",
       "      <th>numero</th>\n",
       "      <th>bairro</th>\n",
       "      <th>subprefeitura</th>\n",
       "      <th>lat</th>\n",
       "      <th>lon</th>\n",
       "      <th>quantidade</th>\n",
       "    </tr>\n",
       "  </thead>\n",
       "  <tbody>\n",
       "    <tr>\n",
       "      <th>0</th>\n",
       "      <td>0</td>\n",
       "      <td>178</td>\n",
       "      <td>CENTRO INTEGRADO DE EDUCACAO PUBLICA HENFIL</td>\n",
       "      <td>CEI</td>\n",
       "      <td>RUA</td>\n",
       "      <td>-1</td>\n",
       "      <td>CAJU</td>\n",
       "      <td>CENTRO</td>\n",
       "      <td>-22.88089</td>\n",
       "      <td>-43.22533</td>\n",
       "      <td>20</td>\n",
       "    </tr>\n",
       "    <tr>\n",
       "      <th>1</th>\n",
       "      <td>1</td>\n",
       "      <td>634</td>\n",
       "      <td>EM ALICE DO AMARAL PEIXOTO</td>\n",
       "      <td>EM</td>\n",
       "      <td>RUA</td>\n",
       "      <td>187</td>\n",
       "      <td>BENFICA</td>\n",
       "      <td>CENTRO</td>\n",
       "      <td>-22.88957</td>\n",
       "      <td>-43.23620</td>\n",
       "      <td>121</td>\n",
       "    </tr>\n",
       "    <tr>\n",
       "      <th>2</th>\n",
       "      <td>2</td>\n",
       "      <td>600</td>\n",
       "      <td>EM URUGUAI</td>\n",
       "      <td>EM</td>\n",
       "      <td>RUA</td>\n",
       "      <td>192</td>\n",
       "      <td>BENFICA</td>\n",
       "      <td>CENTRO</td>\n",
       "      <td>-22.89849</td>\n",
       "      <td>-43.23776</td>\n",
       "      <td>591</td>\n",
       "    </tr>\n",
       "    <tr>\n",
       "      <th>3</th>\n",
       "      <td>3</td>\n",
       "      <td>540</td>\n",
       "      <td>EM HENRIQUE DODSWORTH</td>\n",
       "      <td>EM</td>\n",
       "      <td>AVENIDA</td>\n",
       "      <td>474</td>\n",
       "      <td>IPANEMA</td>\n",
       "      <td>ZONA SUL</td>\n",
       "      <td>-22.98196</td>\n",
       "      <td>-43.21358</td>\n",
       "      <td>516</td>\n",
       "    </tr>\n",
       "    <tr>\n",
       "      <th>4</th>\n",
       "      <td>4</td>\n",
       "      <td>017</td>\n",
       "      <td>E.M PRESIDENTE JOSE LINHARES</td>\n",
       "      <td>EM</td>\n",
       "      <td>RUA</td>\n",
       "      <td>90</td>\n",
       "      <td>IPANEMA</td>\n",
       "      <td>ZONA SUL</td>\n",
       "      <td>-22.98333</td>\n",
       "      <td>-43.19904</td>\n",
       "      <td>48</td>\n",
       "    </tr>\n",
       "    <tr>\n",
       "      <th>...</th>\n",
       "      <td>...</td>\n",
       "      <td>...</td>\n",
       "      <td>...</td>\n",
       "      <td>...</td>\n",
       "      <td>...</td>\n",
       "      <td>...</td>\n",
       "      <td>...</td>\n",
       "      <td>...</td>\n",
       "      <td>...</td>\n",
       "      <td>...</td>\n",
       "      <td>...</td>\n",
       "    </tr>\n",
       "    <tr>\n",
       "      <th>123</th>\n",
       "      <td>123</td>\n",
       "      <td>297</td>\n",
       "      <td>EM PROFESSORA SILVIA DE ARAUJO TOLEDO</td>\n",
       "      <td>EM</td>\n",
       "      <td>AVENIDA</td>\n",
       "      <td>-1</td>\n",
       "      <td>SANTA CRUZ</td>\n",
       "      <td>ZONA OESTE</td>\n",
       "      <td>-22.93011</td>\n",
       "      <td>-43.65290</td>\n",
       "      <td>0</td>\n",
       "    </tr>\n",
       "    <tr>\n",
       "      <th>124</th>\n",
       "      <td>124</td>\n",
       "      <td>246</td>\n",
       "      <td>EM FERNANDO AZEVEDO</td>\n",
       "      <td>EM</td>\n",
       "      <td>RUA</td>\n",
       "      <td>-1</td>\n",
       "      <td>SANTA CRUZ</td>\n",
       "      <td>ZONA OESTE</td>\n",
       "      <td>-22.92306</td>\n",
       "      <td>-43.69233</td>\n",
       "      <td>459</td>\n",
       "    </tr>\n",
       "    <tr>\n",
       "      <th>125</th>\n",
       "      <td>125</td>\n",
       "      <td>052</td>\n",
       "      <td>E.M PROFESSOR PAULO SILVA</td>\n",
       "      <td>EM</td>\n",
       "      <td>RUA</td>\n",
       "      <td>-1</td>\n",
       "      <td>INHOAIBA</td>\n",
       "      <td>ZONA OESTE</td>\n",
       "      <td>-22.90859</td>\n",
       "      <td>-43.58474</td>\n",
       "      <td>330</td>\n",
       "    </tr>\n",
       "    <tr>\n",
       "      <th>126</th>\n",
       "      <td>126</td>\n",
       "      <td>319</td>\n",
       "      <td>EM MARECHAL PEDRO CAVALCANTI</td>\n",
       "      <td>EM</td>\n",
       "      <td>RUA</td>\n",
       "      <td>-1</td>\n",
       "      <td>PACIENCIA</td>\n",
       "      <td>ZONA OESTE</td>\n",
       "      <td>-22.92485</td>\n",
       "      <td>-43.63289</td>\n",
       "      <td>537</td>\n",
       "    </tr>\n",
       "    <tr>\n",
       "      <th>127</th>\n",
       "      <td>127</td>\n",
       "      <td>323</td>\n",
       "      <td>CIEP ISMAEL NERY</td>\n",
       "      <td>CIEP</td>\n",
       "      <td>AVENIDA</td>\n",
       "      <td>-1</td>\n",
       "      <td>SANTA CRUZ</td>\n",
       "      <td>ZONA OESTE</td>\n",
       "      <td>-22.93416</td>\n",
       "      <td>-43.66213</td>\n",
       "      <td>106</td>\n",
       "    </tr>\n",
       "  </tbody>\n",
       "</table>\n",
       "<p>128 rows × 11 columns</p>\n",
       "</div>"
      ],
      "text/plain": [
       "     rota   id                               escolas_postos tipo_escola  \\\n",
       "0       0  178  CENTRO INTEGRADO DE EDUCACAO PUBLICA HENFIL         CEI   \n",
       "1       1  634                   EM ALICE DO AMARAL PEIXOTO          EM   \n",
       "2       2  600                                   EM URUGUAI          EM   \n",
       "3       3  540                        EM HENRIQUE DODSWORTH          EM   \n",
       "4       4  017                 E.M PRESIDENTE JOSE LINHARES          EM   \n",
       "..    ...  ...                                          ...         ...   \n",
       "123   123  297        EM PROFESSORA SILVIA DE ARAUJO TOLEDO          EM   \n",
       "124   124  246                          EM FERNANDO AZEVEDO          EM   \n",
       "125   125  052                    E.M PROFESSOR PAULO SILVA          EM   \n",
       "126   126  319                 EM MARECHAL PEDRO CAVALCANTI          EM   \n",
       "127   127  323                             CIEP ISMAEL NERY        CIEP   \n",
       "\n",
       "    logradouro  numero      bairro subprefeitura       lat       lon  \\\n",
       "0          RUA      -1        CAJU        CENTRO -22.88089 -43.22533   \n",
       "1          RUA     187     BENFICA        CENTRO -22.88957 -43.23620   \n",
       "2          RUA     192     BENFICA        CENTRO -22.89849 -43.23776   \n",
       "3      AVENIDA     474     IPANEMA      ZONA SUL -22.98196 -43.21358   \n",
       "4          RUA      90     IPANEMA      ZONA SUL -22.98333 -43.19904   \n",
       "..         ...     ...         ...           ...       ...       ...   \n",
       "123    AVENIDA      -1  SANTA CRUZ    ZONA OESTE -22.93011 -43.65290   \n",
       "124        RUA      -1  SANTA CRUZ    ZONA OESTE -22.92306 -43.69233   \n",
       "125        RUA      -1    INHOAIBA    ZONA OESTE -22.90859 -43.58474   \n",
       "126        RUA      -1   PACIENCIA    ZONA OESTE -22.92485 -43.63289   \n",
       "127    AVENIDA      -1  SANTA CRUZ    ZONA OESTE -22.93416 -43.66213   \n",
       "\n",
       "     quantidade  \n",
       "0            20  \n",
       "1           121  \n",
       "2           591  \n",
       "3           516  \n",
       "4            48  \n",
       "..          ...  \n",
       "123           0  \n",
       "124         459  \n",
       "125         330  \n",
       "126         537  \n",
       "127         106  \n",
       "\n",
       "[128 rows x 11 columns]"
      ]
     },
     "execution_count": 44,
     "metadata": {},
     "output_type": "execute_result"
    }
   ],
   "source": [
    "# Removemos prefeitura, porque não é pedido no problema\n",
    "df_rotas = df_merge.loc[:, ['rota', 'id', 'escolas_postos', 'tipo_escola', 'logradouro', 'numero', 'bairro', 'subprefeitura', 'lat', 'lon', 'quantidade']].sort_values(by='rota', ascending=True).reset_index(drop=True)\n",
    "df_rotas"
   ]
  },
  {
   "cell_type": "code",
   "execution_count": 45,
   "metadata": {},
   "outputs": [],
   "source": [
    "# Salvando os dados da nossa rota\n",
    "df_rotas.to_csv(\"rota.csv\", index=False)"
   ]
  },
  {
   "cell_type": "markdown",
   "metadata": {},
   "source": [
    "# DESAFIO ACEITO!"
   ]
  },
  {
   "cell_type": "code",
   "execution_count": 46,
   "metadata": {},
   "outputs": [
    {
     "data": {
      "image/png": "[encoded data removed]",
      "text/plain": [
       "<Figure size 1000x600 with 2 Axes>"
      ]
     },
     "metadata": {},
     "output_type": "display_data"
    },
    {
     "data": {
      "text/plain": [
       "<Figure size 640x480 with 0 Axes>"
      ]
     },
     "metadata": {},
     "output_type": "display_data"
    }
   ],
   "source": [
    "\n",
    "# Extrair coordenadas das escolas\n",
    "lat = df_rotas['lat']\n",
    "lon = df_rotas['lon']\n",
    "quantidade = df_rotas['quantidade']\n",
    "\n",
    "#Plotando\n",
    "plt.figure(figsize=(10, 6))\n",
    "plt.scatter(lon, lat, c=quantidade, cmap='viridis', marker='o', s=50)\n",
    "\n",
    "# Barra de cores\n",
    "plt.colorbar(label='Quantidade')\n",
    "\n",
    "for i in range(1, len(df_rotas)):\n",
    "    plt.plot([df_rotas.iloc[i-1]['lon'], df_rotas.iloc[i]['lon']],\n",
    "             [df_rotas.iloc[i-1]['lat'], df_rotas.iloc[i]['lat']],\n",
    "             color='gray', linestyle='-', linewidth=1, alpha=0.5)\n",
    "\n",
    "# Título e rótulos dos eixos\n",
    "plt.title('Escola')\n",
    "plt.xlabel('Longitude')\n",
    "plt.ylabel('Latitude')\n",
    "\n",
    "\n",
    "plt.grid(True)\n",
    "plt.show()\n",
    "\n",
    "plt.savefig('rota.png')"
   ]
  },
  {
   "cell_type": "code",
   "execution_count": 47,
   "metadata": {},
   "outputs": [],
   "source": [
    "#Importando biblioteca para persistir em um Data Base\n",
    "from sqlalchemy import create_engine, exc\n",
    "from credenciais_db import db_user, db_password, db_host, db_name"
   ]
  },
  {
   "cell_type": "code",
   "execution_count": 48,
   "metadata": {},
   "outputs": [
    {
     "name": "stdout",
     "output_type": "stream",
     "text": [
      "Conexão bem-sucedida!\n"
     ]
    }
   ],
   "source": [
    "# Criar a string de conexão\n",
    "db_url = f'postgresql+psycopg2://{db_user}:{db_password}@{db_host}/{db_name}'\n",
    "\n",
    "# Criar a engine SQLAlchemy\n",
    "engine = create_engine(db_url)\n",
    "\n",
    "# Testar a conexão\n",
    "try:\n",
    "    connection = engine.connect()\n",
    "    print(\"Conexão bem-sucedida!\")\n",
    "except Exception as e:\n",
    "    print(f\"Erro de conexão: {e}\")"
   ]
  },
  {
   "cell_type": "code",
   "execution_count": 49,
   "metadata": {},
   "outputs": [
    {
     "name": "stdout",
     "output_type": "stream",
     "text": [
      "Schema criado com sucesso.\n"
     ]
    }
   ],
   "source": [
    "try:\n",
    "    # Tente executar o comando SQL\n",
    "    engine.execute(\"CREATE SCHEMA IF NOT EXISTS rotas\")\n",
    "    print(\"Schema criado com sucesso.\")\n",
    "except exc.SQLAlchemyError as e:\n",
    "    # Se ocorrer um erro, imprima a mensagem de erro\n",
    "    print(f\"Ocorreu um erro: {e}\")"
   ]
  },
  {
   "cell_type": "code",
   "execution_count": 50,
   "metadata": {},
   "outputs": [
    {
     "name": "stdout",
     "output_type": "stream",
     "text": [
      "Dados gravados com sucesso. 128 registros foram adicionados.\n"
     ]
    }
   ],
   "source": [
    "try:\n",
    "    # Tente gravar o DataFrame no banco de dados\n",
    "    df_rotas.to_sql('fRotas', engine, schema='rotas', index=False, if_exists='replace')\n",
    "    \n",
    "    # Obtenha o número de linhas no DataFrame\n",
    "    num_linhas = df_rotas.shape[0]\n",
    "    \n",
    "    print(f\"Dados gravados com sucesso. {num_linhas} registros foram adicionados.\")\n",
    "except exc.SQLAlchemyError as e:\n",
    "    # Se ocorrer um erro, imprima a mensagem de erro\n",
    "    print(f\"Ocorreu um erro: {e}\")"
   ]
  },
  {
   "cell_type": "code",
   "execution_count": 51,
   "metadata": {},
   "outputs": [
    {
     "name": "stdout",
     "output_type": "stream",
     "text": [
      "A conexão com o banco de dados foi encerrada.\n"
     ]
    }
   ],
   "source": [
    "# Feche a conexão com o banco de dados\n",
    "engine.dispose()\n",
    "\n",
    "# Imprima uma mensagem\n",
    "print(\"A conexão com o banco de dados foi encerrada.\")"
   ]
  }
 ],
 "metadata": {
  "kernelspec": {
   "display_name": "Python 3 (ipykernel)",
   "language": "python",
   "name": "python3"
  },
  "language_info": {
   "codemirror_mode": {
    "name": "ipython",
    "version": 3
   },
   "file_extension": ".py",
   "mimetype": "text/x-python",
   "name": "python",
   "nbconvert_exporter": "python",
   "pygments_lexer": "ipython3",
   "version": "3.9.13"
  }
 },
 "nbformat": 4,
 "nbformat_minor": 2
}
