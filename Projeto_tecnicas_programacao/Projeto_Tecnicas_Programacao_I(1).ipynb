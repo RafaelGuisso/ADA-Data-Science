{
 "cells": [
  {
   "cell_type": "markdown",
   "metadata": {},
   "source": [
    "# Projeto de Técnicas de Programação I\n",
    "\n",
    "Você trabalha em uma consultoria de dados que foi contratada para realizar a distribuição de materiais didáticos nas escolas da cidade do Rio de Janeiro. Sua missão é realizar tratamentos nos dados de acordo com as normas de padrão definidas pelo cliente e encontrar qual a melhor rota que um caminhão deve realizar para entregar os materiais didáticos de forma a otimizar o seu percurso. \n",
    "\n",
    "Para esse projeto você recebeu três arquivos:\n",
    "- escolas.csv: contém os dados das escolas\n",
    "- subprefeituras.csv: contém dados de quais bairros pertem a cada subprefeitura\n",
    "- material_didatico.csv: contém a quantidade de material didático que cada escola deve receber\n",
    "\n",
    "Como produto final, você deve entregar:\n",
    "- um arquivo csv no as linhas já estarão ordenas de acordo com a rota a ser seguida. Além disso, os dados devem estar no padrão especificado abaixo e contendo as seguintes colunas: id da escola, nome da escola, tipo da escola (EM, CIEP ou colégio), logradouro da entrega, número, bairro, subprefeitura, latitude, longitude e quantidade de material didático que deve ser entregue. O logradouro da escola deve estar em uma coluna diferente do número;\n",
    "- um arquivo csv com a quantidade total de material escolar por subprefeitura para que sejam contabilizados os custos por subprefeitura\n",
    "\n",
    "Como padrão dos dados, considere:\n",
    "- nome das colunas em snake_case\n",
    "- strings não devem conter acentos\n",
    "- todas as strings devem estar em maiúsculo\n",
    "- padronização do nome dos logradouros sem abreviação (Ex: R. deve estar como Rua)\n",
    "- latitude e longitude devem conter apenas 5 casas decimais\n",
    "- os ids da escola devem todos ser strings com 3 caracteres (Ex: '024')\n",
    "\n",
    "Desafio:\n",
    "\n",
    "Entregar um plot com a representação da melhor rota que você encontrou, por exemplo:\n",
    "\n",
    "\n",
    "Obs: O otimizador não é a parte mais importante do projeto. Foque no tratamento dos dados e se preciso, pode reduzir a quantidade de escolas para rodar o otimizador.\n"
   ]
  },
  {
   "cell_type": "code",
   "execution_count": 3,
   "metadata": {},
   "outputs": [],
   "source": [
    "import pandas as pd\n",
    "import numpy as np\n",
    "from unidecode import unidecode\n",
    "import math\n",
    "import matplotlib.pyplot as plt"
   ]
  },
  {
   "cell_type": "code",
   "execution_count": 5,
   "metadata": {},
   "outputs": [],
   "source": [
    "escolas = pd.read_csv('escolas.csv', encoding='utf-8')\n",
    "mt_dida = pd.read_csv('material_didatico.csv')\n",
    "sub_pref = pd.read_csv('subprefeituras.csv', encoding='utf-8')"
   ]
  },
  {
   "cell_type": "markdown",
   "metadata": {},
   "source": [
    "### Visualizando os dataframes"
   ]
  },
  {
   "cell_type": "code",
   "execution_count": 6,
   "metadata": {},
   "outputs": [
    {
     "data": {
      "text/html": [
       "<div>\n",
       "<style scoped>\n",
       "    .dataframe tbody tr th:only-of-type {\n",
       "        vertical-align: middle;\n",
       "    }\n",
       "\n",
       "    .dataframe tbody tr th {\n",
       "        vertical-align: top;\n",
       "    }\n",
       "\n",
       "    .dataframe thead th {\n",
       "        text-align: right;\n",
       "    }\n",
       "</style>\n",
       "<table border=\"1\" class=\"dataframe\">\n",
       "  <thead>\n",
       "    <tr style=\"text-align: right;\">\n",
       "      <th></th>\n",
       "      <th>id</th>\n",
       "      <th>Escolas_Postos</th>\n",
       "      <th>BAIRRO</th>\n",
       "      <th>ENDEREÇO</th>\n",
       "      <th>lat</th>\n",
       "      <th>lon</th>\n",
       "    </tr>\n",
       "  </thead>\n",
       "  <tbody>\n",
       "    <tr>\n",
       "      <th>0</th>\n",
       "      <td>178</td>\n",
       "      <td>CENTRO INTEGRADO DE EDUCAÇÃO PÚBLICA HENFIL</td>\n",
       "      <td>CAJU</td>\n",
       "      <td>Rua Carlos Seidl S/Nº</td>\n",
       "      <td>-22,880888</td>\n",
       "      <td>-43,225326</td>\n",
       "    </tr>\n",
       "    <tr>\n",
       "      <th>1</th>\n",
       "      <td>634</td>\n",
       "      <td>EM ALICE DO AMARAL PEIXOTO</td>\n",
       "      <td>BENFICA</td>\n",
       "      <td>Rua Ébano 187</td>\n",
       "      <td>-22,889574</td>\n",
       "      <td>-43,236202</td>\n",
       "    </tr>\n",
       "    <tr>\n",
       "      <th>2</th>\n",
       "      <td>483</td>\n",
       "      <td>EM CELESTINO SILVA</td>\n",
       "      <td>CENTRO</td>\n",
       "      <td>R. do Lavradio, 56</td>\n",
       "      <td>-22,909293</td>\n",
       "      <td>-43,183579</td>\n",
       "    </tr>\n",
       "  </tbody>\n",
       "</table>\n",
       "</div>"
      ],
      "text/plain": [
       "    id                               Escolas_Postos   BAIRRO  \\\n",
       "0  178  CENTRO INTEGRADO DE EDUCAÇÃO PÚBLICA HENFIL     CAJU   \n",
       "1  634                   EM ALICE DO AMARAL PEIXOTO  BENFICA   \n",
       "2  483                           EM CELESTINO SILVA   CENTRO   \n",
       "\n",
       "               ENDEREÇO          lat         lon  \n",
       "0  Rua Carlos Seidl S/Nº  -22,880888  -43,225326  \n",
       "1          Rua Ébano 187  -22,889574  -43,236202  \n",
       "2     R. do Lavradio, 56  -22,909293  -43,183579  "
      ]
     },
     "execution_count": 6,
     "metadata": {},
     "output_type": "execute_result"
    }
   ],
   "source": [
    "escolas.head(3)"
   ]
  },
  {
   "cell_type": "code",
   "execution_count": 7,
   "metadata": {},
   "outputs": [
    {
     "data": {
      "text/html": [
       "<div>\n",
       "<style scoped>\n",
       "    .dataframe tbody tr th:only-of-type {\n",
       "        vertical-align: middle;\n",
       "    }\n",
       "\n",
       "    .dataframe tbody tr th {\n",
       "        vertical-align: top;\n",
       "    }\n",
       "\n",
       "    .dataframe thead th {\n",
       "        text-align: right;\n",
       "    }\n",
       "</style>\n",
       "<table border=\"1\" class=\"dataframe\">\n",
       "  <thead>\n",
       "    <tr style=\"text-align: right;\">\n",
       "      <th></th>\n",
       "      <th>id</th>\n",
       "      <th>Quantidade</th>\n",
       "    </tr>\n",
       "  </thead>\n",
       "  <tbody>\n",
       "    <tr>\n",
       "      <th>0</th>\n",
       "      <td>178</td>\n",
       "      <td>20</td>\n",
       "    </tr>\n",
       "    <tr>\n",
       "      <th>1</th>\n",
       "      <td>634</td>\n",
       "      <td>121</td>\n",
       "    </tr>\n",
       "    <tr>\n",
       "      <th>2</th>\n",
       "      <td>483</td>\n",
       "      <td>220</td>\n",
       "    </tr>\n",
       "  </tbody>\n",
       "</table>\n",
       "</div>"
      ],
      "text/plain": [
       "    id Quantidade\n",
       "0  178         20\n",
       "1  634        121\n",
       "2  483        220"
      ]
     },
     "execution_count": 7,
     "metadata": {},
     "output_type": "execute_result"
    }
   ],
   "source": [
    "mt_dida.head(3)"
   ]
  },
  {
   "cell_type": "code",
   "execution_count": 8,
   "metadata": {},
   "outputs": [
    {
     "data": {
      "text/html": [
       "<div>\n",
       "<style scoped>\n",
       "    .dataframe tbody tr th:only-of-type {\n",
       "        vertical-align: middle;\n",
       "    }\n",
       "\n",
       "    .dataframe tbody tr th {\n",
       "        vertical-align: top;\n",
       "    }\n",
       "\n",
       "    .dataframe thead th {\n",
       "        text-align: right;\n",
       "    }\n",
       "</style>\n",
       "<table border=\"1\" class=\"dataframe\">\n",
       "  <thead>\n",
       "    <tr style=\"text-align: right;\">\n",
       "      <th></th>\n",
       "      <th>nome</th>\n",
       "      <th>subprefeitura</th>\n",
       "    </tr>\n",
       "  </thead>\n",
       "  <tbody>\n",
       "    <tr>\n",
       "      <th>0</th>\n",
       "      <td>Santo Cristo</td>\n",
       "      <td>Centro</td>\n",
       "    </tr>\n",
       "    <tr>\n",
       "      <th>1</th>\n",
       "      <td>Gamboa</td>\n",
       "      <td>Centro</td>\n",
       "    </tr>\n",
       "    <tr>\n",
       "      <th>2</th>\n",
       "      <td>Saúde</td>\n",
       "      <td>Centro</td>\n",
       "    </tr>\n",
       "  </tbody>\n",
       "</table>\n",
       "</div>"
      ],
      "text/plain": [
       "           nome subprefeitura\n",
       "0  Santo Cristo        Centro\n",
       "1        Gamboa        Centro\n",
       "2         Saúde        Centro"
      ]
     },
     "execution_count": 8,
     "metadata": {},
     "output_type": "execute_result"
    }
   ],
   "source": [
    "sub_pref.head(3)"
   ]
  },
  {
   "cell_type": "markdown",
   "metadata": {},
   "source": [
    "### Realizando transformações e preparando os dados"
   ]
  },
  {
   "cell_type": "markdown",
   "metadata": {},
   "source": [
    "Como padrão dos dados, considere:\n",
    "- nome das colunas em snake_case\n",
    "- strings não devem conter acentos\n",
    "- todas as strings devem estar em maiúsculo\n",
    "- padronização do nome dos logradouros sem abreviação (Ex: R. deve estar como Rua)\n",
    "- latitude e longitude devem conter apenas 5 casas decimais\n",
    "- os ids da escola devem todos ser strings com 3 caracteres (Ex: '024')"
   ]
  },
  {
   "cell_type": "markdown",
   "metadata": {},
   "source": [
    "Os acentos foram removidos apenas de dois dataframes devido aos dados do material didático conterem apenas números."
   ]
  },
  {
   "cell_type": "code",
   "execution_count": 9,
   "metadata": {},
   "outputs": [],
   "source": [
    "# Removendo acentos no df escolas\n",
    "escolas[\"Escolas_Postos\"] = escolas[\"Escolas_Postos\"].apply(lambda x: unidecode(x))\n",
    "escolas[\"BAIRRO\"] = escolas[\"BAIRRO\"].apply(lambda x: unidecode(x))\n",
    "escolas['ENDEREÇO '] = escolas['ENDEREÇO '].apply(lambda x: unidecode(x))\n",
    "# Removendo acentos no df sub_prefeituras\n",
    "sub_pref[\"subprefeitura\"] = sub_pref[\"subprefeitura\"].apply(lambda x: unidecode(x))\n",
    "sub_pref[\"nome\"] = sub_pref[\"nome\"].apply(lambda x: unidecode(x))"
   ]
  },
  {
   "cell_type": "code",
   "execution_count": 10,
   "metadata": {},
   "outputs": [
    {
     "data": {
      "text/html": [
       "<div>\n",
       "<style scoped>\n",
       "    .dataframe tbody tr th:only-of-type {\n",
       "        vertical-align: middle;\n",
       "    }\n",
       "\n",
       "    .dataframe tbody tr th {\n",
       "        vertical-align: top;\n",
       "    }\n",
       "\n",
       "    .dataframe thead th {\n",
       "        text-align: right;\n",
       "    }\n",
       "</style>\n",
       "<table border=\"1\" class=\"dataframe\">\n",
       "  <thead>\n",
       "    <tr style=\"text-align: right;\">\n",
       "      <th></th>\n",
       "      <th>id</th>\n",
       "      <th>Escolas_Postos</th>\n",
       "      <th>BAIRRO</th>\n",
       "      <th>ENDEREÇO</th>\n",
       "      <th>lat</th>\n",
       "      <th>lon</th>\n",
       "    </tr>\n",
       "  </thead>\n",
       "  <tbody>\n",
       "    <tr>\n",
       "      <th>0</th>\n",
       "      <td>178</td>\n",
       "      <td>CENTRO INTEGRADO DE EDUCACAO PUBLICA HENFIL</td>\n",
       "      <td>CAJU</td>\n",
       "      <td>Rua Carlos Seidl S/No</td>\n",
       "      <td>-22,880888</td>\n",
       "      <td>-43,225326</td>\n",
       "    </tr>\n",
       "    <tr>\n",
       "      <th>1</th>\n",
       "      <td>634</td>\n",
       "      <td>EM ALICE DO AMARAL PEIXOTO</td>\n",
       "      <td>BENFICA</td>\n",
       "      <td>Rua Ebano 187</td>\n",
       "      <td>-22,889574</td>\n",
       "      <td>-43,236202</td>\n",
       "    </tr>\n",
       "    <tr>\n",
       "      <th>2</th>\n",
       "      <td>483</td>\n",
       "      <td>EM CELESTINO SILVA</td>\n",
       "      <td>CENTRO</td>\n",
       "      <td>R. do Lavradio, 56</td>\n",
       "      <td>-22,909293</td>\n",
       "      <td>-43,183579</td>\n",
       "    </tr>\n",
       "  </tbody>\n",
       "</table>\n",
       "</div>"
      ],
      "text/plain": [
       "    id                               Escolas_Postos   BAIRRO  \\\n",
       "0  178  CENTRO INTEGRADO DE EDUCACAO PUBLICA HENFIL     CAJU   \n",
       "1  634                   EM ALICE DO AMARAL PEIXOTO  BENFICA   \n",
       "2  483                           EM CELESTINO SILVA   CENTRO   \n",
       "\n",
       "               ENDEREÇO          lat         lon  \n",
       "0  Rua Carlos Seidl S/No  -22,880888  -43,225326  \n",
       "1          Rua Ebano 187  -22,889574  -43,236202  \n",
       "2     R. do Lavradio, 56  -22,909293  -43,183579  "
      ]
     },
     "execution_count": 10,
     "metadata": {},
     "output_type": "execute_result"
    }
   ],
   "source": [
    "escolas.head(3)"
   ]
  },
  {
   "cell_type": "code",
   "execution_count": 11,
   "metadata": {},
   "outputs": [
    {
     "data": {
      "text/html": [
       "<div>\n",
       "<style scoped>\n",
       "    .dataframe tbody tr th:only-of-type {\n",
       "        vertical-align: middle;\n",
       "    }\n",
       "\n",
       "    .dataframe tbody tr th {\n",
       "        vertical-align: top;\n",
       "    }\n",
       "\n",
       "    .dataframe thead th {\n",
       "        text-align: right;\n",
       "    }\n",
       "</style>\n",
       "<table border=\"1\" class=\"dataframe\">\n",
       "  <thead>\n",
       "    <tr style=\"text-align: right;\">\n",
       "      <th></th>\n",
       "      <th>nome</th>\n",
       "      <th>subprefeitura</th>\n",
       "    </tr>\n",
       "  </thead>\n",
       "  <tbody>\n",
       "    <tr>\n",
       "      <th>0</th>\n",
       "      <td>Santo Cristo</td>\n",
       "      <td>Centro</td>\n",
       "    </tr>\n",
       "    <tr>\n",
       "      <th>1</th>\n",
       "      <td>Gamboa</td>\n",
       "      <td>Centro</td>\n",
       "    </tr>\n",
       "    <tr>\n",
       "      <th>2</th>\n",
       "      <td>Saude</td>\n",
       "      <td>Centro</td>\n",
       "    </tr>\n",
       "  </tbody>\n",
       "</table>\n",
       "</div>"
      ],
      "text/plain": [
       "           nome subprefeitura\n",
       "0  Santo Cristo        Centro\n",
       "1        Gamboa        Centro\n",
       "2         Saude        Centro"
      ]
     },
     "execution_count": 11,
     "metadata": {},
     "output_type": "execute_result"
    }
   ],
   "source": [
    "sub_pref.head(3)"
   ]
  },
  {
   "cell_type": "markdown",
   "metadata": {},
   "source": [
    "Transformando os nomes das colunas em snake_case."
   ]
  },
  {
   "cell_type": "code",
   "execution_count": 12,
   "metadata": {},
   "outputs": [
    {
     "data": {
      "text/html": [
       "<div>\n",
       "<style scoped>\n",
       "    .dataframe tbody tr th:only-of-type {\n",
       "        vertical-align: middle;\n",
       "    }\n",
       "\n",
       "    .dataframe tbody tr th {\n",
       "        vertical-align: top;\n",
       "    }\n",
       "\n",
       "    .dataframe thead th {\n",
       "        text-align: right;\n",
       "    }\n",
       "</style>\n",
       "<table border=\"1\" class=\"dataframe\">\n",
       "  <thead>\n",
       "    <tr style=\"text-align: right;\">\n",
       "      <th></th>\n",
       "      <th>id</th>\n",
       "      <th>escolas_postos</th>\n",
       "      <th>bairro</th>\n",
       "      <th>endereço</th>\n",
       "      <th>lat</th>\n",
       "      <th>lon</th>\n",
       "    </tr>\n",
       "  </thead>\n",
       "  <tbody>\n",
       "    <tr>\n",
       "      <th>0</th>\n",
       "      <td>178</td>\n",
       "      <td>CENTRO INTEGRADO DE EDUCACAO PUBLICA HENFIL</td>\n",
       "      <td>CAJU</td>\n",
       "      <td>RUA CARLOS SEIDL S/NO</td>\n",
       "      <td>-22,880888</td>\n",
       "      <td>-43,225326</td>\n",
       "    </tr>\n",
       "    <tr>\n",
       "      <th>1</th>\n",
       "      <td>634</td>\n",
       "      <td>EM ALICE DO AMARAL PEIXOTO</td>\n",
       "      <td>BENFICA</td>\n",
       "      <td>RUA EBANO 187</td>\n",
       "      <td>-22,889574</td>\n",
       "      <td>-43,236202</td>\n",
       "    </tr>\n",
       "    <tr>\n",
       "      <th>2</th>\n",
       "      <td>483</td>\n",
       "      <td>EM CELESTINO SILVA</td>\n",
       "      <td>CENTRO</td>\n",
       "      <td>R. DO LAVRADIO, 56</td>\n",
       "      <td>-22,909293</td>\n",
       "      <td>-43,183579</td>\n",
       "    </tr>\n",
       "  </tbody>\n",
       "</table>\n",
       "</div>"
      ],
      "text/plain": [
       "    id                               escolas_postos   bairro  \\\n",
       "0  178  CENTRO INTEGRADO DE EDUCACAO PUBLICA HENFIL     CAJU   \n",
       "1  634                   EM ALICE DO AMARAL PEIXOTO  BENFICA   \n",
       "2  483                           EM CELESTINO SILVA   CENTRO   \n",
       "\n",
       "                endereço         lat         lon  \n",
       "0  RUA CARLOS SEIDL S/NO  -22,880888  -43,225326  \n",
       "1          RUA EBANO 187  -22,889574  -43,236202  \n",
       "2     R. DO LAVRADIO, 56  -22,909293  -43,183579  "
      ]
     },
     "execution_count": 12,
     "metadata": {},
     "output_type": "execute_result"
    }
   ],
   "source": [
    "# Renomeando a coluna ENDEREÇO e transformando o conteúdo em maiúsculo\n",
    "escolas = escolas.rename(columns={'ENDEREÇO ': 'endereço'})\n",
    "escolas = escolas.rename(columns={'BAIRRO': 'bairro'})\n",
    "escolas = escolas.rename(columns={'Escolas_Postos': 'escolas_postos'})\n",
    "escolas['endereço'] = escolas['endereço'].str.upper()\n",
    "escolas.head(3)"
   ]
  },
  {
   "cell_type": "code",
   "execution_count": 13,
   "metadata": {},
   "outputs": [
    {
     "data": {
      "text/html": [
       "<div>\n",
       "<style scoped>\n",
       "    .dataframe tbody tr th:only-of-type {\n",
       "        vertical-align: middle;\n",
       "    }\n",
       "\n",
       "    .dataframe tbody tr th {\n",
       "        vertical-align: top;\n",
       "    }\n",
       "\n",
       "    .dataframe thead th {\n",
       "        text-align: right;\n",
       "    }\n",
       "</style>\n",
       "<table border=\"1\" class=\"dataframe\">\n",
       "  <thead>\n",
       "    <tr style=\"text-align: right;\">\n",
       "      <th></th>\n",
       "      <th>bairro</th>\n",
       "      <th>subprefeitura</th>\n",
       "    </tr>\n",
       "  </thead>\n",
       "  <tbody>\n",
       "    <tr>\n",
       "      <th>0</th>\n",
       "      <td>SANTO CRISTO</td>\n",
       "      <td>CENTRO</td>\n",
       "    </tr>\n",
       "    <tr>\n",
       "      <th>1</th>\n",
       "      <td>GAMBOA</td>\n",
       "      <td>CENTRO</td>\n",
       "    </tr>\n",
       "    <tr>\n",
       "      <th>2</th>\n",
       "      <td>SAUDE</td>\n",
       "      <td>CENTRO</td>\n",
       "    </tr>\n",
       "  </tbody>\n",
       "</table>\n",
       "</div>"
      ],
      "text/plain": [
       "         bairro subprefeitura\n",
       "0  SANTO CRISTO        CENTRO\n",
       "1        GAMBOA        CENTRO\n",
       "2         SAUDE        CENTRO"
      ]
     },
     "execution_count": 13,
     "metadata": {},
     "output_type": "execute_result"
    }
   ],
   "source": [
    "# Renomeando a coluna de nome para BAIRRO e transformando as str em maiúsculas\n",
    "sub_pref = sub_pref.rename(columns={'nome': 'bairro'})\n",
    "sub_pref['bairro'] = sub_pref['bairro'].str.upper()\n",
    "sub_pref['subprefeitura'] = sub_pref['subprefeitura'].str.upper()\n",
    "sub_pref.head(3)"
   ]
  },
  {
   "cell_type": "code",
   "execution_count": 14,
   "metadata": {},
   "outputs": [],
   "source": [
    "# Renomeando a coluna de Quantidade para QUANTIDADE\n",
    "mt_dida = mt_dida.rename(columns={'Quantidade': 'quantidade'})"
   ]
  },
  {
   "cell_type": "markdown",
   "metadata": {},
   "source": [
    "Unindo os 3 dataframes pelo 'id' e pelo 'bairro'."
   ]
  },
  {
   "cell_type": "code",
   "execution_count": 15,
   "metadata": {},
   "outputs": [],
   "source": [
    "table = pd.merge(pd.merge(escolas, mt_dida),sub_pref)"
   ]
  },
  {
   "cell_type": "markdown",
   "metadata": {},
   "source": [
    "Para que as colunas 'lat' e 'lon' possuam apenas 5 casas decimais, é importante que os dados seja do tipo float. Por isso, estamos verificando o tipo de dados de cada coluna e alterando os dados citados para o formato necessário."
   ]
  },
  {
   "cell_type": "code",
   "execution_count": 16,
   "metadata": {},
   "outputs": [
    {
     "name": "stdout",
     "output_type": "stream",
     "text": [
      "<class 'pandas.core.frame.DataFrame'>\n",
      "RangeIndex: 143 entries, 0 to 142\n",
      "Data columns (total 8 columns):\n",
      " #   Column          Non-Null Count  Dtype \n",
      "---  ------          --------------  ----- \n",
      " 0   id              143 non-null    int64 \n",
      " 1   escolas_postos  143 non-null    object\n",
      " 2   bairro          143 non-null    object\n",
      " 3   endereço        143 non-null    object\n",
      " 4   lat             143 non-null    object\n",
      " 5   lon             143 non-null    object\n",
      " 6   quantidade      140 non-null    object\n",
      " 7   subprefeitura   143 non-null    object\n",
      "dtypes: int64(1), object(7)\n",
      "memory usage: 9.1+ KB\n"
     ]
    }
   ],
   "source": [
    "table.info()"
   ]
  },
  {
   "cell_type": "code",
   "execution_count": 17,
   "metadata": {},
   "outputs": [],
   "source": [
    "# Padronizando o logradouro\n",
    "table['endereço'] = table['endereço'].str.replace(',',' ')\n",
    "table['endereço'] = table['endereço'].str.replace('R.','RUA ')"
   ]
  },
  {
   "cell_type": "code",
   "execution_count": 18,
   "metadata": {},
   "outputs": [],
   "source": [
    "table['escolas_postos'] = table['escolas_postos'].str.replace('.','')"
   ]
  },
  {
   "cell_type": "code",
   "execution_count": 19,
   "metadata": {},
   "outputs": [
    {
     "data": {
      "text/html": [
       "<div>\n",
       "<style scoped>\n",
       "    .dataframe tbody tr th:only-of-type {\n",
       "        vertical-align: middle;\n",
       "    }\n",
       "\n",
       "    .dataframe tbody tr th {\n",
       "        vertical-align: top;\n",
       "    }\n",
       "\n",
       "    .dataframe thead th {\n",
       "        text-align: right;\n",
       "    }\n",
       "</style>\n",
       "<table border=\"1\" class=\"dataframe\">\n",
       "  <thead>\n",
       "    <tr style=\"text-align: right;\">\n",
       "      <th></th>\n",
       "      <th>id</th>\n",
       "      <th>escolas_postos</th>\n",
       "      <th>bairro</th>\n",
       "      <th>endereço</th>\n",
       "      <th>lat</th>\n",
       "      <th>lon</th>\n",
       "      <th>quantidade</th>\n",
       "      <th>subprefeitura</th>\n",
       "    </tr>\n",
       "  </thead>\n",
       "  <tbody>\n",
       "    <tr>\n",
       "      <th>0</th>\n",
       "      <td>178</td>\n",
       "      <td>CENTRO INTEGRADO DE EDUCACAO PUBLICA HENFIL</td>\n",
       "      <td>CAJU</td>\n",
       "      <td>RUA CARLOS SEIDL S/NO</td>\n",
       "      <td>-22,880888</td>\n",
       "      <td>-43,225326</td>\n",
       "      <td>20</td>\n",
       "      <td>CENTRO</td>\n",
       "    </tr>\n",
       "    <tr>\n",
       "      <th>1</th>\n",
       "      <td>634</td>\n",
       "      <td>EM ALICE DO AMARAL PEIXOTO</td>\n",
       "      <td>BENFICA</td>\n",
       "      <td>RUA EBANO 187</td>\n",
       "      <td>-22,889574</td>\n",
       "      <td>-43,236202</td>\n",
       "      <td>121</td>\n",
       "      <td>CENTRO</td>\n",
       "    </tr>\n",
       "    <tr>\n",
       "      <th>2</th>\n",
       "      <td>600</td>\n",
       "      <td>EM URUGUAI</td>\n",
       "      <td>BENFICA</td>\n",
       "      <td>RUA ANA NERI 192</td>\n",
       "      <td>-22,898488</td>\n",
       "      <td>-43,237756</td>\n",
       "      <td>591</td>\n",
       "      <td>CENTRO</td>\n",
       "    </tr>\n",
       "  </tbody>\n",
       "</table>\n",
       "</div>"
      ],
      "text/plain": [
       "    id                               escolas_postos   bairro  \\\n",
       "0  178  CENTRO INTEGRADO DE EDUCACAO PUBLICA HENFIL     CAJU   \n",
       "1  634                   EM ALICE DO AMARAL PEIXOTO  BENFICA   \n",
       "2  600                                   EM URUGUAI  BENFICA   \n",
       "\n",
       "                endereço         lat         lon quantidade subprefeitura  \n",
       "0  RUA CARLOS SEIDL S/NO  -22,880888  -43,225326         20        CENTRO  \n",
       "1          RUA EBANO 187  -22,889574  -43,236202        121        CENTRO  \n",
       "2       RUA ANA NERI 192  -22,898488  -43,237756        591        CENTRO  "
      ]
     },
     "execution_count": 19,
     "metadata": {},
     "output_type": "execute_result"
    }
   ],
   "source": [
    "# Tabela final pré-pronta\n",
    "table.head(3)"
   ]
  },
  {
   "cell_type": "code",
   "execution_count": 20,
   "metadata": {},
   "outputs": [
    {
     "data": {
      "text/html": [
       "<div>\n",
       "<style scoped>\n",
       "    .dataframe tbody tr th:only-of-type {\n",
       "        vertical-align: middle;\n",
       "    }\n",
       "\n",
       "    .dataframe tbody tr th {\n",
       "        vertical-align: top;\n",
       "    }\n",
       "\n",
       "    .dataframe thead th {\n",
       "        text-align: right;\n",
       "    }\n",
       "</style>\n",
       "<table border=\"1\" class=\"dataframe\">\n",
       "  <thead>\n",
       "    <tr style=\"text-align: right;\">\n",
       "      <th></th>\n",
       "      <th>id</th>\n",
       "      <th>escolas_postos</th>\n",
       "      <th>bairro</th>\n",
       "      <th>endereço</th>\n",
       "      <th>lat</th>\n",
       "      <th>lon</th>\n",
       "      <th>quantidade</th>\n",
       "      <th>subprefeitura</th>\n",
       "    </tr>\n",
       "  </thead>\n",
       "  <tbody>\n",
       "    <tr>\n",
       "      <th>0</th>\n",
       "      <td>178</td>\n",
       "      <td>CENTRO INTEGRADO DE EDUCACAO PUBLICA HENFIL</td>\n",
       "      <td>CAJU</td>\n",
       "      <td>RUA CARLOS SEIDL S/NO</td>\n",
       "      <td>-22,880888</td>\n",
       "      <td>-43,225326</td>\n",
       "      <td>20</td>\n",
       "      <td>CENTRO</td>\n",
       "    </tr>\n",
       "    <tr>\n",
       "      <th>1</th>\n",
       "      <td>634</td>\n",
       "      <td>EM ALICE DO AMARAL PEIXOTO</td>\n",
       "      <td>BENFICA</td>\n",
       "      <td>RUA EBANO 187</td>\n",
       "      <td>-22,889574</td>\n",
       "      <td>-43,236202</td>\n",
       "      <td>121</td>\n",
       "      <td>CENTRO</td>\n",
       "    </tr>\n",
       "    <tr>\n",
       "      <th>2</th>\n",
       "      <td>600</td>\n",
       "      <td>EM URUGUAI</td>\n",
       "      <td>BENFICA</td>\n",
       "      <td>RUA ANA NERI 192</td>\n",
       "      <td>-22,898488</td>\n",
       "      <td>-43,237756</td>\n",
       "      <td>591</td>\n",
       "      <td>CENTRO</td>\n",
       "    </tr>\n",
       "    <tr>\n",
       "      <th>3</th>\n",
       "      <td>483</td>\n",
       "      <td>EM CELESTINO SILVA</td>\n",
       "      <td>CENTRO</td>\n",
       "      <td>RUA  DO LAVRADIO  56</td>\n",
       "      <td>-22,909293</td>\n",
       "      <td>-43,183579</td>\n",
       "      <td>220</td>\n",
       "      <td>CENTRO</td>\n",
       "    </tr>\n",
       "    <tr>\n",
       "      <th>4</th>\n",
       "      <td>490</td>\n",
       "      <td>EM TIA CIATA</td>\n",
       "      <td>CENTRO</td>\n",
       "      <td>AVENIDA PRESIDENTE VARGAS S/NO</td>\n",
       "      <td>-22,907123</td>\n",
       "      <td>-43,195068</td>\n",
       "      <td>578</td>\n",
       "      <td>CENTRO</td>\n",
       "    </tr>\n",
       "    <tr>\n",
       "      <th>...</th>\n",
       "      <td>...</td>\n",
       "      <td>...</td>\n",
       "      <td>...</td>\n",
       "      <td>...</td>\n",
       "      <td>...</td>\n",
       "      <td>...</td>\n",
       "      <td>...</td>\n",
       "      <td>...</td>\n",
       "    </tr>\n",
       "    <tr>\n",
       "      <th>138</th>\n",
       "      <td>289</td>\n",
       "      <td>EM BERTHA LUTZ</td>\n",
       "      <td>GUARATIBA</td>\n",
       "      <td>ESTRADA DO PIAI 2075</td>\n",
       "      <td>-22,979064</td>\n",
       "      <td>-43,67058</td>\n",
       "      <td>329</td>\n",
       "      <td>ZONA OESTE</td>\n",
       "    </tr>\n",
       "    <tr>\n",
       "      <th>139</th>\n",
       "      <td>474</td>\n",
       "      <td>EM ENGENHEIRO GASTAO RANGEL</td>\n",
       "      <td>GUARATIBA</td>\n",
       "      <td>ESTRADA DO MAGARCA 9.183</td>\n",
       "      <td>-22,98046</td>\n",
       "      <td>-43,643545</td>\n",
       "      <td>320</td>\n",
       "      <td>ZONA OESTE</td>\n",
       "    </tr>\n",
       "    <tr>\n",
       "      <th>140</th>\n",
       "      <td>301</td>\n",
       "      <td>EM JONATAS SERRANO</td>\n",
       "      <td>GUARATIBA</td>\n",
       "      <td>ESTRADA DO MATO ALTO  S/NO</td>\n",
       "      <td>-22,953163</td>\n",
       "      <td>-43,577409</td>\n",
       "      <td>335</td>\n",
       "      <td>ZONA OESTE</td>\n",
       "    </tr>\n",
       "    <tr>\n",
       "      <th>141</th>\n",
       "      <td>215</td>\n",
       "      <td>EM NARCISA AMALIA</td>\n",
       "      <td>ILHA DE GUARATIBA</td>\n",
       "      <td>ESTRADA TEODORETO DE CAMARGO S/N.O</td>\n",
       "      <td>-23,009084</td>\n",
       "      <td>-43,537582</td>\n",
       "      <td>NaN</td>\n",
       "      <td>ZONA OESTE</td>\n",
       "    </tr>\n",
       "    <tr>\n",
       "      <th>142</th>\n",
       "      <td>606</td>\n",
       "      <td>EM PROFESSOR CASTILHO</td>\n",
       "      <td>ILHA DE GUARATIBA</td>\n",
       "      <td>CAMINHO DA MATRIZ 4406</td>\n",
       "      <td>-22,994124</td>\n",
       "      <td>-43,593683</td>\n",
       "      <td>521</td>\n",
       "      <td>ZONA OESTE</td>\n",
       "    </tr>\n",
       "  </tbody>\n",
       "</table>\n",
       "<p>143 rows × 8 columns</p>\n",
       "</div>"
      ],
      "text/plain": [
       "      id                               escolas_postos             bairro  \\\n",
       "0    178  CENTRO INTEGRADO DE EDUCACAO PUBLICA HENFIL               CAJU   \n",
       "1    634                   EM ALICE DO AMARAL PEIXOTO            BENFICA   \n",
       "2    600                                   EM URUGUAI            BENFICA   \n",
       "3    483                           EM CELESTINO SILVA             CENTRO   \n",
       "4    490                                 EM TIA CIATA             CENTRO   \n",
       "..   ...                                          ...                ...   \n",
       "138  289                               EM BERTHA LUTZ          GUARATIBA   \n",
       "139  474                  EM ENGENHEIRO GASTAO RANGEL          GUARATIBA   \n",
       "140  301                           EM JONATAS SERRANO          GUARATIBA   \n",
       "141  215                            EM NARCISA AMALIA  ILHA DE GUARATIBA   \n",
       "142  606                        EM PROFESSOR CASTILHO  ILHA DE GUARATIBA   \n",
       "\n",
       "                               endereço         lat         lon quantidade  \\\n",
       "0                 RUA CARLOS SEIDL S/NO  -22,880888  -43,225326         20   \n",
       "1                         RUA EBANO 187  -22,889574  -43,236202        121   \n",
       "2                      RUA ANA NERI 192  -22,898488  -43,237756        591   \n",
       "3                  RUA  DO LAVRADIO  56  -22,909293  -43,183579        220   \n",
       "4        AVENIDA PRESIDENTE VARGAS S/NO  -22,907123  -43,195068        578   \n",
       "..                                  ...         ...         ...        ...   \n",
       "138                ESTRADA DO PIAI 2075  -22,979064   -43,67058        329   \n",
       "139            ESTRADA DO MAGARCA 9.183   -22,98046  -43,643545        320   \n",
       "140          ESTRADA DO MATO ALTO  S/NO  -22,953163  -43,577409        335   \n",
       "141  ESTRADA TEODORETO DE CAMARGO S/N.O  -23,009084  -43,537582        NaN   \n",
       "142              CAMINHO DA MATRIZ 4406  -22,994124  -43,593683        521   \n",
       "\n",
       "    subprefeitura  \n",
       "0          CENTRO  \n",
       "1          CENTRO  \n",
       "2          CENTRO  \n",
       "3          CENTRO  \n",
       "4          CENTRO  \n",
       "..            ...  \n",
       "138    ZONA OESTE  \n",
       "139    ZONA OESTE  \n",
       "140    ZONA OESTE  \n",
       "141    ZONA OESTE  \n",
       "142    ZONA OESTE  \n",
       "\n",
       "[143 rows x 8 columns]"
      ]
     },
     "execution_count": 20,
     "metadata": {},
     "output_type": "execute_result"
    }
   ],
   "source": [
    "table"
   ]
  },
  {
   "cell_type": "markdown",
   "metadata": {},
   "source": [
    "### Criando colunas"
   ]
  },
  {
   "cell_type": "code",
   "execution_count": 21,
   "metadata": {},
   "outputs": [],
   "source": [
    "log_num = table['endereço'].str.split(' ')\n",
    "tipo_escola = table['escolas_postos'].str.split(' ')"
   ]
  },
  {
   "cell_type": "code",
   "execution_count": 22,
   "metadata": {},
   "outputs": [
    {
     "data": {
      "text/plain": [
       "143"
      ]
     },
     "execution_count": 22,
     "metadata": {},
     "output_type": "execute_result"
    }
   ],
   "source": [
    "len(table)"
   ]
  },
  {
   "cell_type": "code",
   "execution_count": null,
   "metadata": {},
   "outputs": [],
   "source": [
    "# Endereço é separado por logradouro e número\n",
    "table['número'] = ''\n",
    "table['logradouro'] = ''\n",
    "table['tipo_escola'] = ''\n",
    "for i in range(len(table)):\n",
    "    table['número'][i] = log_num[i][-1]\n",
    "    table['logradouro'][i] = log_num[i][0]\n",
    "    table['tipo_escola'][i] = tipo_escola[i][0]"
   ]
  },
  {
   "cell_type": "code",
   "execution_count": 24,
   "metadata": {},
   "outputs": [
    {
     "data": {
      "text/plain": [
       "array(['CENTRO', 'EM', 'ESCOLA', 'CIEP', 'COLEGIO'], dtype=object)"
      ]
     },
     "execution_count": 24,
     "metadata": {},
     "output_type": "execute_result"
    }
   ],
   "source": [
    "# Verificando se os dados estão dentro do padrão solicitado\n",
    "table['tipo_escola'].unique()"
   ]
  },
  {
   "cell_type": "code",
   "execution_count": 25,
   "metadata": {},
   "outputs": [],
   "source": [
    "lat = table['lat'].str.replace(',','.')\n",
    "lat = lat.astype(float)"
   ]
  },
  {
   "cell_type": "code",
   "execution_count": 26,
   "metadata": {},
   "outputs": [],
   "source": [
    "lon = table['lon'].str.replace(',','.')\n",
    "lon = lon.astype(float)"
   ]
  },
  {
   "cell_type": "code",
   "execution_count": 27,
   "metadata": {},
   "outputs": [],
   "source": [
    "table['lat'] = lat.round(5)\n",
    "table['lon'] = lon.round(5)"
   ]
  },
  {
   "cell_type": "code",
   "execution_count": 28,
   "metadata": {},
   "outputs": [
    {
     "data": {
      "text/plain": [
       "id                0\n",
       "escolas_postos    0\n",
       "bairro            0\n",
       "endereço          0\n",
       "lat               0\n",
       "lon               0\n",
       "quantidade        3\n",
       "subprefeitura     0\n",
       "número            0\n",
       "logradouro        0\n",
       "tipo_escola       0\n",
       "dtype: int64"
      ]
     },
     "execution_count": 28,
     "metadata": {},
     "output_type": "execute_result"
    }
   ],
   "source": [
    "# Dados ausentes?\n",
    "table.isnull().sum()"
   ]
  },
  {
   "cell_type": "code",
   "execution_count": 29,
   "metadata": {},
   "outputs": [
    {
     "data": {
      "text/plain": [
       "(143, 11)"
      ]
     },
     "execution_count": 29,
     "metadata": {},
     "output_type": "execute_result"
    }
   ],
   "source": [
    "# Tamanho da base\n",
    "table.shape"
   ]
  },
  {
   "cell_type": "code",
   "execution_count": 30,
   "metadata": {},
   "outputs": [],
   "source": [
    "# Removendo 3 linhas de dados ausentes\n",
    "table = table.dropna(axis=0)"
   ]
  },
  {
   "cell_type": "code",
   "execution_count": 31,
   "metadata": {},
   "outputs": [
    {
     "data": {
      "text/plain": [
       "array([178, 634, 600, 483, 490, 476, 132,  89,  17, 540,  55, 387, 331,\n",
       "       450, 558, 413, 309, 523, 268,  35,  11, 163, 361, 226, 638, 126,\n",
       "       180, 587, 653, 660, 382, 217, 378,  20,  25, 373, 624, 157, 117,\n",
       "       351, 502, 135, 440, 388, 259, 422,  41, 537, 566, 161, 230, 498,\n",
       "       379, 399, 616, 144, 534, 342, 139, 146, 663, 121, 263, 118, 140,\n",
       "       260,  69,  90, 274, 676, 390, 608, 589, 256,  91, 248, 623, 603,\n",
       "       673, 520, 308, 576, 171, 477,  31, 514,  23, 415,  16, 570, 690,\n",
       "       202, 211, 466, 636, 206, 527, 586,  80, 398, 175, 495, 641, 689,\n",
       "       568, 255, 320,  52, 323, 560, 246, 311, 297, 573, 319, 316, 497,\n",
       "       584, 515, 210, 289, 474, 301, 606])"
      ]
     },
     "execution_count": 31,
     "metadata": {},
     "output_type": "execute_result"
    }
   ],
   "source": [
    "# Visualizando os ids e verificando se existem ids com menos de 3 caracteres\n",
    "table['id'].unique()"
   ]
  },
  {
   "cell_type": "code",
   "execution_count": 32,
   "metadata": {},
   "outputs": [
    {
     "name": "stderr",
     "output_type": "stream",
     "text": [
      "/tmp/ipykernel_9622/3986737917.py:2: SettingWithCopyWarning: \n",
      "A value is trying to be set on a copy of a slice from a DataFrame.\n",
      "Try using .loc[row_indexer,col_indexer] = value instead\n",
      "\n",
      "See the caveats in the documentation: https://pandas.pydata.org/pandas-docs/stable/user_guide/indexing.html#returning-a-view-versus-a-copy\n",
      "  table['id'] = [str(id_).zfill(3) for id_ in table['id']]\n"
     ]
    }
   ],
   "source": [
    "# Convertendo os IDs em strings e preenchendo com zeros à esquerda\n",
    "table['id'] = [str(id_).zfill(3) for id_ in table['id']]\n"
   ]
  },
  {
   "cell_type": "code",
   "execution_count": 33,
   "metadata": {},
   "outputs": [
    {
     "data": {
      "text/plain": [
       "array(['178', '634', '600', '483', '490', '476', '132', '089', '017',\n",
       "       '540', '055', '387', '331', '450', '558', '413', '309', '523',\n",
       "       '268', '035', '011', '163', '361', '226', '638', '126', '180',\n",
       "       '587', '653', '660', '382', '217', '378', '020', '025', '373',\n",
       "       '624', '157', '117', '351', '502', '135', '440', '388', '259',\n",
       "       '422', '041', '537', '566', '161', '230', '498', '379', '399',\n",
       "       '616', '144', '534', '342', '139', '146', '663', '121', '263',\n",
       "       '118', '140', '260', '069', '090', '274', '676', '390', '608',\n",
       "       '589', '256', '091', '248', '623', '603', '673', '520', '308',\n",
       "       '576', '171', '477', '031', '514', '023', '415', '016', '570',\n",
       "       '690', '202', '211', '466', '636', '206', '527', '586', '080',\n",
       "       '398', '175', '495', '641', '689', '568', '255', '320', '052',\n",
       "       '323', '560', '246', '311', '297', '573', '319', '316', '497',\n",
       "       '584', '515', '210', '289', '474', '301', '606'], dtype=object)"
      ]
     },
     "execution_count": 33,
     "metadata": {},
     "output_type": "execute_result"
    }
   ],
   "source": [
    "table['id'].unique()"
   ]
  },
  {
   "cell_type": "code",
   "execution_count": 34,
   "metadata": {},
   "outputs": [
    {
     "data": {
      "text/plain": [
       "124"
      ]
     },
     "execution_count": 34,
     "metadata": {},
     "output_type": "execute_result"
    }
   ],
   "source": [
    "len(table['escolas_postos'].unique())"
   ]
  },
  {
   "cell_type": "markdown",
   "metadata": {},
   "source": [
    "Para verificar se há duplicatas, foram selecionadas as colunas 'id', 'escolas_postos', 'lat' e 'lon'. Isso porque pode haver duas escolas com o mesmo nome no mesmo bairro, porém, é impossível que exista duas escolas com o mesmo nome e id ocupando a mesma coordenada."
   ]
  },
  {
   "cell_type": "code",
   "execution_count": 35,
   "metadata": {},
   "outputs": [
    {
     "name": "stdout",
     "output_type": "stream",
     "text": [
      "True\n",
      "True\n",
      "True\n",
      "True\n",
      "True\n",
      "True\n",
      "True\n",
      "True\n",
      "True\n",
      "True\n",
      "True\n",
      "True\n",
      "True\n",
      "True\n"
     ]
    }
   ],
   "source": [
    "# Verificando se há duplicatas com base nas colunas 'id', 'escolas_postos', 'lat' e 'lon'\n",
    "duplicatas = table.duplicated(subset=['id', 'escolas_postos', 'lat', 'lon'])\n",
    "for i in duplicatas:\n",
    "    if i == True:\n",
    "        print(i)"
   ]
  },
  {
   "cell_type": "code",
   "execution_count": 36,
   "metadata": {},
   "outputs": [
    {
     "name": "stdout",
     "output_type": "stream",
     "text": [
      "14\n"
     ]
    }
   ],
   "source": [
    "# Quantidade de dados duplicados\n",
    "print(sum(duplicatas))"
   ]
  },
  {
   "cell_type": "code",
   "execution_count": 37,
   "metadata": {},
   "outputs": [],
   "source": [
    "# Removendo duplicatas\n",
    "table = table.drop_duplicates()"
   ]
  },
  {
   "cell_type": "code",
   "execution_count": 38,
   "metadata": {},
   "outputs": [
    {
     "data": {
      "text/html": [
       "<div>\n",
       "<style scoped>\n",
       "    .dataframe tbody tr th:only-of-type {\n",
       "        vertical-align: middle;\n",
       "    }\n",
       "\n",
       "    .dataframe tbody tr th {\n",
       "        vertical-align: top;\n",
       "    }\n",
       "\n",
       "    .dataframe thead th {\n",
       "        text-align: right;\n",
       "    }\n",
       "</style>\n",
       "<table border=\"1\" class=\"dataframe\">\n",
       "  <thead>\n",
       "    <tr style=\"text-align: right;\">\n",
       "      <th></th>\n",
       "      <th>id</th>\n",
       "      <th>escolas_postos</th>\n",
       "      <th>bairro</th>\n",
       "      <th>endereço</th>\n",
       "      <th>lat</th>\n",
       "      <th>lon</th>\n",
       "      <th>quantidade</th>\n",
       "      <th>subprefeitura</th>\n",
       "      <th>número</th>\n",
       "      <th>logradouro</th>\n",
       "      <th>tipo_escola</th>\n",
       "    </tr>\n",
       "  </thead>\n",
       "  <tbody>\n",
       "    <tr>\n",
       "      <th>0</th>\n",
       "      <td>178</td>\n",
       "      <td>CENTRO INTEGRADO DE EDUCACAO PUBLICA HENFIL</td>\n",
       "      <td>CAJU</td>\n",
       "      <td>RUA CARLOS SEIDL S/NO</td>\n",
       "      <td>-22.88089</td>\n",
       "      <td>-43.22533</td>\n",
       "      <td>20</td>\n",
       "      <td>CENTRO</td>\n",
       "      <td>S/NO</td>\n",
       "      <td>RUA</td>\n",
       "      <td>CENTRO</td>\n",
       "    </tr>\n",
       "    <tr>\n",
       "      <th>1</th>\n",
       "      <td>634</td>\n",
       "      <td>EM ALICE DO AMARAL PEIXOTO</td>\n",
       "      <td>BENFICA</td>\n",
       "      <td>RUA EBANO 187</td>\n",
       "      <td>-22.88957</td>\n",
       "      <td>-43.23620</td>\n",
       "      <td>121</td>\n",
       "      <td>CENTRO</td>\n",
       "      <td>187</td>\n",
       "      <td>RUA</td>\n",
       "      <td>EM</td>\n",
       "    </tr>\n",
       "    <tr>\n",
       "      <th>2</th>\n",
       "      <td>600</td>\n",
       "      <td>EM URUGUAI</td>\n",
       "      <td>BENFICA</td>\n",
       "      <td>RUA ANA NERI 192</td>\n",
       "      <td>-22.89849</td>\n",
       "      <td>-43.23776</td>\n",
       "      <td>591</td>\n",
       "      <td>CENTRO</td>\n",
       "      <td>192</td>\n",
       "      <td>RUA</td>\n",
       "      <td>EM</td>\n",
       "    </tr>\n",
       "    <tr>\n",
       "      <th>3</th>\n",
       "      <td>483</td>\n",
       "      <td>EM CELESTINO SILVA</td>\n",
       "      <td>CENTRO</td>\n",
       "      <td>RUA  DO LAVRADIO  56</td>\n",
       "      <td>-22.90929</td>\n",
       "      <td>-43.18358</td>\n",
       "      <td>220</td>\n",
       "      <td>CENTRO</td>\n",
       "      <td>56</td>\n",
       "      <td>RUA</td>\n",
       "      <td>EM</td>\n",
       "    </tr>\n",
       "    <tr>\n",
       "      <th>4</th>\n",
       "      <td>490</td>\n",
       "      <td>EM TIA CIATA</td>\n",
       "      <td>CENTRO</td>\n",
       "      <td>AVENIDA PRESIDENTE VARGAS S/NO</td>\n",
       "      <td>-22.90712</td>\n",
       "      <td>-43.19507</td>\n",
       "      <td>578</td>\n",
       "      <td>CENTRO</td>\n",
       "      <td>S/NO</td>\n",
       "      <td>AVENIDA</td>\n",
       "      <td>EM</td>\n",
       "    </tr>\n",
       "    <tr>\n",
       "      <th>...</th>\n",
       "      <td>...</td>\n",
       "      <td>...</td>\n",
       "      <td>...</td>\n",
       "      <td>...</td>\n",
       "      <td>...</td>\n",
       "      <td>...</td>\n",
       "      <td>...</td>\n",
       "      <td>...</td>\n",
       "      <td>...</td>\n",
       "      <td>...</td>\n",
       "      <td>...</td>\n",
       "    </tr>\n",
       "    <tr>\n",
       "      <th>137</th>\n",
       "      <td>210</td>\n",
       "      <td>EM DEBORA MENDES DE MORAES</td>\n",
       "      <td>PEDRA DE GUARATIBA</td>\n",
       "      <td>RUA BELCHIOR DA FONSECA 643</td>\n",
       "      <td>-23.00142</td>\n",
       "      <td>-43.63876</td>\n",
       "      <td>570</td>\n",
       "      <td>ZONA OESTE</td>\n",
       "      <td>643</td>\n",
       "      <td>RUA</td>\n",
       "      <td>EM</td>\n",
       "    </tr>\n",
       "    <tr>\n",
       "      <th>138</th>\n",
       "      <td>289</td>\n",
       "      <td>EM BERTHA LUTZ</td>\n",
       "      <td>GUARATIBA</td>\n",
       "      <td>ESTRADA DO PIAI 2075</td>\n",
       "      <td>-22.97906</td>\n",
       "      <td>-43.67058</td>\n",
       "      <td>329</td>\n",
       "      <td>ZONA OESTE</td>\n",
       "      <td>2075</td>\n",
       "      <td>ESTRADA</td>\n",
       "      <td>EM</td>\n",
       "    </tr>\n",
       "    <tr>\n",
       "      <th>139</th>\n",
       "      <td>474</td>\n",
       "      <td>EM ENGENHEIRO GASTAO RANGEL</td>\n",
       "      <td>GUARATIBA</td>\n",
       "      <td>ESTRADA DO MAGARCA 9.183</td>\n",
       "      <td>-22.98046</td>\n",
       "      <td>-43.64354</td>\n",
       "      <td>320</td>\n",
       "      <td>ZONA OESTE</td>\n",
       "      <td>9.183</td>\n",
       "      <td>ESTRADA</td>\n",
       "      <td>EM</td>\n",
       "    </tr>\n",
       "    <tr>\n",
       "      <th>140</th>\n",
       "      <td>301</td>\n",
       "      <td>EM JONATAS SERRANO</td>\n",
       "      <td>GUARATIBA</td>\n",
       "      <td>ESTRADA DO MATO ALTO  S/NO</td>\n",
       "      <td>-22.95316</td>\n",
       "      <td>-43.57741</td>\n",
       "      <td>335</td>\n",
       "      <td>ZONA OESTE</td>\n",
       "      <td>S/NO</td>\n",
       "      <td>ESTRADA</td>\n",
       "      <td>EM</td>\n",
       "    </tr>\n",
       "    <tr>\n",
       "      <th>142</th>\n",
       "      <td>606</td>\n",
       "      <td>EM PROFESSOR CASTILHO</td>\n",
       "      <td>ILHA DE GUARATIBA</td>\n",
       "      <td>CAMINHO DA MATRIZ 4406</td>\n",
       "      <td>-22.99412</td>\n",
       "      <td>-43.59368</td>\n",
       "      <td>521</td>\n",
       "      <td>ZONA OESTE</td>\n",
       "      <td>4406</td>\n",
       "      <td>CAMINHO</td>\n",
       "      <td>EM</td>\n",
       "    </tr>\n",
       "  </tbody>\n",
       "</table>\n",
       "<p>127 rows × 11 columns</p>\n",
       "</div>"
      ],
      "text/plain": [
       "      id                               escolas_postos              bairro  \\\n",
       "0    178  CENTRO INTEGRADO DE EDUCACAO PUBLICA HENFIL                CAJU   \n",
       "1    634                   EM ALICE DO AMARAL PEIXOTO             BENFICA   \n",
       "2    600                                   EM URUGUAI             BENFICA   \n",
       "3    483                           EM CELESTINO SILVA              CENTRO   \n",
       "4    490                                 EM TIA CIATA              CENTRO   \n",
       "..   ...                                          ...                 ...   \n",
       "137  210                   EM DEBORA MENDES DE MORAES  PEDRA DE GUARATIBA   \n",
       "138  289                               EM BERTHA LUTZ           GUARATIBA   \n",
       "139  474                  EM ENGENHEIRO GASTAO RANGEL           GUARATIBA   \n",
       "140  301                           EM JONATAS SERRANO           GUARATIBA   \n",
       "142  606                        EM PROFESSOR CASTILHO   ILHA DE GUARATIBA   \n",
       "\n",
       "                           endereço       lat       lon quantidade  \\\n",
       "0             RUA CARLOS SEIDL S/NO -22.88089 -43.22533         20   \n",
       "1                     RUA EBANO 187 -22.88957 -43.23620        121   \n",
       "2                  RUA ANA NERI 192 -22.89849 -43.23776        591   \n",
       "3              RUA  DO LAVRADIO  56 -22.90929 -43.18358        220   \n",
       "4    AVENIDA PRESIDENTE VARGAS S/NO -22.90712 -43.19507        578   \n",
       "..                              ...       ...       ...        ...   \n",
       "137     RUA BELCHIOR DA FONSECA 643 -23.00142 -43.63876        570   \n",
       "138            ESTRADA DO PIAI 2075 -22.97906 -43.67058        329   \n",
       "139        ESTRADA DO MAGARCA 9.183 -22.98046 -43.64354        320   \n",
       "140      ESTRADA DO MATO ALTO  S/NO -22.95316 -43.57741        335   \n",
       "142          CAMINHO DA MATRIZ 4406 -22.99412 -43.59368        521   \n",
       "\n",
       "    subprefeitura número logradouro tipo_escola  \n",
       "0          CENTRO   S/NO        RUA      CENTRO  \n",
       "1          CENTRO    187        RUA          EM  \n",
       "2          CENTRO    192        RUA          EM  \n",
       "3          CENTRO     56        RUA          EM  \n",
       "4          CENTRO   S/NO    AVENIDA          EM  \n",
       "..            ...    ...        ...         ...  \n",
       "137    ZONA OESTE    643        RUA          EM  \n",
       "138    ZONA OESTE   2075    ESTRADA          EM  \n",
       "139    ZONA OESTE  9.183    ESTRADA          EM  \n",
       "140    ZONA OESTE   S/NO    ESTRADA          EM  \n",
       "142    ZONA OESTE   4406    CAMINHO          EM  \n",
       "\n",
       "[127 rows x 11 columns]"
      ]
     },
     "execution_count": 38,
     "metadata": {},
     "output_type": "execute_result"
    }
   ],
   "source": [
    "table"
   ]
  },
  {
   "cell_type": "markdown",
   "metadata": {},
   "source": [
    "### Otimizador\n",
    "\n"
   ]
  },
  {
   "cell_type": "code",
   "execution_count": 39,
   "metadata": {},
   "outputs": [],
   "source": [
    "def distance(point1, point2):\n",
    "    \"\"\"\n",
    "    Calcula a distância entre dois pontos geográficos, usando a fórmula de Haversine.\n",
    "    \"\"\"\n",
    "    lat1, lon1 = point1\n",
    "    lat2, lon2 = point2\n",
    "    R = 6371  # raio da Terra em quilômetros\n",
    "    phi1 = math.radians(lat1)\n",
    "    phi2 = math.radians(lat2)\n",
    "    delta_phi = math.radians(lat2 - lat1)\n",
    "    delta_lambda = math.radians(lon2 - lon1)\n",
    "\n",
    "    a = (\n",
    "        math.sin(delta_phi / 2) ** 2\n",
    "        + math.cos(phi1) * math.cos(phi2) * math.sin(delta_lambda / 2) ** 2\n",
    "    )\n",
    "    c = 2 * math.atan2(math.sqrt(a), math.sqrt(1 - a))\n",
    "\n",
    "    d = R * c\n",
    "    return d"
   ]
  },
  {
   "cell_type": "code",
   "execution_count": 40,
   "metadata": {},
   "outputs": [],
   "source": [
    "def nearest_neighbor(points):\n",
    "    unvisited = set(range(1, len(points)))  # índices que representam os pontos não visitados\n",
    "    current_point = 0\n",
    "    route = [current_point]\n",
    "\n",
    "    while unvisited:\n",
    "        nearest = min(\n",
    "            unvisited, key=lambda x: distance(points[current_point], points[x])\n",
    "        )\n",
    "        route.append(nearest)\n",
    "        unvisited.remove(nearest)\n",
    "        current_point = nearest\n",
    "\n",
    "    #route.append(0)  # Volta ao ponto inicial para fechar o ciclo\n",
    "    return route"
   ]
  },
  {
   "cell_type": "code",
   "execution_count": 41,
   "metadata": {},
   "outputs": [],
   "source": [
    "# Definindo pontos_entrega\n",
    "pontos_entrega = list(zip(table['lat'], table['lon']))"
   ]
  },
  {
   "cell_type": "code",
   "execution_count": 42,
   "metadata": {},
   "outputs": [
    {
     "data": {
      "text/plain": [
       "[(-22.88089, -43.22533), (-22.88957, -43.2362), (-22.89849, -43.23776)]"
      ]
     },
     "execution_count": 42,
     "metadata": {},
     "output_type": "execute_result"
    }
   ],
   "source": [
    "# Visualizando o formato dos dados\n",
    "pontos_entrega[:3]"
   ]
  },
  {
   "cell_type": "code",
   "execution_count": 43,
   "metadata": {},
   "outputs": [
    {
     "name": "stdout",
     "output_type": "stream",
     "text": [
      "Melhor rota: [0, 1, 2, 5, 25, 7, 6, 10, 4, 3, 12, 20, 13, 18, 17, 11, 15, 14, 19, 8, 9, 31, 28, 29, 24, 26, 38, 39, 45, 40, 46, 67, 65, 63, 66, 64, 52, 51, 62, 61, 49, 50, 48, 78, 80, 44, 47, 69, 72, 89, 86, 77, 68, 87, 97, 88, 104, 76, 74, 75, 73, 82, 81, 84, 85, 105, 106, 83, 101, 100, 103, 102, 57, 60, 55, 108, 110, 53, 54, 56, 59, 109, 117, 115, 111, 112, 114, 113, 118, 116, 119, 58, 125, 126, 122, 124, 121, 123, 120, 93, 92, 96, 95, 90, 91, 99, 33, 37, 34, 32, 43, 42, 41, 30, 36, 35, 27, 22, 23, 21, 79, 107, 94, 71, 70, 16, 98]\n"
     ]
    }
   ],
   "source": [
    "# Calculando a melhor rota\n",
    "best_route = nearest_neighbor(pontos_entrega)\n",
    "print(\"Melhor rota:\", best_route)"
   ]
  },
  {
   "cell_type": "code",
   "execution_count": 44,
   "metadata": {},
   "outputs": [
    {
     "data": {
      "text/plain": [
       "127"
      ]
     },
     "execution_count": 44,
     "metadata": {},
     "output_type": "execute_result"
    }
   ],
   "source": [
    "len(best_route)"
   ]
  },
  {
   "cell_type": "markdown",
   "metadata": {},
   "source": [
    "### Arquivo CSV"
   ]
  },
  {
   "cell_type": "markdown",
   "metadata": {},
   "source": [
    "Como produto final, você deve entregar:\n",
    "- um arquivo csv no as linhas já estarão ordenas de acordo com a rota a ser seguida. Além disso, os dados devem estar no padrão especificado abaixo e contendo as seguintes colunas: id da escola, nome da escola, tipo da escola (EM, CIEP ou colégio), logradouro da entrega, número, bairro, subprefeitura, latitude, longitude e quantidade de material didático que deve ser entregue. O logradouro da escola deve estar em uma coluna diferente do número;\n",
    "- um arquivo csv com a quantidade total de material escolar por subprefeitura para que sejam contabilizados os custos por subprefeitura"
   ]
  },
  {
   "cell_type": "code",
   "execution_count": 45,
   "metadata": {},
   "outputs": [],
   "source": [
    "table['rota'] = best_route"
   ]
  },
  {
   "cell_type": "code",
   "execution_count": 46,
   "metadata": {},
   "outputs": [
    {
     "data": {
      "text/html": [
       "<div>\n",
       "<style scoped>\n",
       "    .dataframe tbody tr th:only-of-type {\n",
       "        vertical-align: middle;\n",
       "    }\n",
       "\n",
       "    .dataframe tbody tr th {\n",
       "        vertical-align: top;\n",
       "    }\n",
       "\n",
       "    .dataframe thead th {\n",
       "        text-align: right;\n",
       "    }\n",
       "</style>\n",
       "<table border=\"1\" class=\"dataframe\">\n",
       "  <thead>\n",
       "    <tr style=\"text-align: right;\">\n",
       "      <th></th>\n",
       "      <th>id</th>\n",
       "      <th>escolas_postos</th>\n",
       "      <th>bairro</th>\n",
       "      <th>endereço</th>\n",
       "      <th>lat</th>\n",
       "      <th>lon</th>\n",
       "      <th>quantidade</th>\n",
       "      <th>subprefeitura</th>\n",
       "      <th>número</th>\n",
       "      <th>logradouro</th>\n",
       "      <th>tipo_escola</th>\n",
       "      <th>rota</th>\n",
       "    </tr>\n",
       "  </thead>\n",
       "  <tbody>\n",
       "    <tr>\n",
       "      <th>0</th>\n",
       "      <td>178</td>\n",
       "      <td>CENTRO INTEGRADO DE EDUCACAO PUBLICA HENFIL</td>\n",
       "      <td>CAJU</td>\n",
       "      <td>RUA CARLOS SEIDL S/NO</td>\n",
       "      <td>-22.88089</td>\n",
       "      <td>-43.22533</td>\n",
       "      <td>20</td>\n",
       "      <td>CENTRO</td>\n",
       "      <td>S/NO</td>\n",
       "      <td>RUA</td>\n",
       "      <td>CENTRO</td>\n",
       "      <td>0</td>\n",
       "    </tr>\n",
       "    <tr>\n",
       "      <th>1</th>\n",
       "      <td>634</td>\n",
       "      <td>EM ALICE DO AMARAL PEIXOTO</td>\n",
       "      <td>BENFICA</td>\n",
       "      <td>RUA EBANO 187</td>\n",
       "      <td>-22.88957</td>\n",
       "      <td>-43.23620</td>\n",
       "      <td>121</td>\n",
       "      <td>CENTRO</td>\n",
       "      <td>187</td>\n",
       "      <td>RUA</td>\n",
       "      <td>EM</td>\n",
       "      <td>1</td>\n",
       "    </tr>\n",
       "    <tr>\n",
       "      <th>2</th>\n",
       "      <td>600</td>\n",
       "      <td>EM URUGUAI</td>\n",
       "      <td>BENFICA</td>\n",
       "      <td>RUA ANA NERI 192</td>\n",
       "      <td>-22.89849</td>\n",
       "      <td>-43.23776</td>\n",
       "      <td>591</td>\n",
       "      <td>CENTRO</td>\n",
       "      <td>192</td>\n",
       "      <td>RUA</td>\n",
       "      <td>EM</td>\n",
       "      <td>2</td>\n",
       "    </tr>\n",
       "    <tr>\n",
       "      <th>3</th>\n",
       "      <td>483</td>\n",
       "      <td>EM CELESTINO SILVA</td>\n",
       "      <td>CENTRO</td>\n",
       "      <td>RUA  DO LAVRADIO  56</td>\n",
       "      <td>-22.90929</td>\n",
       "      <td>-43.18358</td>\n",
       "      <td>220</td>\n",
       "      <td>CENTRO</td>\n",
       "      <td>56</td>\n",
       "      <td>RUA</td>\n",
       "      <td>EM</td>\n",
       "      <td>5</td>\n",
       "    </tr>\n",
       "  </tbody>\n",
       "</table>\n",
       "</div>"
      ],
      "text/plain": [
       "    id                               escolas_postos   bairro  \\\n",
       "0  178  CENTRO INTEGRADO DE EDUCACAO PUBLICA HENFIL     CAJU   \n",
       "1  634                   EM ALICE DO AMARAL PEIXOTO  BENFICA   \n",
       "2  600                                   EM URUGUAI  BENFICA   \n",
       "3  483                           EM CELESTINO SILVA   CENTRO   \n",
       "\n",
       "                endereço       lat       lon quantidade subprefeitura número  \\\n",
       "0  RUA CARLOS SEIDL S/NO -22.88089 -43.22533         20        CENTRO   S/NO   \n",
       "1          RUA EBANO 187 -22.88957 -43.23620        121        CENTRO    187   \n",
       "2       RUA ANA NERI 192 -22.89849 -43.23776        591        CENTRO    192   \n",
       "3   RUA  DO LAVRADIO  56 -22.90929 -43.18358        220        CENTRO     56   \n",
       "\n",
       "  logradouro tipo_escola  rota  \n",
       "0        RUA      CENTRO     0  \n",
       "1        RUA          EM     1  \n",
       "2        RUA          EM     2  \n",
       "3        RUA          EM     5  "
      ]
     },
     "execution_count": 46,
     "metadata": {},
     "output_type": "execute_result"
    }
   ],
   "source": [
    "table.head(4)"
   ]
  },
  {
   "cell_type": "code",
   "execution_count": 47,
   "metadata": {},
   "outputs": [],
   "source": [
    "# Ordenando as escolas de acordo com a rota\n",
    "rota = table.sort_values(by='rota').copy()"
   ]
  },
  {
   "cell_type": "markdown",
   "metadata": {},
   "source": [
    "O CSV final não deve conter a coluna endereço, como definido pelo exercício. Por isso, estamos removendo."
   ]
  },
  {
   "cell_type": "code",
   "execution_count": 48,
   "metadata": {},
   "outputs": [],
   "source": [
    "# Remover a coluna 'endereço'\n",
    "rota = rota.drop(columns=['endereço'])"
   ]
  },
  {
   "cell_type": "code",
   "execution_count": 49,
   "metadata": {},
   "outputs": [
    {
     "data": {
      "text/html": [
       "<div>\n",
       "<style scoped>\n",
       "    .dataframe tbody tr th:only-of-type {\n",
       "        vertical-align: middle;\n",
       "    }\n",
       "\n",
       "    .dataframe tbody tr th {\n",
       "        vertical-align: top;\n",
       "    }\n",
       "\n",
       "    .dataframe thead th {\n",
       "        text-align: right;\n",
       "    }\n",
       "</style>\n",
       "<table border=\"1\" class=\"dataframe\">\n",
       "  <thead>\n",
       "    <tr style=\"text-align: right;\">\n",
       "      <th></th>\n",
       "      <th>id</th>\n",
       "      <th>escolas_postos</th>\n",
       "      <th>bairro</th>\n",
       "      <th>lat</th>\n",
       "      <th>lon</th>\n",
       "      <th>quantidade</th>\n",
       "      <th>subprefeitura</th>\n",
       "      <th>número</th>\n",
       "      <th>logradouro</th>\n",
       "      <th>tipo_escola</th>\n",
       "      <th>rota</th>\n",
       "    </tr>\n",
       "  </thead>\n",
       "  <tbody>\n",
       "    <tr>\n",
       "      <th>0</th>\n",
       "      <td>178</td>\n",
       "      <td>CENTRO INTEGRADO DE EDUCACAO PUBLICA HENFIL</td>\n",
       "      <td>CAJU</td>\n",
       "      <td>-22.88089</td>\n",
       "      <td>-43.22533</td>\n",
       "      <td>20</td>\n",
       "      <td>CENTRO</td>\n",
       "      <td>S/NO</td>\n",
       "      <td>RUA</td>\n",
       "      <td>CENTRO</td>\n",
       "      <td>0</td>\n",
       "    </tr>\n",
       "    <tr>\n",
       "      <th>1</th>\n",
       "      <td>634</td>\n",
       "      <td>EM ALICE DO AMARAL PEIXOTO</td>\n",
       "      <td>BENFICA</td>\n",
       "      <td>-22.88957</td>\n",
       "      <td>-43.23620</td>\n",
       "      <td>121</td>\n",
       "      <td>CENTRO</td>\n",
       "      <td>187</td>\n",
       "      <td>RUA</td>\n",
       "      <td>EM</td>\n",
       "      <td>1</td>\n",
       "    </tr>\n",
       "    <tr>\n",
       "      <th>2</th>\n",
       "      <td>600</td>\n",
       "      <td>EM URUGUAI</td>\n",
       "      <td>BENFICA</td>\n",
       "      <td>-22.89849</td>\n",
       "      <td>-43.23776</td>\n",
       "      <td>591</td>\n",
       "      <td>CENTRO</td>\n",
       "      <td>192</td>\n",
       "      <td>RUA</td>\n",
       "      <td>EM</td>\n",
       "      <td>2</td>\n",
       "    </tr>\n",
       "    <tr>\n",
       "      <th>13</th>\n",
       "      <td>540</td>\n",
       "      <td>EM HENRIQUE DODSWORTH</td>\n",
       "      <td>IPANEMA</td>\n",
       "      <td>-22.98196</td>\n",
       "      <td>-43.21358</td>\n",
       "      <td>516</td>\n",
       "      <td>ZONA SUL</td>\n",
       "      <td>474</td>\n",
       "      <td>AVENIDA</td>\n",
       "      <td>EM</td>\n",
       "      <td>3</td>\n",
       "    </tr>\n",
       "    <tr>\n",
       "      <th>11</th>\n",
       "      <td>017</td>\n",
       "      <td>EM PRESIDENTE JOSE LINHARES</td>\n",
       "      <td>IPANEMA</td>\n",
       "      <td>-22.98333</td>\n",
       "      <td>-43.19904</td>\n",
       "      <td>48</td>\n",
       "      <td>ZONA SUL</td>\n",
       "      <td>90</td>\n",
       "      <td>RUA</td>\n",
       "      <td>EM</td>\n",
       "      <td>4</td>\n",
       "    </tr>\n",
       "  </tbody>\n",
       "</table>\n",
       "</div>"
      ],
      "text/plain": [
       "     id                               escolas_postos   bairro       lat  \\\n",
       "0   178  CENTRO INTEGRADO DE EDUCACAO PUBLICA HENFIL     CAJU -22.88089   \n",
       "1   634                   EM ALICE DO AMARAL PEIXOTO  BENFICA -22.88957   \n",
       "2   600                                   EM URUGUAI  BENFICA -22.89849   \n",
       "13  540                        EM HENRIQUE DODSWORTH  IPANEMA -22.98196   \n",
       "11  017                  EM PRESIDENTE JOSE LINHARES  IPANEMA -22.98333   \n",
       "\n",
       "         lon quantidade subprefeitura número logradouro tipo_escola  rota  \n",
       "0  -43.22533         20        CENTRO   S/NO        RUA      CENTRO     0  \n",
       "1  -43.23620        121        CENTRO    187        RUA          EM     1  \n",
       "2  -43.23776        591        CENTRO    192        RUA          EM     2  \n",
       "13 -43.21358        516      ZONA SUL    474    AVENIDA          EM     3  \n",
       "11 -43.19904         48      ZONA SUL     90        RUA          EM     4  "
      ]
     },
     "execution_count": 49,
     "metadata": {},
     "output_type": "execute_result"
    }
   ],
   "source": [
    "rota.head()"
   ]
  },
  {
   "cell_type": "code",
   "execution_count": 50,
   "metadata": {},
   "outputs": [],
   "source": [
    "# Salvar a rota em um arquivo CSV\n",
    "rota.to_csv('rota.csv', index=False)"
   ]
  },
  {
   "cell_type": "markdown",
   "metadata": {},
   "source": [
    "# DESAFIO ACEITO!"
   ]
  },
  {
   "cell_type": "code",
   "execution_count": null,
   "metadata": {},
   "outputs": [],
   "source": [
    "print(rota)"
   ]
  },
  {
   "cell_type": "markdown",
   "metadata": {},
   "source": [
    "Ao plotarmos o gráfico, observamos que os dados estavam com uma divergência de ordem de grandeza. Então, fomos em busca de identificar esse dado, pois até o index 120 era possível visualizar os todos os dados, mas a partir desse index... Ocorria o que está no gráfico a seguir:"
   ]
  },
  {
   "cell_type": "code",
   "execution_count": 64,
   "metadata": {},
   "outputs": [
    {
     "data": {
      "image/png": "[encoded data removed]",
      "text/plain": [
       "<Figure size 1000x600 with 1 Axes>"
      ]
     },
     "metadata": {},
     "output_type": "display_data"
    }
   ],
   "source": [
    "escola = rota.iloc[:]\n",
    "\n",
    "# Extrair coordenadas\n",
    "lat = escola['lat']\n",
    "lon = escola['lon']\n",
    "\n",
    "plt.figure(figsize=(10, 6))\n",
    "plt.scatter(lon, lat, color='blue', marker='o', s=50)\n",
    "\n",
    "plt.title('Escola')\n",
    "plt.xlabel('Longitude')\n",
    "plt.ylabel('Latitude')\n",
    "#plt.xlim(-43.36, -43.34)  # Ajuste os limites do eixo x conforme necessário\n",
    "#plt.ylim(-22.90, -22.88)  # Ajuste os limites do eixo y conforme necessário\n",
    "\n",
    "plt.grid(True)\n",
    "plt.show()"
   ]
  },
  {
   "cell_type": "markdown",
   "metadata": {},
   "source": [
    "Ao estudarmos os máximos e mínimos, comprovamos essa diferença de grandezas."
   ]
  },
  {
   "cell_type": "code",
   "execution_count": 65,
   "metadata": {},
   "outputs": [
    {
     "name": "stdout",
     "output_type": "stream",
     "text": [
      "-22896931.0 -22.74828\n",
      "-43352667.0 -43.16888\n"
     ]
    }
   ],
   "source": [
    "print(min(lat), max(lat))\n",
    "print(min(lon), max(lon))"
   ]
  },
  {
   "cell_type": "code",
   "execution_count": 66,
   "metadata": {},
   "outputs": [
    {
     "data": {
      "text/html": [
       "<div>\n",
       "<style scoped>\n",
       "    .dataframe tbody tr th:only-of-type {\n",
       "        vertical-align: middle;\n",
       "    }\n",
       "\n",
       "    .dataframe tbody tr th {\n",
       "        vertical-align: top;\n",
       "    }\n",
       "\n",
       "    .dataframe thead th {\n",
       "        text-align: right;\n",
       "    }\n",
       "</style>\n",
       "<table border=\"1\" class=\"dataframe\">\n",
       "  <thead>\n",
       "    <tr style=\"text-align: right;\">\n",
       "      <th></th>\n",
       "      <th>lat</th>\n",
       "      <th>lon</th>\n",
       "      <th>quantidade</th>\n",
       "      <th>rota</th>\n",
       "    </tr>\n",
       "  </thead>\n",
       "  <tbody>\n",
       "    <tr>\n",
       "      <th>count</th>\n",
       "      <td>1.270000e+02</td>\n",
       "      <td>1.270000e+02</td>\n",
       "      <td>127.000000</td>\n",
       "      <td>127.000000</td>\n",
       "    </tr>\n",
       "    <tr>\n",
       "      <th>mean</th>\n",
       "      <td>-1.803135e+05</td>\n",
       "      <td>-3.414026e+05</td>\n",
       "      <td>300.291339</td>\n",
       "      <td>63.000000</td>\n",
       "    </tr>\n",
       "    <tr>\n",
       "      <th>std</th>\n",
       "      <td>2.031772e+06</td>\n",
       "      <td>3.846923e+06</td>\n",
       "      <td>172.874765</td>\n",
       "      <td>36.805797</td>\n",
       "    </tr>\n",
       "    <tr>\n",
       "      <th>min</th>\n",
       "      <td>-2.289693e+07</td>\n",
       "      <td>-4.335267e+07</td>\n",
       "      <td>0.000000</td>\n",
       "      <td>0.000000</td>\n",
       "    </tr>\n",
       "    <tr>\n",
       "      <th>25%</th>\n",
       "      <td>-2.292685e+01</td>\n",
       "      <td>-4.346990e+01</td>\n",
       "      <td>155.000000</td>\n",
       "      <td>31.500000</td>\n",
       "    </tr>\n",
       "    <tr>\n",
       "      <th>50%</th>\n",
       "      <td>-2.289558e+01</td>\n",
       "      <td>-4.331472e+01</td>\n",
       "      <td>315.000000</td>\n",
       "      <td>63.000000</td>\n",
       "    </tr>\n",
       "    <tr>\n",
       "      <th>75%</th>\n",
       "      <td>-2.286556e+01</td>\n",
       "      <td>-4.324975e+01</td>\n",
       "      <td>456.000000</td>\n",
       "      <td>94.500000</td>\n",
       "    </tr>\n",
       "    <tr>\n",
       "      <th>max</th>\n",
       "      <td>-2.274828e+01</td>\n",
       "      <td>-4.316888e+01</td>\n",
       "      <td>599.000000</td>\n",
       "      <td>126.000000</td>\n",
       "    </tr>\n",
       "  </tbody>\n",
       "</table>\n",
       "</div>"
      ],
      "text/plain": [
       "                lat           lon  quantidade        rota\n",
       "count  1.270000e+02  1.270000e+02  127.000000  127.000000\n",
       "mean  -1.803135e+05 -3.414026e+05  300.291339   63.000000\n",
       "std    2.031772e+06  3.846923e+06  172.874765   36.805797\n",
       "min   -2.289693e+07 -4.335267e+07    0.000000    0.000000\n",
       "25%   -2.292685e+01 -4.346990e+01  155.000000   31.500000\n",
       "50%   -2.289558e+01 -4.331472e+01  315.000000   63.000000\n",
       "75%   -2.286556e+01 -4.324975e+01  456.000000   94.500000\n",
       "max   -2.274828e+01 -4.316888e+01  599.000000  126.000000"
      ]
     },
     "execution_count": 66,
     "metadata": {},
     "output_type": "execute_result"
    }
   ],
   "source": [
    "escola.describe()"
   ]
  },
  {
   "cell_type": "code",
   "execution_count": 67,
   "metadata": {},
   "outputs": [],
   "source": [
    "# Selecionado todas as grandezas com muita diferença pelo id\n",
    "id_maiores = escola.query(\"lat < -1e+02\")['id']"
   ]
  },
  {
   "cell_type": "code",
   "execution_count": 68,
   "metadata": {},
   "outputs": [],
   "source": [
    "# Removemos esses ids maiores\n",
    "escola = escola.drop(escola[escola['id'].isin(id_maiores)].index, axis=0)"
   ]
  },
  {
   "cell_type": "code",
   "execution_count": 69,
   "metadata": {},
   "outputs": [
    {
     "data": {
      "text/plain": [
       "count    125.000000\n",
       "mean     -22.898255\n",
       "std        0.048892\n",
       "min      -23.001420\n",
       "25%      -22.926840\n",
       "50%      -22.895580\n",
       "75%      -22.864590\n",
       "max      -22.748280\n",
       "Name: lat, dtype: float64"
      ]
     },
     "execution_count": 69,
     "metadata": {},
     "output_type": "execute_result"
    }
   ],
   "source": [
    "escola['lat'].describe()"
   ]
  },
  {
   "cell_type": "code",
   "execution_count": 52,
   "metadata": {},
   "outputs": [
    {
     "data": {
      "image/png": "[encoded data removed]",
      "text/plain": [
       "<Figure size 1000x600 with 1 Axes>"
      ]
     },
     "metadata": {},
     "output_type": "display_data"
    }
   ],
   "source": [
    "# Selecionar apenas a primeira escola\n",
    "escola = rota.iloc[0:120]\n",
    "\n",
    "# Extrair coordenadas da primeira escola\n",
    "lat = escola['lat']\n",
    "lon = escola['lon']\n",
    "\n",
    "# Plotar a primeira escola\n",
    "plt.figure(figsize=(10, 6))\n",
    "plt.scatter(lon, lat, color='blue', marker='o', s=50)\n",
    "\n",
    "# Adicionar título e rótulos dos eixos\n",
    "plt.title('Escola')\n",
    "plt.xlabel('Longitude')\n",
    "plt.ylabel('Latitude')\n",
    "\n",
    "# Exibir o gráfico\n",
    "plt.grid(True)\n",
    "plt.show()"
   ]
  },
  {
   "cell_type": "code",
   "execution_count": 53,
   "metadata": {},
   "outputs": [
    {
     "name": "stdout",
     "output_type": "stream",
     "text": [
      "-23.00142 -22.74828\n",
      "-43.69735 -43.16888\n"
     ]
    }
   ],
   "source": [
    "print(min(lat), max(lat))\n",
    "print(min(lon), max(lon))"
   ]
  },
  {
   "cell_type": "code",
   "execution_count": 57,
   "metadata": {},
   "outputs": [],
   "source": [
    "def extrair_numero_0(valor):\n",
    "    try:\n",
    "        return int(valor)\n",
    "    except ValueError:\n",
    "        return 0"
   ]
  },
  {
   "cell_type": "code",
   "execution_count": 61,
   "metadata": {},
   "outputs": [
    {
     "name": "stderr",
     "output_type": "stream",
     "text": [
      "/tmp/ipykernel_9622/4154821221.py:2: SettingWithCopyWarning: \n",
      "A value is trying to be set on a copy of a slice from a DataFrame.\n",
      "Try using .loc[row_indexer,col_indexer] = value instead\n",
      "\n",
      "See the caveats in the documentation: https://pandas.pydata.org/pandas-docs/stable/user_guide/indexing.html#returning-a-view-versus-a-copy\n",
      "  escola['quantidade'] = escola['quantidade'].apply(lambda x: extrair_numero_0(x))\n"
     ]
    },
    {
     "data": {
      "text/plain": [
       "array([ 20, 121, 591, 516,  48, 220,  67, 190, 308, 525, 473,   0,  92,\n",
       "       223, 319, 335, 573, 420, 111, 456, 517, 537, 579, 164, 578, 293,\n",
       "       207, 576,  63, 459, 445, 479, 571, 162, 362, 399, 185, 159, 106,\n",
       "       330, 158, 336, 342, 123, 489, 493, 109,  44, 513, 416, 317, 352,\n",
       "       257, 466, 393, 260, 457, 350, 365, 183, 440, 255, 262,  61, 468,\n",
       "       320, 329, 234, 316, 157, 296,  99,  24, 530, 504, 426, 151, 167,\n",
       "       292, 509,  71, 564, 435, 128, 194, 179, 570, 315, 599, 521, 269,\n",
       "       180, 561, 372, 210, 153, 341, 345, 136, 235, 187, 534, 115, 148,\n",
       "       152, 400, 430])"
      ]
     },
     "execution_count": 61,
     "metadata": {},
     "output_type": "execute_result"
    }
   ],
   "source": [
    "# Tranformando quantidade em um número\n",
    "escola['quantidade'] = escola['quantidade'].apply(lambda x: extrair_numero_0(x))\n",
    "escola['quantidade'].unique()"
   ]
  },
  {
   "cell_type": "code",
   "execution_count": 62,
   "metadata": {},
   "outputs": [
    {
     "data": {
      "image/png": "[encoded data removed]",
      "text/plain": [
       "<Figure size 1000x600 with 2 Axes>"
      ]
     },
     "metadata": {},
     "output_type": "display_data"
    },
    {
     "data": {
      "text/plain": [
       "<Figure size 640x480 with 0 Axes>"
      ]
     },
     "metadata": {},
     "output_type": "display_data"
    }
   ],
   "source": [
    "\n",
    "# Extrair coordenadas da primeira escola\n",
    "lat = escola['lat']\n",
    "lon = escola['lon']\n",
    "quantidade = escola['quantidade']\n",
    "\n",
    "\n",
    "# Plotar a primeira escola\n",
    "plt.figure(figsize=(10, 6))\n",
    "plt.scatter(lon, lat, c=quantidade, cmap='viridis', marker='o', s=50)\n",
    "\n",
    "# Adicionar uma barra de cores\n",
    "plt.colorbar(label='Quantidade')\n",
    "\n",
    "for i in range(1, len(escola)):\n",
    "    plt.plot([escola.iloc[i-1]['lon'], escola.iloc[i]['lon']],\n",
    "             [escola.iloc[i-1]['lat'], escola.iloc[i]['lat']],\n",
    "             color='lightgray', linestyle='-', linewidth=1, alpha=0.5)\n",
    "\n",
    "# Adicionar título e rótulos dos eixos\n",
    "plt.title('Escola')\n",
    "plt.xlabel('Longitude')\n",
    "plt.ylabel('Latitude')\n",
    "\n",
    "\n",
    "# Exibir o gráfico\n",
    "plt.grid(True)\n",
    "plt.show()\n",
    "\n",
    "plt.savefig('rota.png')"
   ]
  },
  {
   "cell_type": "code",
   "execution_count": null,
   "metadata": {},
   "outputs": [],
   "source": []
  }
 ],
 "metadata": {
  "kernelspec": {
   "display_name": "Python 3",
   "language": "python",
   "name": "python3"
  },
  "language_info": {
   "codemirror_mode": {
    "name": "ipython",
    "version": 3
   },
   "file_extension": ".py",
   "mimetype": "text/x-python",
   "name": "python",
   "nbconvert_exporter": "python",
   "pygments_lexer": "ipython3",
   "version": "3.8.10"
  }
 },
 "nbformat": 4,
 "nbformat_minor": 2
}
