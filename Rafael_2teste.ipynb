{
  "nbformat": 4,
  "nbformat_minor": 0,
  "metadata": {
    "colab": {
      "provenance": []
    },
    "kernelspec": {
      "name": "python3",
      "display_name": "Python 3"
    },
    "language_info": {
      "name": "python"
    }
  },
  "cells": [
    {
      "cell_type": "code",
      "execution_count": 38,
      "metadata": {
        "colab": {
          "base_uri": "https://localhost:8080/"
        },
        "id": "Usykzhxp7VkS",
        "outputId": "77d8543b-362c-4e2c-d7a0-97bc5a5b020a"
      },
      "outputs": [
        {
          "output_type": "stream",
          "name": "stdout",
          "text": [
            "Downloading...\n",
            "From: https://drive.google.com/uc?id=1UrFtHryRVNPhsJgIscgs_K9DZZRy1KM7\n",
            "To: /content/salaries.json\n",
            "\r  0% 0.00/2.42M [00:00<?, ?B/s]\r100% 2.42M/2.42M [00:00<00:00, 160MB/s]\n"
          ]
        }
      ],
      "source": [
        "!gdown \"https://drive.google.com/uc?id=1UrFtHryRVNPhsJgIscgs_K9DZZRy1KM7\""
      ]
    },
    {
      "cell_type": "code",
      "source": [
        "import json\n",
        "from functools import reduce"
      ],
      "metadata": {
        "id": "q3hvTo5M7df_"
      },
      "execution_count": 39,
      "outputs": []
    },
    {
      "cell_type": "code",
      "source": [
        "# Função para carregar os dados\n",
        "def carrega_dados(path:str) -> list[dict]:\n",
        "    try:\n",
        "        with open(path, 'r') as arquivo: # abre o arquivo especificado pelo caminho path no modo de leitura ('r')\n",
        "            dados = arquivo.read()\n",
        "            return json.loads(dados)\n",
        "    except FileNotFoundError: # ocorre quando o arquivo especificado em open() não é encontrado\n",
        "        return []"
      ],
      "metadata": {
        "id": "hdYMokLo7htr"
      },
      "execution_count": 40,
      "outputs": []
    },
    {
      "cell_type": "code",
      "source": [
        "dados = carrega_dados(\"salaries.json\")"
      ],
      "metadata": {
        "id": "6slrTyvU8uIS"
      },
      "execution_count": 41,
      "outputs": []
    },
    {
      "cell_type": "code",
      "source": [
        "grande_dicionario = {'SE': 'Senior', 'MI': 'Analista', 'EN': 'Junior', 'EX': 'Executivo', 'Tech Lead': 'Data Science', 'Practitioner': 'Data Science',\n",
        "    'Engineer': 'Data Science', 'Director': 'Data Science', 'Consultant': 'Data Science', 'Manager': 'Data Science', 'Managing Director': 'Data Science',\n",
        "    'Director': 'Data Science', 'Lead': 'Data Science','Head': 'Data Science', 'S': 'Pequena', 'M': 'Media', 'L': 'Grande', '2020':'2020', '2021': '2021', '2022' : '2022', '2023' :'2023' }"
      ],
      "metadata": {
        "id": "WG3UBEqML549"
      },
      "execution_count": 42,
      "outputs": []
    },
    {
      "cell_type": "code",
      "source": [
        "# filtrando por ano -> a saída de cada função será a entrada da próxima\n",
        "def filtro_ano(item, opc):\n",
        "    try:\n",
        "        if 'work_year' in item and item['work_year'] == opc:\n",
        "            return True\n",
        "        else:\n",
        "            return False\n",
        "    except Exception as e:\n",
        "        print(f'Erro no filtro de porte da empresa: {e}')\n",
        "        return False\n",
        "\n",
        "# |\n",
        "# v\n",
        "\n",
        "# filtra por nível de experiencia:\n",
        "def filtro_experiencia(item, opc):\n",
        "    try:\n",
        "        if 'experience_level' in item and item['experience_level'] == opc:\n",
        "            return True\n",
        "        else:\n",
        "            return False\n",
        "    except Exception as e:\n",
        "        print(f'Erro no filtro de nível de experiência: {e}')\n",
        "        return False\n",
        "\n",
        "# |\n",
        "# v\n",
        "\n",
        "# filtra por tipo de cargo\n",
        "def filtro_cargo(item, opc) -> list[dict]:\n",
        "    try:\n",
        "        if 'job_title' in item and item['job_title'] == opc:\n",
        "            return item\n",
        "        else:\n",
        "            raise ValueError('Filtro de cargo inválido.')\n",
        "    except Exception as e:\n",
        "        raise ValueError(f'Erro no filtro de cargo: {e}')\n",
        "\n",
        "# |\n",
        "# v\n",
        "\n",
        "# filtra por salário -> EM DÓLAR\n",
        "def filtro_salario(item, opc) -> list[dict]:\n",
        "    try:\n",
        "        if 'salary_in_usd' in item and item['salary_in_usd'] == opc:\n",
        "            return item\n",
        "        else:\n",
        "            raise ValueError('Filtro de salário inválido.')\n",
        "    except Exception as e:\n",
        "        raise ValueError(f'Erro no filtro de salário: {e}')\n",
        "\n",
        "# |\n",
        "# v\n",
        "\n",
        "# filtra por localização do funcionário\n",
        "def filtro_localizacao_funcionario(item, opc) -> list[dict]:\n",
        "    try:\n",
        "        if 'employee_residence' in item and item['employee_residence'] == opc:\n",
        "            return item\n",
        "        else:\n",
        "            raise ValueError('Filtro de localização do funcionário inválido.')\n",
        "    except Exception as e:\n",
        "        raise ValueError(f'Erro no filtro de localização do funcionário: {e}')\n",
        "\n",
        "# |\n",
        "# v\n",
        "\n",
        "# filtra por localização da empresa\n",
        "def filtro_localizacao_empresa(item, opc) -> list[dict]:\n",
        "    try:\n",
        "        if 'company_location' in item and item['company_location'] == opc:\n",
        "            return item\n",
        "        else:\n",
        "            raise ValueError('Filtro de localização da empresa inválido.')\n",
        "    except Exception as e:\n",
        "        raise ValueError(f'Erro no filtro de localização da empresa: {e}')\n",
        "\n",
        "# |\n",
        "# v\n",
        "\n",
        "# filtra por tamanho da empresa\n",
        "def filtro_porte_empresa(item, opc):\n",
        "    try:\n",
        "        if 'company_size' in item and item['company_size'] == opc:\n",
        "            return True\n",
        "        else:\n",
        "            return False\n",
        "    except Exception as e:\n",
        "        print(f'Erro no filtro de porte da empresa: {e}')\n",
        "        return False\n"
      ],
      "metadata": {
        "id": "UZRfPE_hFBC_"
      },
      "execution_count": 70,
      "outputs": []
    },
    {
      "cell_type": "markdown",
      "source": [
        "CODIGO COM AS FUNCOES JUNTAS"
      ],
      "metadata": {
        "id": "ftMigiE1MKnE"
      }
    },
    {
      "cell_type": "code",
      "source": [
        "experiencias = {'SE': 'Senior', 'MI': 'Analista', 'EN': 'Junior', 'EX': 'Executivo'}\n",
        "\n",
        "\n",
        "\n",
        "def obter_experiencia(experiencias, msg='Experiencia') -> str:\n",
        "    while True:\n",
        "        try:\n",
        "            opcoes = ' | '.join(f\"{chave} - {valor}\" for chave, valor in experiencias.items())\n",
        "            experiencia = input(f\"{msg} ({opcoes}): \")\n",
        "            if experiencia in experiencias:\n",
        "                break\n",
        "            else:\n",
        "                raise ValueError('Entrada Inválida! Dado não está na lista.')\n",
        "        except ValueError as e:\n",
        "            print(f'Erro: {e}\\n')\n",
        "    return experiencia\n",
        "\n",
        "# Chamar a função\n",
        "experiencia_escolhida = obter_experiencia(experiencias)\n",
        "\n",
        "# Calcular a contagem após escolher a experiência\n",
        "quantidade_ocorrencias = sum(1 for entrada in dados if entrada.get('experience_level') == experiencia_escolhida)\n",
        "\n",
        "# Calculo da media e print\n",
        "media_experiencia = sum(float(entrada.get('salary_in_usd', 0)) for entrada in dados if entrada.get('experience_level') == experiencia_escolhida) / quantidade_ocorrencias\n",
        "print(f'Experiência escolhida: {experiencias[experiencia_escolhida]}, obteve a contagem de {quantidade_ocorrencias}, a média salarial anual em USD é de: {media_experiencia}')"
      ],
      "metadata": {
        "id": "Zi3-G6kTMMEV"
      },
      "execution_count": null,
      "outputs": []
    },
    {
      "cell_type": "code",
      "source": [
        "tamanhos = {'S': 'Pequena', 'M': 'Media', 'L': 'Grande'}\n",
        "\n",
        "\n",
        "\n",
        "def obter_tamanho(tamanhos, msg='Tamanho') -> str:\n",
        "    while True:\n",
        "        try:\n",
        "            opcoes = ' | '.join(f\"{chave} - {valor}\" for chave, valor in tamanhos.items())\n",
        "            tamanho = input(f\"{msg} ({opcoes}): \")\n",
        "            if tamanho in tamanhos:\n",
        "                break\n",
        "            else:\n",
        "                raise ValueError('Entrada Inválida! Dado não está na lista.')\n",
        "        except ValueError as e:\n",
        "            print(f'Erro: {e}\\n')\n",
        "    return tamanho\n",
        "\n",
        "# Chamar a função\n",
        "tamanho_escolhido = obter_tamanho(tamanhos)\n",
        "\n",
        "# Calcular a contagem após escolher a experiência\n",
        "quantidade_ocorrencias_tam = sum(1 for entrada in dados if entrada.get('company_size') == tamanho_escolhido)\n",
        "\n",
        "# Calculo da media e print\n",
        "media_tamanho = sum(float(entrada.get('salary_in_usd', 0)) for entrada in dados if entrada.get('company_size') == tamanho_escolhido) / quantidade_ocorrencias_tam\n",
        "print(f'Tamanho das Empresas escolhido: {tamanhos[tamanho_escolhido]}, obteve a contagem de {quantidade_ocorrencias_tam}, a média salarial anual em USD é de: {media_tamanho}')"
      ],
      "metadata": {
        "id": "C-DGpOufMUeV"
      },
      "execution_count": null,
      "outputs": []
    },
    {
      "cell_type": "markdown",
      "source": [
        "CODIGOS COM AS FUNCOES SEPARADAS"
      ],
      "metadata": {
        "id": "YS-lk0ZUMlDe"
      }
    },
    {
      "cell_type": "code",
      "source": [
        "experiencias = {'SE': 'Senior', 'MI': 'Analista', 'EN': 'Junior', 'EX': 'Executivo'}\n",
        "\n",
        "def obter_experiencia(experiencias, msg='Experiencia') -> str:\n",
        "    while True:\n",
        "        try:\n",
        "            opcoes = ' | '.join(f\"{chave} - {valor}\" for chave, valor in experiencias.items())\n",
        "            entrada = input(f\"{msg} ({opcoes}): \")\n",
        "            if entrada in experiencias:\n",
        "                break\n",
        "            else:\n",
        "                raise ValueError('Entrada Inválida! Dado não está na lista.')\n",
        "        except ValueError as e:\n",
        "            print(f'Erro: {e}\\n')\n",
        "    return entrada"
      ],
      "metadata": {
        "id": "o5oizRcT7z-T"
      },
      "execution_count": 22,
      "outputs": []
    },
    {
      "cell_type": "code",
      "source": [
        "def calcular_media(dados, filtro):\n",
        "    # Filtrar dados com base na função de filtro\n",
        "    dados_filtrados = [float(e.get('salary_in_usd', 0)) for e in dados if filtro(e)]\n",
        "\n",
        "    # Calcular a média apenas se houver pelo menos uma ocorrência\n",
        "    if dados_filtrados:\n",
        "        media = sum(dados_filtrados) / len(dados_filtrados)\n",
        "        return media\n",
        "    else:\n",
        "        return None"
      ],
      "metadata": {
        "id": "YIOLQgbD8ICM"
      },
      "execution_count": 9,
      "outputs": []
    },
    {
      "cell_type": "code",
      "source": [
        "parametro_escolhido = obter_experiencia(experiencias)\n",
        "\n",
        "media = calcular_media(dados, lambda e: filtro_experiencia(e, parametro_escolhido))\n",
        "\n",
        "# Imprimir resultados\n",
        "if media is not None:\n",
        "    print(f'{grande_dicionario[parametro_escolhido]}, a média salarial anual em USD é de: {round(media, 2)}')\n",
        "else:\n",
        "    print(f'{grande_dicionario[parametro_escolhido]}, não há ocorrências para calcular a média salarial.')"
      ],
      "metadata": {
        "colab": {
          "base_uri": "https://localhost:8080/"
        },
        "id": "IpD0a8AW8NBA",
        "outputId": "ede99482-7834-474c-b8e7-c08fed6dc7af"
      },
      "execution_count": 23,
      "outputs": [
        {
          "output_type": "stream",
          "name": "stdout",
          "text": [
            "Experiencia (SE - Senior | MI - Analista | EN - Junior | EX - Executivo): SE\n",
            "Senior, a média salarial anual em USD é de: 161889.01\n"
          ]
        }
      ]
    },
    {
      "cell_type": "code",
      "source": [
        "tamanhos = {'S': 'Pequena', 'M': 'Media', 'L': 'Grande'}\n",
        "\n",
        "def obter_tamanho(tamanhos, msg='Tamanho') -> str:\n",
        "    while True:\n",
        "        try:\n",
        "            opcoes = ' | '.join(f\"{chave} - {valor}\" for chave, valor in tamanhos.items())\n",
        "            entrada = input(f\"{msg} ({opcoes}): \")\n",
        "            if entrada in tamanhos:\n",
        "                break\n",
        "            else:\n",
        "                raise ValueError('Entrada Inválida! Dado não está na lista.')\n",
        "        except ValueError as e:\n",
        "            print(f'Erro: {e}\\n')\n",
        "    return entrada"
      ],
      "metadata": {
        "id": "VCksSDq7GBo8"
      },
      "execution_count": 60,
      "outputs": []
    },
    {
      "cell_type": "code",
      "source": [
        "parametro_escolhido = obter_tamanho(tamanhos)\n",
        "\n",
        "media = calcular_media(dados, lambda e: filtro_porte_empresa(e, parametro_escolhido))\n",
        "\n",
        "# Imprimir resultados\n",
        "if media is not None:\n",
        "    print(f'{grande_dicionario[parametro_escolhido]}, a média salarial anual em USD é de: {round(media, 2)}')\n",
        "else:\n",
        "    print(f'{grande_dicionario[parametro_escolhido]}, não há ocorrências para calcular a média salarial.')"
      ],
      "metadata": {
        "colab": {
          "base_uri": "https://localhost:8080/"
        },
        "id": "iVxEKHpOGtDK",
        "outputId": "9c4439af-b8c0-465c-df1e-af812339181d"
      },
      "execution_count": 24,
      "outputs": [
        {
          "output_type": "stream",
          "name": "stdout",
          "text": [
            "Tamanho (S - Pequena x M - Media x L - Grande): S\n",
            "Pequena, a média salarial anual em USD é de: 91691.41\n"
          ]
        }
      ]
    },
    {
      "cell_type": "code",
      "source": [
        "anos = ['2020', '2021', '2022', '2023']\n",
        "\n",
        "def obter_ano(anos, msg='Ano') -> str:\n",
        "    while True:\n",
        "        try:\n",
        "            opcoes = ' | '.join(anos)\n",
        "            entrada = input(f\"{msg} ({opcoes}): \")\n",
        "            if entrada in anos:\n",
        "                break\n",
        "            else:\n",
        "                raise ValueError('Entrada Inválida! Dado não está na lista.')\n",
        "        except ValueError as e:\n",
        "            print(f'Erro: {e}\\n')\n",
        "\n",
        "    return entrada\n",
        "\n",
        "parametro_escolhido = obter_ano(anos)\n",
        "\n",
        "media = calcular_media(dados, lambda e: filtro_ano(e, parametro_escolhido))\n",
        "\n",
        "# Imprimir resultados\n",
        "if media is not None:\n",
        "    print(f'{grande_dicionario[parametro_escolhido]}, a média salarial anual em USD é de: {round(media, 2)}')\n",
        "else:\n",
        "    print(f'{grande_dicionario[parametro_escolhido]}, não há ocorrências para calcular a média salarial.')"
      ],
      "metadata": {
        "colab": {
          "base_uri": "https://localhost:8080/"
        },
        "id": "u3gatmz5Rkif",
        "outputId": "ec470a3a-21bb-4c09-d42a-df50644df5a4"
      },
      "execution_count": 80,
      "outputs": [
        {
          "output_type": "stream",
          "name": "stdout",
          "text": [
            "Ano (2020 | 2021 | 2022 | 2023): 2020\n",
            "2020, a média salarial anual em USD é de: 102250.87\n"
          ]
        }
      ]
    },
    {
      "cell_type": "code",
      "source": [
        "parametro_escolhido = obter_ano(anos)\n",
        "\n",
        "media = calcular_media(dados, lambda e: filtro_ano(e, parametro_escolhido))\n",
        "\n",
        "# Imprimir resultados\n",
        "if media is not None:\n",
        "    print(f'{grande_dicionario[parametro_escolhido]}, a média salarial anual em USD é de: {round(media, 2)}')\n",
        "else:\n",
        "    print(f'{grande_dicionario[parametro_escolhido]}, não há ocorrências para calcular a média salarial.')"
      ],
      "metadata": {
        "colab": {
          "base_uri": "https://localhost:8080/"
        },
        "id": "xsvV8uRURlmD",
        "outputId": "52770068-1e97-43eb-ce3c-0b2f32cb7323"
      },
      "execution_count": 79,
      "outputs": [
        {
          "output_type": "stream",
          "name": "stdout",
          "text": [
            "Ano (2020 | 2021 | 2022 | 2023): 2023\n",
            "2023, a média salarial anual em USD é de: 155198.49\n"
          ]
        }
      ]
    },
    {
      "cell_type": "code",
      "source": [
        "def menu()\n",
        "  input (str(\"Qual operacao deseja realizar? \"))"
      ],
      "metadata": {
        "id": "d1KzbSVOXoDs"
      },
      "execution_count": null,
      "outputs": []
    }
  ]
}